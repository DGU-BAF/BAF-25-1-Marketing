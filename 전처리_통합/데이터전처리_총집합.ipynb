{
 "cells": [
  {
   "cell_type": "code",
   "execution_count": null,
   "metadata": {},
   "outputs": [
    {
     "name": "stdout",
     "output_type": "stream",
     "text": [
      "d:\\공모전\\25-1 비어플\\빈집\\전처리_통합\n"
     ]
    }
   ],
   "source": [
    "import os\n",
    "print(os.getcwd())"
   ]
  },
  {
   "cell_type": "markdown",
   "metadata": {},
   "source": [
    "데이터는 현재 작업폴더속의 원본데이터, 결과데이터 하위폴더에 각각 보관돼있고 저장된다."
   ]
  },
  {
   "cell_type": "markdown",
   "metadata": {},
   "source": [
    "# 데이터 전처리 총집합"
   ]
  },
  {
   "cell_type": "markdown",
   "metadata": {},
   "source": [
    "1. 빈집정보알림e 빈집데이터 추출\n",
    "2. 전국 편의점 정보\n",
    "3. 전국 시장 정보\n",
    "4. 전국 영화관 정보\n",
    "5. 전국 병원 정보\n",
    "6. 전국 학교 정보\n",
    "7. 전국 공장 정보\n",
    "8. 전국 학원 정보\n",
    "9. 전국 경찰서 정보\n",
    "10. 전국 공원 정보\n",
    "11. 전국 버스정류장 정보\n",
    "12. 전국 경로당&마을회관 정보\n",
    "13. 전국 지하철역 정보\n",
    "14. 전국 기차역 정보\n",
    "15. 전국 고속버스터미널 정보\n",
    "16. 전국 은행 정보\n",
    "17. 전국 농기계대여소 정보\n",
    "18. 전국 농산물 직거래 판매장 정보\n",
    "19. 전국 차량정비소 정보\n",
    "20. 전국 읍,면,동사무소 정보\n",
    "21. 전국 요양원 정보\n",
    "22. 전국 농업기술센터, 행정복지센터 정보\n",
    "23. 전국 우체국 정보  \n",
    "---\n",
    "24. 전국 **공시지가, 실거래가** 정보\n",
    "25. 전국 농지매물 정보\n",
    "26. 위도경도 거리 계산, 반경 시설 개수 계산"
   ]
  },
  {
   "cell_type": "markdown",
   "metadata": {},
   "source": [
    "# 패키지 불러오기"
   ]
  },
  {
   "cell_type": "code",
   "execution_count": 3,
   "metadata": {},
   "outputs": [],
   "source": [
    "import pandas as pd\n",
    "import numpy as np\n",
    "import math\n",
    "\n",
    "import time\n",
    "#크롤링용\n",
    "import time\n",
    "from selenium import webdriver\n",
    "from selenium.webdriver.common.by import By\n",
    "from selenium.webdriver.support.ui import WebDriverWait, Select\n",
    "from selenium.webdriver.support import expected_conditions as EC\n",
    "import requests\n",
    "\n",
    "#네이버API\n",
    "from concurrent.futures import ThreadPoolExecutor"
   ]
  },
  {
   "cell_type": "markdown",
   "metadata": {},
   "source": [
    "# 사용자 지정 함수"
   ]
  },
  {
   "cell_type": "markdown",
   "metadata": {},
   "source": [
    "## 1) 주소 분할 - 사분할"
   ]
  },
  {
   "cell_type": "markdown",
   "metadata": {},
   "source": [
    "주로 지번주소일 경우"
   ]
  },
  {
   "cell_type": "code",
   "execution_count": 4,
   "metadata": {},
   "outputs": [],
   "source": [
    "# 네개로 분할하는 함수\n",
    "def split_full_address(addr):\n",
    "    if isinstance(addr, str):  # 문자열일 때만 처리\n",
    "        parts = addr.strip().split()\n",
    "        if len(parts) >= 4:\n",
    "            return pd.Series([parts[0], parts[1], parts[2], \" \".join(parts[3:])])\n",
    "        elif len(parts) == 3:\n",
    "            return pd.Series([parts[0], parts[1], parts[2], pd.NA]) #읍면동까지\n",
    "        elif len(parts) == 2:\n",
    "            return pd.Series([parts[0], parts[1], pd.NA, pd.NA]) #시군구까지\n",
    "        else:\n",
    "            return pd.Series([pd.NA, pd.NA, pd.NA, addr]) #나머지주소만 (기타)\n",
    "    else:\n",
    "        return pd.Series([pd.NA, pd.NA, pd.NA, pd.NA]) #주소가 없을 경우"
   ]
  },
  {
   "cell_type": "markdown",
   "metadata": {},
   "source": [
    "## 2) 주소 분할 - 삼분할"
   ]
  },
  {
   "cell_type": "markdown",
   "metadata": {},
   "source": [
    "주로 도로명 주소일 경우"
   ]
  },
  {
   "cell_type": "code",
   "execution_count": 5,
   "metadata": {},
   "outputs": [],
   "source": [
    "# 세개로 분할하는 함수\n",
    "def split_full_address_3(addr):\n",
    "    if isinstance(addr, str):  # 문자열일 때만 처리\n",
    "        parts = addr.strip().split()\n",
    "        if len(parts) >= 3:\n",
    "            return pd.Series([parts[0], parts[1], \" \".join(parts[2:])])\n",
    "        elif len(parts) == 2:\n",
    "            return pd.Series([parts[0], parts[1], pd.NA]) #시군구까지\n",
    "        else:\n",
    "            return pd.Series([pd.NA, pd.NA, addr]) #나머지주소만 (기타)\n",
    "    else:\n",
    "        return pd.Series([pd.NA, pd.NA, pd.NA]) #주소가 없을 경우"
   ]
  },
  {
   "cell_type": "markdown",
   "metadata": {},
   "source": [
    "## 3) 네이버 지도 API 좌표"
   ]
  },
  {
   "cell_type": "markdown",
   "metadata": {},
   "source": [
    "API키가 입력되있는 상태로, 금액이 청구될 수 있으니 주의해주세요"
   ]
  },
  {
   "cell_type": "code",
   "execution_count": 6,
   "metadata": {},
   "outputs": [],
   "source": [
    "# NAVER API 키\n",
    "API_KEY_ID = 'xatfhyujvl'        # API Key ID\n",
    "API_KEY = '1lZJ61ePs88EWUaFqFH48xr7VQBvrJU8Il13GjrI'  # API Key\n",
    "\n",
    "# 주소를 받아 위도, 경도 정보를 반환하는 함수\n",
    "def get_coordinates_from_address(address):\n",
    "    base_url = \"https://maps.apigw.ntruss.com/map-geocode/v2/geocode\"\n",
    "    params = {'query': address}\n",
    "    headers = {\n",
    "        'X-NCP-APIGW-API-KEY-ID': API_KEY_ID,\n",
    "        'X-NCP-APIGW-API-KEY': API_KEY,\n",
    "        'Accept': 'application/json'\n",
    "    }\n",
    "    \n",
    "    try:\n",
    "        response = requests.get(base_url, headers=headers, params=params)\n",
    "        if response.status_code == 200:\n",
    "            data = response.json()\n",
    "            if data.get('addresses'):\n",
    "                addr_info = data['addresses'][0]\n",
    "                return {'Latitude': addr_info.get('y', ''), 'Longitude': addr_info.get('x', '')}\n",
    "    except Exception as e:\n",
    "        print(f\"Error for address {address}: {e}\")\n",
    "    \n",
    "    # 실패 시 결측치 값 반환\n",
    "    return {'Latitude': pd.NA, 'Longitude': pd.NA}"
   ]
  },
  {
   "cell_type": "markdown",
   "metadata": {},
   "source": [
    "아래의 코드를 API를 사용할때마다 복사, 수정후 사용"
   ]
  },
  {
   "cell_type": "code",
   "execution_count": null,
   "metadata": {},
   "outputs": [],
   "source": [
    "# #주소 칼럼 입력\n",
    "# addresses = data['주소'].tolist()\n",
    "\n",
    "# # ThreadPoolExecutor를 이용해 동시 실행\n",
    "# ##하나씩 실행하면 느리다\n",
    "# with ThreadPoolExecutor(max_workers=100) as executor: #한번에 100개\n",
    "#     results = list(executor.map(get_coordinates_from_address, addresses))\n",
    "\n",
    "# # 결과를 DataFrame으로 변환 후 기존 DataFrame과 결합\n",
    "# df_coordinates = pd.DataFrame(results)\n",
    "# df_final = pd.concat([data.reset_index(drop=True), df_coordinates], axis=1)\n",
    "# print(df_final)"
   ]
  },
  {
   "cell_type": "markdown",
   "metadata": {},
   "source": [
    "# 1. 빈집정보알림e 빈집데이터 추출"
   ]
  },
  {
   "cell_type": "markdown",
   "metadata": {},
   "source": [
    "## 현재 이 사이트가 개편이 되어서 데이터를 더이상 추출할수가 없다."
   ]
  },
  {
   "cell_type": "markdown",
   "metadata": {},
   "source": [
    "http://binzibe.kr/binzib/binzibplatform/statisticInfo/binzibPublicInfoStatus.do  \n",
    "위의 사이트에서 빈집의 주소 목록을 동적 웹 크롤링을 통해 추출한다.  \n",
    "자세한 번지수는 기록되어있지 않으므로, 행정동의 최소 단위인 읍면동, 또는 리까지 있음에 유의하자."
   ]
  },
  {
   "cell_type": "markdown",
   "metadata": {},
   "source": [
    "## 크롤링 하기"
   ]
  },
  {
   "cell_type": "markdown",
   "metadata": {},
   "source": [
    "1. http://binzibe.kr/binzib/binzibplatform/statisticInfo/binzibPublicInfoStatus.do\n",
    "2. 동적웹크롤링으로 데이터 추출하기, 추출한 데이터는 데이터프레임으로 저장\n",
    "3. #content > section > div > div.left > div > div.contBtm > ul.contResult > li:nth-child(1) > ul > li:nth-child(1) > span의 정보를 텍스트로 불러오고 \"소재지\" 열에 저장\n",
    "4. #content > section > div > div.left > div > div.contBtm > ul.contResult > li:nth-child(1) > ul > li:nth-child(2) > span의 정보를 텍스트로 불러오고 \"주택유형\"열에 저장\n",
    "5. #content > section > div > div.left > div > div.contBtm > ul.contResult > li:nth-child(1) > ul > li:nth-child(3) > spand의 정보를 텍스트로 불러오고 \"등급\"열에 저장\n",
    "6. #content > section > div > div.left > div > div.contBtm > ul.contResult > li:nth-child(1) > ul > li:nth-child(4) > span의 정보를 텍스트로 불러오고 \"용도지역\"열에 저장\n",
    "7. #content > section > div > div.left > div > div.contBtm > ul.contResult > li:nth-child(20) > ul > li:nth-child(1) > span 이것처럼 한 페이지에 대략 20개의 정보가 들어있다. 이 20개의 정보를 동일한 과정을 통해 추출한다. 하지만 한 페이지에 정보가 20개보다 많을수도 적을수도 있다. 이런 예외사항이 있는 경우를 해결.\n",
    "8. 다 불러왔으면 다음 페이지로 넘어간다. #pagination-container > div > div > ul > li.paginationjs-next.J-paginationjs-next > a 이 버튼을 누르면 다음페이지로 넘어간다. 그리고 위의 작업을 반복한다. 그 페이지에서 작업이 다 끝났으면 다음 페이지로 넘어가기를 반복한다.\n",
    "9. 도중에 에러가 발생하여 코드가 작동이 멈출 수 있다. 따라서 10페이지 단위로 작업을 실행한다. 처음 10페이지까지 작업을 마쳤으면 이것을 csv파일로 저장, 이름은 temp_data_10.csv로 한다. 이후 11~20페이지까지 진행한 후 이 데이터를 temp_data_20.csv로 한다. 이 과정을 6434페이지까지 반복한다.(이 페이지가 마지막 페이지이다.) 코드가 다 실행이 된 후에 마지막으로 csv파일을 만드는 것이 아니라 코드가 실행되는 중간에 파일을 만들 수 있도록 한다. 이렇게 해야 에러가 나더라도 지금까지 만든 파일을 보고 다시 에러가 일어났던 페이지부터 작업을 반복할 수 있다.\n",
    "10. 따라서 내가 직접 시작할 페이지를 입력하는 기능도 넣는다. 하지만 내가 원하는 페이지를 한번에 이동할 수 없고 8번에 언급한 다음페이지로 넘어가는 버튼을 하나하나 누를 수 밖에 없다. 15페이지로 갈거면 현제 1페이지에서 버튼을 14번 눌러여 한다. 이것도 반영하여 코드를 작성한다.\n",
    "11. WebDriverWait함수를 사용하여 페이지가 빨리 로딩이 되지 않는 경우에 대처할 수 있게 한다."
   ]
  },
  {
   "cell_type": "markdown",
   "metadata": {},
   "source": [
    "### 작업에 320분이 걸리므로 함부로 실행하지 말것"
   ]
  },
  {
   "cell_type": "code",
   "execution_count": null,
   "metadata": {},
   "outputs": [],
   "source": [
    "# # 시작 페이지 번호와 마지막 페이지 번호\n",
    "# start_page = int(input(\"시작 페이지 번호: \")) #1페이지지\n",
    "# max_page = int(input(\"마지막 페이지 번호: \")) #3월 기준 6535페이지까지 존재\n",
    "\n",
    "# # Chrome WebDriver\n",
    "# driver = webdriver.Chrome()\n",
    "\n",
    "# # URL 접속\n",
    "# url = \"http://binzibe.kr/binzib/binzibplatform/statisticInfo/binzibPublicInfoStatus.do\"\n",
    "# driver.get(url)\n",
    "\n",
    "# # 콘텐츠 및 레코드 요소\n",
    "# content_locator = (By.CSS_SELECTOR, \"#content > section > div > div.left > div > div.contBtm > ul.contResult\")\n",
    "# record_locator = \"#content > section > div > div.left > div > div.contBtm > ul.contResult > li\"\n",
    "\n",
    "# # 초기 콘텐츠 로딩 대기\n",
    "# WebDriverWait(driver, 20).until(EC.presence_of_element_located(content_locator))\n",
    "# WebDriverWait(driver, 20).until(lambda d: len(d.find_elements(By.CSS_SELECTOR, record_locator)) > 0)\n",
    "\n",
    "# # 시작 페이지까지 이동 (현재 페이지 번호는 버튼을 클릭한 횟수로 기록)\n",
    "# current_page = 1\n",
    "# while current_page < start_page:\n",
    "#     next_buttons = driver.find_elements(By.CSS_SELECTOR,\n",
    "#         \"#pagination-container > div > div > ul > li.paginationjs-next.J-paginationjs-next > a\")\n",
    "#     if next_buttons:\n",
    "#         next_btn = next_buttons[0]\n",
    "#         next_btn.click()\n",
    "#         time.sleep(0.7)  # 0.7초 대기 후 페이지 정보 추출\n",
    "#         current_page += 1\n",
    "#     else:\n",
    "#         print(\"오류 발생\")\n",
    "#         driver.quit()\n",
    "#         exit()\n",
    "\n",
    "# data_list = []\n",
    "\n",
    "# while current_page <= max_page:\n",
    "#     print(f\"\\n현재 페이지: {current_page}\") #잘 진행되고있는지 확인용\n",
    "#     try:\n",
    "#         # 페이지 내 모든 요소들이 로드될 때까지 대기\n",
    "#         WebDriverWait(driver, 20).until(EC.presence_of_element_located(content_locator))\n",
    "#         WebDriverWait(driver, 20).until(lambda d: len(d.find_elements(By.CSS_SELECTOR, record_locator)) > 0)\n",
    "#     except Exception as e:\n",
    "#         print(f\"페이지 {current_page} 로딩 중 에러 발생: {e}\")\n",
    "\n",
    "#     record_elements = driver.find_elements(By.CSS_SELECTOR, record_locator)\n",
    "    \n",
    "#     for record in record_elements:\n",
    "#         try:\n",
    "#             inner_ul = record.find_element(By.TAG_NAME, \"ul\")\n",
    "#             location = inner_ul.find_element(By.CSS_SELECTOR, \"li:nth-child(1) > span\").text.strip() #주소\n",
    "#             house_type = inner_ul.find_element(By.CSS_SELECTOR, \"li:nth-child(2) > span\").text.strip() #주택유형\n",
    "#             grade = inner_ul.find_element(By.CSS_SELECTOR, \"li:nth-child(3) > span\").text.strip() #주택 등급\n",
    "#             usage_area = inner_ul.find_element(By.CSS_SELECTOR, \"li:nth-child(4) > span\").text.strip() #용도지역\n",
    "#         except Exception as inner_e:\n",
    "#             location, house_type, grade, usage_area = None, None, None, None #에러가 발생했거나 내용이 없는 경우\n",
    "        \n",
    "#         data_list.append({\n",
    "#             \"소재지\": location,\n",
    "#             \"주택유형\": house_type,\n",
    "#             \"등급\": grade,\n",
    "#             \"용도지역\": usage_area\n",
    "#         })\n",
    "    \n",
    "#     # 10페이지 단위로 CSV 파일 저장\n",
    "#     # 중간에 오류가 나더라도 이어서 진행할 수 있도록 (파일이 총 페이지수 / 10 개가 생성되므로 주의하자)\n",
    "#     if current_page % 10 == 0:\n",
    "#         df = pd.DataFrame(data_list)\n",
    "#         filename = f\"temp_data_{current_page}.csv\"\n",
    "#         df.to_csv(filename, index=False, encoding='utf-8-sig')\n",
    "    \n",
    "#     # 다음 페이지 버튼을 클릭하고 1.5초 후 다음 페이지 정보 추출 (사이트 로딩이 되기를 기다힘)\n",
    "#     next_buttons = driver.find_elements(By.CSS_SELECTOR,\n",
    "#         \"#pagination-container > div > div > ul > li.paginationjs-next.J-paginationjs-next > a\")\n",
    "#     if next_buttons:\n",
    "#         next_btn = next_buttons[0]\n",
    "#         next_btn.click()\n",
    "#         time.sleep(1.5)  # 다음 페이지 로딩을 위해 1.5초 대기\n",
    "#         current_page += 1\n",
    "#     else:\n",
    "#         print(f\"마지막 {current_page}페이지 이후 내용이 없어 종료\")\n",
    "#         break\n",
    "\n",
    "# driver.quit()"
   ]
  },
  {
   "cell_type": "markdown",
   "metadata": {},
   "source": [
    "최종적으로 653개의 csv파일, 총 3.7기가의 csv파일 생성  \n",
    "오류없이 잘 실행되었다면 temp_data_6530.csv에 모든 데이터가 들어있을 것"
   ]
  },
  {
   "cell_type": "markdown",
   "metadata": {},
   "source": [
    "## 전처리를 위해 최종 데이터 불러오기"
   ]
  },
  {
   "cell_type": "markdown",
   "metadata": {},
   "source": [
    "### 사이트가 개편되기전 추출한 전체 데이터이다."
   ]
  },
  {
   "cell_type": "code",
   "execution_count": null,
   "metadata": {},
   "outputs": [],
   "source": [
    "data=pd.read_csv(\"원본데이터/temp_data_6530.csv\", encoding='utf-8-sig')\n",
    "data.head()"
   ]
  },
  {
   "cell_type": "markdown",
   "metadata": {},
   "source": [
    "### 소재지 주소 전처리"
   ]
  },
  {
   "cell_type": "code",
   "execution_count": null,
   "metadata": {},
   "outputs": [],
   "source": [
    "# 주소 분리 함수\n",
    "def parse_address(address):\n",
    "    parts = address.split()\n",
    "    if len(parts) == 4: #4개로 분리된다면\n",
    "        시도, 시군구, 읍면동, 나머지 = parts\n",
    "        리 = pd.NA\n",
    "    elif len(parts) == 5:\n",
    "        시도, 시군구, 읍면동, 리, 나머지 = parts #5개로 분리된다면\n",
    "    else:\n",
    "        # 주소가 없다면\n",
    "        시도 = 시군구 = 읍면동 = 리 = 나머지 = pd.NA\n",
    "    return pd.Series([시도, 시군구, 읍면동, 리, 나머지])\n",
    "data[['시도', '시군구', '읍면동', '리', '나머지']] = data['소재지'].apply(parse_address)\n",
    "data.head()"
   ]
  },
  {
   "cell_type": "code",
   "execution_count": null,
   "metadata": {},
   "outputs": [],
   "source": [
    "#데이터 칼럼 순서 바꾸기\n",
    "data=data[[\"시도\",\"시군구\",\"읍면동\",\"리\",\"주택유형\",\"등급\",\"용도지역\"]]"
   ]
  },
  {
   "cell_type": "code",
   "execution_count": null,
   "metadata": {},
   "outputs": [],
   "source": [
    "#컬럼 영문명으로 바꾸기\n",
    "data.columns=[\"County\",\"City\",\"Town\",\"Village\",\"Housing_Type\",\"Grade\",\"Zoning\"]"
   ]
  },
  {
   "cell_type": "markdown",
   "metadata": {},
   "source": [
    "## 최종 데이터 저장"
   ]
  },
  {
   "cell_type": "code",
   "execution_count": null,
   "metadata": {},
   "outputs": [],
   "source": [
    "data.isna().sum()"
   ]
  },
  {
   "cell_type": "markdown",
   "metadata": {},
   "source": [
    "결측치도 Village(리)에만 존재하니 아무 문제 없다"
   ]
  },
  {
   "cell_type": "code",
   "execution_count": null,
   "metadata": {},
   "outputs": [],
   "source": [
    "data.to_csv(\"결과데이터/빈집데이터_빈집정보알림e.csv\",index=False,encoding='utf-8-sig')"
   ]
  },
  {
   "cell_type": "markdown",
   "metadata": {},
   "source": [
    "## 추가 : 호남, 영남지방 데이터만 추출"
   ]
  },
  {
   "cell_type": "code",
   "execution_count": 6,
   "metadata": {},
   "outputs": [
    {
     "data": {
      "text/plain": [
       "array(['대구광역시', '인천광역시', '광주광역시', '부산광역시', '경상북도', '서울특별시', '대전광역시',\n",
       "       '충청북도', '전북특별자치도', '전라남도', '충청남도', '경상남도', '경기도', '울산광역시',\n",
       "       '제주특별자치도', '강원특별자치도', '세종특별자치시'], dtype=object)"
      ]
     },
     "execution_count": 6,
     "metadata": {},
     "output_type": "execute_result"
    }
   ],
   "source": [
    "data.County.unique()"
   ]
  },
  {
   "cell_type": "markdown",
   "metadata": {},
   "source": [
    "대구광역시, 광주광역시, 부산광역시, 경상북도, 전북특별자치도, 전라남도, 경상남도, 울산광역시 지역만 추출하자"
   ]
  },
  {
   "cell_type": "code",
   "execution_count": 7,
   "metadata": {},
   "outputs": [
    {
     "data": {
      "text/html": [
       "<div>\n",
       "<style scoped>\n",
       "    .dataframe tbody tr th:only-of-type {\n",
       "        vertical-align: middle;\n",
       "    }\n",
       "\n",
       "    .dataframe tbody tr th {\n",
       "        vertical-align: top;\n",
       "    }\n",
       "\n",
       "    .dataframe thead th {\n",
       "        text-align: right;\n",
       "    }\n",
       "</style>\n",
       "<table border=\"1\" class=\"dataframe\">\n",
       "  <thead>\n",
       "    <tr style=\"text-align: right;\">\n",
       "      <th></th>\n",
       "      <th>County</th>\n",
       "      <th>City</th>\n",
       "      <th>Town</th>\n",
       "      <th>Village</th>\n",
       "      <th>Housing_Type</th>\n",
       "      <th>Grade</th>\n",
       "      <th>Zoning</th>\n",
       "    </tr>\n",
       "  </thead>\n",
       "  <tbody>\n",
       "    <tr>\n",
       "      <th>0</th>\n",
       "      <td>대구광역시</td>\n",
       "      <td>달서구</td>\n",
       "      <td>감삼동</td>\n",
       "      <td>NaN</td>\n",
       "      <td>다가구주택</td>\n",
       "      <td>2등급(구)</td>\n",
       "      <td>제2종일반주거지역</td>\n",
       "    </tr>\n",
       "    <tr>\n",
       "      <th>1</th>\n",
       "      <td>대구광역시</td>\n",
       "      <td>달서구</td>\n",
       "      <td>두류동</td>\n",
       "      <td>NaN</td>\n",
       "      <td>단독주택</td>\n",
       "      <td>1등급(구)</td>\n",
       "      <td>제2종일반주거지역</td>\n",
       "    </tr>\n",
       "    <tr>\n",
       "      <th>2</th>\n",
       "      <td>대구광역시</td>\n",
       "      <td>달서구</td>\n",
       "      <td>성당동</td>\n",
       "      <td>NaN</td>\n",
       "      <td>단독주택</td>\n",
       "      <td>1등급(구)</td>\n",
       "      <td>제2종일반주거지역</td>\n",
       "    </tr>\n",
       "    <tr>\n",
       "      <th>3</th>\n",
       "      <td>대구광역시</td>\n",
       "      <td>달서구</td>\n",
       "      <td>두류동</td>\n",
       "      <td>NaN</td>\n",
       "      <td>단독주택</td>\n",
       "      <td>2등급(구)</td>\n",
       "      <td>제2종일반주거지역</td>\n",
       "    </tr>\n",
       "    <tr>\n",
       "      <th>4</th>\n",
       "      <td>대구광역시</td>\n",
       "      <td>달서구</td>\n",
       "      <td>월암동</td>\n",
       "      <td>NaN</td>\n",
       "      <td>단독주택</td>\n",
       "      <td>4등급(구)</td>\n",
       "      <td>제3종일반주거지역</td>\n",
       "    </tr>\n",
       "  </tbody>\n",
       "</table>\n",
       "</div>"
      ],
      "text/plain": [
       "  County City Town Village Housing_Type   Grade     Zoning\n",
       "0  대구광역시  달서구  감삼동     NaN        다가구주택  2등급(구)  제2종일반주거지역\n",
       "1  대구광역시  달서구  두류동     NaN         단독주택  1등급(구)  제2종일반주거지역\n",
       "2  대구광역시  달서구  성당동     NaN         단독주택  1등급(구)  제2종일반주거지역\n",
       "3  대구광역시  달서구  두류동     NaN         단독주택  2등급(구)  제2종일반주거지역\n",
       "4  대구광역시  달서구  월암동     NaN         단독주택  4등급(구)  제3종일반주거지역"
      ]
     },
     "execution_count": 7,
     "metadata": {},
     "output_type": "execute_result"
    }
   ],
   "source": [
    "#지역 리스트\n",
    "target_counties = ['대구광역시', '광주광역시', '부산광역시','경상북도', '전북특별자치도', '전라남도','경상남도', '울산광역시']\n",
    "data_filtered = data[data['County'].isin(target_counties)].reset_index(drop=True)\n",
    "data_filtered.head()"
   ]
  },
  {
   "cell_type": "code",
   "execution_count": 9,
   "metadata": {},
   "outputs": [
    {
     "data": {
      "text/plain": [
       "array(['대구광역시', '광주광역시', '부산광역시', '경상북도', '전북특별자치도', '전라남도', '경상남도',\n",
       "       '울산광역시'], dtype=object)"
      ]
     },
     "execution_count": 9,
     "metadata": {},
     "output_type": "execute_result"
    }
   ],
   "source": [
    "data_filtered.County.unique()"
   ]
  },
  {
   "cell_type": "markdown",
   "metadata": {},
   "source": [
    "잘 추출되었다."
   ]
  },
  {
   "cell_type": "markdown",
   "metadata": {},
   "source": [
    "## 네이버 지도 API"
   ]
  },
  {
   "cell_type": "markdown",
   "metadata": {},
   "source": [
    "각 주소에 대응되는 좌표 데이터 결합"
   ]
  },
  {
   "cell_type": "code",
   "execution_count": 24,
   "metadata": {},
   "outputs": [
    {
     "data": {
      "text/html": [
       "<div>\n",
       "<style scoped>\n",
       "    .dataframe tbody tr th:only-of-type {\n",
       "        vertical-align: middle;\n",
       "    }\n",
       "\n",
       "    .dataframe tbody tr th {\n",
       "        vertical-align: top;\n",
       "    }\n",
       "\n",
       "    .dataframe thead th {\n",
       "        text-align: right;\n",
       "    }\n",
       "</style>\n",
       "<table border=\"1\" class=\"dataframe\">\n",
       "  <thead>\n",
       "    <tr style=\"text-align: right;\">\n",
       "      <th></th>\n",
       "      <th>County</th>\n",
       "      <th>City</th>\n",
       "      <th>Town</th>\n",
       "      <th>Village</th>\n",
       "      <th>Housing_Type</th>\n",
       "      <th>Grade</th>\n",
       "      <th>Zoning</th>\n",
       "      <th>전체주소</th>\n",
       "    </tr>\n",
       "  </thead>\n",
       "  <tbody>\n",
       "    <tr>\n",
       "      <th>0</th>\n",
       "      <td>대구광역시</td>\n",
       "      <td>달서구</td>\n",
       "      <td>감삼동</td>\n",
       "      <td>NaN</td>\n",
       "      <td>다가구주택</td>\n",
       "      <td>2등급(구)</td>\n",
       "      <td>제2종일반주거지역</td>\n",
       "      <td>대구광역시 달서구 감삼동</td>\n",
       "    </tr>\n",
       "  </tbody>\n",
       "</table>\n",
       "</div>"
      ],
      "text/plain": [
       "  County City Town Village Housing_Type   Grade     Zoning            전체주소\n",
       "0  대구광역시  달서구  감삼동     NaN        다가구주택  2등급(구)  제2종일반주거지역  대구광역시 달서구 감삼동 "
      ]
     },
     "execution_count": 24,
     "metadata": {},
     "output_type": "execute_result"
    }
   ],
   "source": [
    "data_filtered[\"전체주소\"]=data_filtered[\"County\"]+\" \"+data_filtered[\"City\"]+\" \"+data_filtered[\"Town\"]+\" \"+data_filtered[\"Village\"].fillna(\"\")\n",
    "data_filtered.head(1)"
   ]
  },
  {
   "cell_type": "markdown",
   "metadata": {},
   "source": [
    "API용 \"전체주소\"컬럼 생성"
   ]
  },
  {
   "cell_type": "code",
   "execution_count": 26,
   "metadata": {},
   "outputs": [
    {
     "name": "stdout",
     "output_type": "stream",
     "text": [
      "        County City Town Village Housing_Type   Grade     Zoning  \\\n",
      "0        대구광역시  달서구  감삼동     NaN        다가구주택  2등급(구)  제2종일반주거지역   \n",
      "1        대구광역시  달서구  두류동     NaN         단독주택  1등급(구)  제2종일반주거지역   \n",
      "2        대구광역시  달서구  성당동     NaN         단독주택  1등급(구)  제2종일반주거지역   \n",
      "3        대구광역시  달서구  두류동     NaN         단독주택  2등급(구)  제2종일반주거지역   \n",
      "4        대구광역시  달서구  월암동     NaN         단독주택  4등급(구)  제3종일반주거지역   \n",
      "...        ...  ...  ...     ...          ...     ...        ...   \n",
      "84801  전북특별자치도  정읍시  입암면     연월리         단독주택    특정빈집          -   \n",
      "84802  전북특별자치도  정읍시  입암면     연월리         단독주택    일반빈집          -   \n",
      "84803  전북특별자치도  정읍시  입암면     연월리         단독주택    일반빈집          -   \n",
      "84804  전북특별자치도  정읍시  입암면     연월리         단독주택    일반빈집          -   \n",
      "84805  전북특별자치도  정읍시  입암면     연월리         단독주택    특정빈집          -   \n",
      "\n",
      "                      전체주소   Latitude   Longitude  \n",
      "0           대구광역시 달서구 감삼동   35.849186  128.540694  \n",
      "1           대구광역시 달서구 두류동     35.8541    128.5617  \n",
      "2           대구광역시 달서구 성당동   35.840586  128.553099  \n",
      "3           대구광역시 달서구 두류동     35.8541    128.5617  \n",
      "4           대구광역시 달서구 월암동    35.82875  128.510563  \n",
      "...                    ...        ...         ...  \n",
      "84801  전북특별자치도 정읍시 입암면 연월리    35.4824    126.7781  \n",
      "84802  전북특별자치도 정읍시 입암면 연월리    35.4824    126.7781  \n",
      "84803  전북특별자치도 정읍시 입암면 연월리    35.4824    126.7781  \n",
      "84804  전북특별자치도 정읍시 입암면 연월리    35.4824    126.7781  \n",
      "84805  전북특별자치도 정읍시 입암면 연월리    35.4824    126.7781  \n",
      "\n",
      "[84806 rows x 10 columns]\n"
     ]
    }
   ],
   "source": [
    "# 기존 DataFrame의 '전체주소' 컬럼을 리스트로 변환\n",
    "addresses = data_filtered['전체주소'].tolist()\n",
    "\n",
    "# ThreadPoolExecutor를 이용해 동시 실행\n",
    "with ThreadPoolExecutor(max_workers=100) as executor:\n",
    "    results = list(executor.map(get_coordinates_from_address, addresses))\n",
    "\n",
    "# 결과를 DataFrame으로 변환 후 기존 DataFrame과 결합\n",
    "df_coordinates = pd.DataFrame(results)\n",
    "df_final = pd.concat([data_filtered.reset_index(drop=True), df_coordinates], axis=1)\n",
    "print(df_final)"
   ]
  },
  {
   "cell_type": "code",
   "execution_count": 34,
   "metadata": {},
   "outputs": [
    {
     "data": {
      "text/plain": [
       "County              0\n",
       "City                0\n",
       "Town                0\n",
       "Village         32250\n",
       "Housing_Type        0\n",
       "Grade               0\n",
       "Zoning              0\n",
       "전체주소                0\n",
       "Latitude            2\n",
       "Longitude           2\n",
       "dtype: int64"
      ]
     },
     "execution_count": 34,
     "metadata": {},
     "output_type": "execute_result"
    }
   ],
   "source": [
    "df_final.isna().sum()"
   ]
  },
  {
   "cell_type": "markdown",
   "metadata": {},
   "source": [
    "두개의 좌표빼고 전부 들었다. 구글 지도를 통해 수작업으로 추가하자"
   ]
  },
  {
   "cell_type": "code",
   "execution_count": 33,
   "metadata": {},
   "outputs": [],
   "source": [
    "df_final[[\"Latitude\",\"Longitude\"]]=df_final[[\"Latitude\",\"Longitude\"]].apply(pd.to_numeric, errors='coerce')"
   ]
  },
  {
   "cell_type": "markdown",
   "metadata": {},
   "source": [
    "좌표를 숫자형으로 전환"
   ]
  },
  {
   "cell_type": "code",
   "execution_count": 44,
   "metadata": {},
   "outputs": [
    {
     "data": {
      "text/html": [
       "<div>\n",
       "<style scoped>\n",
       "    .dataframe tbody tr th:only-of-type {\n",
       "        vertical-align: middle;\n",
       "    }\n",
       "\n",
       "    .dataframe tbody tr th {\n",
       "        vertical-align: top;\n",
       "    }\n",
       "\n",
       "    .dataframe thead th {\n",
       "        text-align: right;\n",
       "    }\n",
       "</style>\n",
       "<table border=\"1\" class=\"dataframe\">\n",
       "  <thead>\n",
       "    <tr style=\"text-align: right;\">\n",
       "      <th></th>\n",
       "      <th>County</th>\n",
       "      <th>City</th>\n",
       "      <th>Town</th>\n",
       "      <th>Village</th>\n",
       "      <th>Housing_Type</th>\n",
       "      <th>Grade</th>\n",
       "      <th>Zoning</th>\n",
       "      <th>전체주소</th>\n",
       "      <th>Latitude</th>\n",
       "      <th>Longitude</th>\n",
       "    </tr>\n",
       "  </thead>\n",
       "  <tbody>\n",
       "    <tr>\n",
       "      <th>28528</th>\n",
       "      <td>대구광역시</td>\n",
       "      <td>달서구</td>\n",
       "      <td>상인동</td>\n",
       "      <td>NaN</td>\n",
       "      <td>단독주택</td>\n",
       "      <td>3등급(구)</td>\n",
       "      <td>제2종일반주거지역</td>\n",
       "      <td>대구광역시 달서구 상인동</td>\n",
       "      <td>NaN</td>\n",
       "      <td>NaN</td>\n",
       "    </tr>\n",
       "    <tr>\n",
       "      <th>44280</th>\n",
       "      <td>경상북도</td>\n",
       "      <td>예천군</td>\n",
       "      <td>용문면</td>\n",
       "      <td>두천리</td>\n",
       "      <td>단독주택</td>\n",
       "      <td>2등급(신)</td>\n",
       "      <td>계획관리지역</td>\n",
       "      <td>경상북도 예천군 용문면 두천리</td>\n",
       "      <td>NaN</td>\n",
       "      <td>NaN</td>\n",
       "    </tr>\n",
       "  </tbody>\n",
       "</table>\n",
       "</div>"
      ],
      "text/plain": [
       "      County City Town Village Housing_Type   Grade     Zoning  \\\n",
       "28528  대구광역시  달서구  상인동     NaN         단독주택  3등급(구)  제2종일반주거지역   \n",
       "44280   경상북도  예천군  용문면     두천리         단독주택  2등급(신)     계획관리지역   \n",
       "\n",
       "                   전체주소  Latitude  Longitude  \n",
       "28528    대구광역시 달서구 상인동        NaN        NaN  \n",
       "44280  경상북도 예천군 용문면 두천리       NaN        NaN  "
      ]
     },
     "execution_count": 44,
     "metadata": {},
     "output_type": "execute_result"
    }
   ],
   "source": [
    "df_final[df_final['Latitude'].isna() | df_final['Longitude'].isna()]"
   ]
  },
  {
   "cell_type": "code",
   "execution_count": 46,
   "metadata": {},
   "outputs": [
    {
     "data": {
      "text/html": [
       "<div>\n",
       "<style scoped>\n",
       "    .dataframe tbody tr th:only-of-type {\n",
       "        vertical-align: middle;\n",
       "    }\n",
       "\n",
       "    .dataframe tbody tr th {\n",
       "        vertical-align: top;\n",
       "    }\n",
       "\n",
       "    .dataframe thead th {\n",
       "        text-align: right;\n",
       "    }\n",
       "</style>\n",
       "<table border=\"1\" class=\"dataframe\">\n",
       "  <thead>\n",
       "    <tr style=\"text-align: right;\">\n",
       "      <th></th>\n",
       "      <th>County</th>\n",
       "      <th>City</th>\n",
       "      <th>Town</th>\n",
       "      <th>Village</th>\n",
       "      <th>Housing_Type</th>\n",
       "      <th>Grade</th>\n",
       "      <th>Zoning</th>\n",
       "      <th>전체주소</th>\n",
       "      <th>Latitude</th>\n",
       "      <th>Longitude</th>\n",
       "    </tr>\n",
       "  </thead>\n",
       "  <tbody>\n",
       "    <tr>\n",
       "      <th>28528</th>\n",
       "      <td>대구광역시</td>\n",
       "      <td>달서구</td>\n",
       "      <td>상인동</td>\n",
       "      <td>NaN</td>\n",
       "      <td>단독주택</td>\n",
       "      <td>3등급(구)</td>\n",
       "      <td>제2종일반주거지역</td>\n",
       "      <td>대구광역시 달서구 상인동</td>\n",
       "      <td>35.813698</td>\n",
       "      <td>128.554675</td>\n",
       "    </tr>\n",
       "    <tr>\n",
       "      <th>44280</th>\n",
       "      <td>경상북도</td>\n",
       "      <td>예천군</td>\n",
       "      <td>용문면</td>\n",
       "      <td>두천리</td>\n",
       "      <td>단독주택</td>\n",
       "      <td>2등급(신)</td>\n",
       "      <td>계획관리지역</td>\n",
       "      <td>경상북도 예천군 용문면 두천리</td>\n",
       "      <td>36.701922</td>\n",
       "      <td>128.348774</td>\n",
       "    </tr>\n",
       "  </tbody>\n",
       "</table>\n",
       "</div>"
      ],
      "text/plain": [
       "      County City Town Village Housing_Type   Grade     Zoning  \\\n",
       "28528  대구광역시  달서구  상인동     NaN         단독주택  3등급(구)  제2종일반주거지역   \n",
       "44280   경상북도  예천군  용문면     두천리         단독주택  2등급(신)     계획관리지역   \n",
       "\n",
       "                   전체주소   Latitude   Longitude  \n",
       "28528    대구광역시 달서구 상인동   35.813698  128.554675  \n",
       "44280  경상북도 예천군 용문면 두천리  36.701922  128.348774  "
      ]
     },
     "execution_count": 46,
     "metadata": {},
     "output_type": "execute_result"
    }
   ],
   "source": [
    "df_final.loc[28528, [\"Latitude\", \"Longitude\"]]=[35.813698, 128.554675]\n",
    "df_final.loc[44280, [\"Latitude\", \"Longitude\"]]=[36.701922, 128.348774]\n",
    "df_final.loc[[28528, 44280]]"
   ]
  },
  {
   "cell_type": "markdown",
   "metadata": {},
   "source": [
    "## 추출된 데이터 저장"
   ]
  },
  {
   "cell_type": "code",
   "execution_count": 47,
   "metadata": {},
   "outputs": [],
   "source": [
    "df_final.drop(columns=[\"전체주소\"], inplace=True, axis=1)"
   ]
  },
  {
   "cell_type": "code",
   "execution_count": null,
   "metadata": {},
   "outputs": [],
   "source": [
    "df_final.to_csv(\"결과데이터/빈집데이터_빈집정보알림e_영남호남지역.csv\",index=False,encoding='utf-8-sig')"
   ]
  },
  {
   "cell_type": "markdown",
   "metadata": {},
   "source": [
    "# 2. 전국 편의점 정보"
   ]
  },
  {
   "cell_type": "markdown",
   "metadata": {},
   "source": [
    "http://www.safemap.go.kr/openApiService/data/getConvenienceStoreData.do  \n",
    "공공데이터 포털에서 API를 이용해 불러온다  \n",
    "인증키 : HNPHPFLS-HNPH-HNPH-HNPH-HNPHPFLS1K  "
   ]
  },
  {
   "cell_type": "markdown",
   "metadata": {},
   "source": [
    "## 편의점 API 실행"
   ]
  },
  {
   "cell_type": "code",
   "execution_count": null,
   "metadata": {},
   "outputs": [],
   "source": [
    "#설정값\n",
    "service_key = \"HNPHPFLS-HNPH-HNPH-HNPH-HNPHPFLS1K\"  # 인증키\n",
    "base_url = \"http://www.safemap.go.kr/openApiService/data/getConvenienceStoreData.do\"\n",
    "fclty_cd = \"509010\"  # 편의점 필터 코드\n",
    "num_of_rows = 100  # 한 페이지 최대 100개의 자료\n",
    "data_type = \"JSON\""
   ]
  },
  {
   "cell_type": "code",
   "execution_count": null,
   "metadata": {},
   "outputs": [],
   "source": [
    "# 전체 페이지 개수 조회\n",
    "def get_total_count():\n",
    "    params = {\n",
    "        \"serviceKey\": service_key,\n",
    "        \"numOfRows\": 1,\n",
    "        \"pageNo\": 1,\n",
    "        \"Fclty_Cd\": fclty_cd,\n",
    "        \"dataType\": data_type\n",
    "    }\n",
    "    response = requests.get(base_url, params=params)\n",
    "    data = response.json()\n",
    "    return int(data[\"response\"][\"body\"][\"totalCount\"])"
   ]
  },
  {
   "cell_type": "markdown",
   "metadata": {},
   "source": [
    "전체 페이지 개수를 모르기에 이를 추출하는 함수를 정의"
   ]
  },
  {
   "cell_type": "code",
   "execution_count": null,
   "metadata": {},
   "outputs": [],
   "source": [
    "# 데이터 수집\n",
    "failed_pages=[] #불러오기 실패한 데이터의 목록 리스트\n",
    "\n",
    "def fetch_all_data():\n",
    "    total_count = get_total_count()\n",
    "    total_pages = math.ceil(total_count / num_of_rows)\n",
    "    results = []\n",
    "\n",
    "    for page in range(1, total_pages + 1):\n",
    "        try:\n",
    "            params = {\n",
    "                \"serviceKey\": service_key,\n",
    "                \"numOfRows\": num_of_rows,\n",
    "                \"pageNo\": page,\n",
    "                \"Fclty_Cd\": fclty_cd,\n",
    "                \"dataType\": data_type\n",
    "            }\n",
    "            response = requests.get(base_url, params=params)\n",
    "            data = response.json()\n",
    "\n",
    "            result_code = data[\"response\"][\"header\"][\"resultCode\"]\n",
    "            if result_code != \"00\":\n",
    "                raise Exception(data[\"response\"][\"header\"].get(\"resultMsg\", \"Unknown error\"))\n",
    "\n",
    "            items = data[\"response\"][\"body\"].get(\"items\", [])\n",
    "            for item in items:\n",
    "                results.append({\n",
    "                    \"FCLTY_TY\": item.get(\"FCLTY_TY\"),\n",
    "                    \"FCLTY_NM\": item.get(\"FCLTY_NM\"),\n",
    "                    \"ADRES\": item.get(\"ADRES\")\n",
    "                })\n",
    "\n",
    "            print(f\"✅ {page}/{total_pages} 페이지 완료\")\n",
    "        \n",
    "        except Exception as e:\n",
    "            print(f\"{page}번째 페이지 실패: {e}\")\n",
    "            failed_pages.append(page)\n",
    "\n",
    "    return pd.DataFrame(results)\n"
   ]
  },
  {
   "cell_type": "code",
   "execution_count": 15,
   "metadata": {},
   "outputs": [
    {
     "ename": "NameError",
     "evalue": "name 'fetch_all_data' is not defined",
     "output_type": "error",
     "traceback": [
      "\u001b[1;31m---------------------------------------------------------------------------\u001b[0m",
      "\u001b[1;31mNameError\u001b[0m                                 Traceback (most recent call last)",
      "Cell \u001b[1;32mIn[15], line 2\u001b[0m\n\u001b[0;32m      1\u001b[0m \u001b[38;5;66;03m# API 실행\u001b[39;00m\n\u001b[1;32m----> 2\u001b[0m df_main \u001b[38;5;241m=\u001b[39m fetch_all_data()\n",
      "\u001b[1;31mNameError\u001b[0m: name 'fetch_all_data' is not defined"
     ]
    }
   ],
   "source": [
    "# API 실행\n",
    "df_main = fetch_all_data()"
   ]
  },
  {
   "cell_type": "markdown",
   "metadata": {},
   "source": [
    "## 실패한 페이지 재탐색"
   ]
  },
  {
   "cell_type": "code",
   "execution_count": null,
   "metadata": {},
   "outputs": [],
   "source": [
    "failed_pages"
   ]
  },
  {
   "cell_type": "code",
   "execution_count": null,
   "metadata": {},
   "outputs": [],
   "source": [
    "params = {\n",
    "    \"serviceKey\": service_key,\n",
    "    \"numOfRows\": 100,\n",
    "    \"pageNo\": 562, #페이지 번호를 바꿔가며 살펴보기\n",
    "    \"Fclty_Cd\": fclty_cd,\n",
    "    \"dataType\": \"JSON\"\n",
    "}\n",
    "response = requests.get(base_url, params=params)\n",
    "print(response.json())"
   ]
  },
  {
   "cell_type": "markdown",
   "metadata": {},
   "source": [
    "이 함수는 각 페이지별로 불러온 내용들을 표시한다.  \n",
    "562페이지에는 데이터가 다 있고, 563페이지부터 데이터가 계속 없다.  \n",
    "따라서 562페이지까지 데이터를 불러오면 된다"
   ]
  },
  {
   "cell_type": "markdown",
   "metadata": {},
   "source": [
    "## 데이터 전처리 및 저장"
   ]
  },
  {
   "cell_type": "markdown",
   "metadata": {},
   "source": [
    "### 주소의 분리 (도로명주소)"
   ]
  },
  {
   "cell_type": "code",
   "execution_count": null,
   "metadata": {},
   "outputs": [],
   "source": [
    "def split_full_address_1(addr):\n",
    "    if isinstance(addr, str):  # 문자열일 때만 처리\n",
    "        parts = addr.strip().split()\n",
    "        return pd.Series([parts[0], parts[1], parts[2], \" \".join(parts[3:])])\n",
    "    else:\n",
    "        return pd.Series([pd.NA, pd.NA, pd.NA, pd.NA])  # 주소가 없을 경우\n",
    "df_main[[\"시도\", \"시군구\", \"읍면동\", \"상세주소\"]] = df_main[\"ADRES\"].apply(split_full_address_1)"
   ]
  },
  {
   "cell_type": "code",
   "execution_count": null,
   "metadata": {},
   "outputs": [],
   "source": [
    "df_main.isna().sum()"
   ]
  },
  {
   "cell_type": "markdown",
   "metadata": {},
   "source": [
    "주소에 결측치는 없다"
   ]
  },
  {
   "cell_type": "code",
   "execution_count": null,
   "metadata": {},
   "outputs": [],
   "source": [
    "df_main[[\"시도\", \"시군구\", \"읍면동\", \"상세주소\"]] = df_main[\"ADRES\"].apply(split_full_address)"
   ]
  },
  {
   "cell_type": "markdown",
   "metadata": {},
   "source": [
    "### 데이터를 보기 쉽게"
   ]
  },
  {
   "cell_type": "code",
   "execution_count": null,
   "metadata": {},
   "outputs": [],
   "source": [
    "df_main.rename(columns={\"FCLTY_TY\": \"업종\", \"FCLTY_NM\": \"업소명\"}, inplace=True)\n",
    "df_main=df_main[[\"업종\",\"업소명\",\"시도\",\"시군구\",\"읍면동\",\"상세주소\"]]"
   ]
  },
  {
   "cell_type": "markdown",
   "metadata": {},
   "source": [
    "## 네이버 지도 API"
   ]
  },
  {
   "cell_type": "markdown",
   "metadata": {},
   "source": [
    "각 주소에 대응되는 위도, 경도 데이터를 결합하자"
   ]
  },
  {
   "cell_type": "code",
   "execution_count": null,
   "metadata": {},
   "outputs": [],
   "source": [
    "df_main[\"전체주소\"]=df_main[\"시도\"]+\" \"+df_main[\"시군구\"]+\" \"+df_main[\"읍면동\"]+\" \"+df_main[\"상세주소\"]\n",
    "df_main.head(1)"
   ]
  },
  {
   "cell_type": "markdown",
   "metadata": {},
   "source": [
    "API추출용 \"전체주소\"칼럼 생성"
   ]
  },
  {
   "cell_type": "code",
   "execution_count": null,
   "metadata": {},
   "outputs": [],
   "source": [
    "# 기존 DataFrame의 '전체주소' 컬럼을 리스트로 변환\n",
    "addresses = df_main['전체주소'].tolist()\n",
    "\n",
    "# ThreadPoolExecutor를 이용해 동시 실행\n",
    "with ThreadPoolExecutor(max_workers=100) as executor:\n",
    "    results = list(executor.map(get_coordinates_from_address, addresses))\n",
    "\n",
    "# 결과를 DataFrame으로 변환 후 기존 DataFrame과 결합\n",
    "df_coordinates = pd.DataFrame(results)\n",
    "df_final = pd.concat([df_main.reset_index(drop=True), df_coordinates], axis=1)\n",
    "print(df_final)"
   ]
  },
  {
   "cell_type": "code",
   "execution_count": null,
   "metadata": {},
   "outputs": [],
   "source": [
    "df_final.drop(\"전체주소\", axis=1, inplace=True)\n",
    "df_final.head()"
   ]
  },
  {
   "cell_type": "markdown",
   "metadata": {},
   "source": [
    "## 컬럼 영문명으로 전환"
   ]
  },
  {
   "cell_type": "code",
   "execution_count": null,
   "metadata": {},
   "outputs": [],
   "source": [
    "df_final.columns=[\"Business_Type\",\"Conve_Name\",\"County\",\"City\",\"Town\",\"Address\",\"Latitude\",\"Longitude\"]\n",
    "df_final.dropna(subset=[\"County\"],inplace=True)\n",
    "df_final.head(2)"
   ]
  },
  {
   "cell_type": "markdown",
   "metadata": {},
   "source": [
    "## 데이터 저장"
   ]
  },
  {
   "cell_type": "code",
   "execution_count": null,
   "metadata": {},
   "outputs": [],
   "source": [
    "df_final.to_csv(\"결과데이터/편의점_목록_2024.csv\", index=False, encoding=\"cp949\")"
   ]
  },
  {
   "cell_type": "markdown",
   "metadata": {},
   "source": [
    "# 3. 전국 시장 정보"
   ]
  },
  {
   "cell_type": "code",
   "execution_count": null,
   "metadata": {},
   "outputs": [
    {
     "name": "stderr",
     "output_type": "stream",
     "text": [
      "c:\\ProgramData\\anaconda3\\Lib\\site-packages\\openpyxl\\styles\\stylesheet.py:237: UserWarning: Workbook contains no default style, apply openpyxl's default\n",
      "  warn(\"Workbook contains no default style, apply openpyxl's default\")\n"
     ]
    },
    {
     "data": {
      "text/html": [
       "<div>\n",
       "<style scoped>\n",
       "    .dataframe tbody tr th:only-of-type {\n",
       "        vertical-align: middle;\n",
       "    }\n",
       "\n",
       "    .dataframe tbody tr th {\n",
       "        vertical-align: top;\n",
       "    }\n",
       "\n",
       "    .dataframe thead th {\n",
       "        text-align: right;\n",
       "    }\n",
       "</style>\n",
       "<table border=\"1\" class=\"dataframe\">\n",
       "  <thead>\n",
       "    <tr style=\"text-align: right;\">\n",
       "      <th></th>\n",
       "      <th>번호</th>\n",
       "      <th>개방서비스명</th>\n",
       "      <th>개방서비스아이디</th>\n",
       "      <th>개방자치단체코드</th>\n",
       "      <th>관리번호</th>\n",
       "      <th>인허가일자</th>\n",
       "      <th>인허가취소일자</th>\n",
       "      <th>영업상태구분코드</th>\n",
       "      <th>영업상태명</th>\n",
       "      <th>상세영업상태코드</th>\n",
       "      <th>...</th>\n",
       "      <th>도로명전체주소</th>\n",
       "      <th>도로명우편번호</th>\n",
       "      <th>사업장명</th>\n",
       "      <th>최종수정시점</th>\n",
       "      <th>데이터갱신구분</th>\n",
       "      <th>데이터갱신일자</th>\n",
       "      <th>업태구분명</th>\n",
       "      <th>좌표정보X(EPSG5174)</th>\n",
       "      <th>좌표정보Y(EPSG5174)</th>\n",
       "      <th>점포구분명</th>\n",
       "    </tr>\n",
       "  </thead>\n",
       "  <tbody>\n",
       "    <tr>\n",
       "      <th>0</th>\n",
       "      <td>1</td>\n",
       "      <td>대규모점포</td>\n",
       "      <td>08_25_01_P</td>\n",
       "      <td>3240000</td>\n",
       "      <td>2025324028907500004</td>\n",
       "      <td>2025-03-11</td>\n",
       "      <td>NaN</td>\n",
       "      <td>1</td>\n",
       "      <td>영업/정상</td>\n",
       "      <td>5</td>\n",
       "      <td>...</td>\n",
       "      <td>NaN</td>\n",
       "      <td>NaN</td>\n",
       "      <td>(주)이마트에브리데이 둔촌점</td>\n",
       "      <td>2025-03-11 09:32:28</td>\n",
       "      <td>I</td>\n",
       "      <td>2025-03-13 00:11:06</td>\n",
       "      <td>구분없음</td>\n",
       "      <td>212027.481159</td>\n",
       "      <td>446598.591776</td>\n",
       "      <td>준대규모점포</td>\n",
       "    </tr>\n",
       "  </tbody>\n",
       "</table>\n",
       "<p>1 rows × 29 columns</p>\n",
       "</div>"
      ],
      "text/plain": [
       "   번호 개방서비스명    개방서비스아이디  개방자치단체코드                 관리번호       인허가일자  인허가취소일자  \\\n",
       "0   1  대규모점포  08_25_01_P   3240000  2025324028907500004  2025-03-11      NaN   \n",
       "\n",
       "   영업상태구분코드  영업상태명 상세영업상태코드  ... 도로명전체주소  도로명우편번호             사업장명  \\\n",
       "0         1  영업/정상        5  ...     NaN      NaN  (주)이마트에브리데이 둔촌점   \n",
       "\n",
       "                최종수정시점 데이터갱신구분              데이터갱신일자  업태구분명 좌표정보X(EPSG5174)  \\\n",
       "0  2025-03-11 09:32:28       I  2025-03-13 00:11:06   구분없음   212027.481159   \n",
       "\n",
       "  좌표정보Y(EPSG5174)   점포구분명  \n",
       "0   446598.591776  준대규모점포  \n",
       "\n",
       "[1 rows x 29 columns]"
      ]
     },
     "execution_count": 85,
     "metadata": {},
     "output_type": "execute_result"
    }
   ],
   "source": [
    "data=pd.read_excel(\"원본데이터/08_25_01_P_대규모점포.xlsx\") #엑셀파일이다\n",
    "data.head(1)"
   ]
  },
  {
   "cell_type": "markdown",
   "metadata": {},
   "source": [
    "## 데이터 전처리"
   ]
  },
  {
   "cell_type": "markdown",
   "metadata": {},
   "source": [
    "필요한 데이터만 선택"
   ]
  },
  {
   "cell_type": "code",
   "execution_count": 86,
   "metadata": {},
   "outputs": [
    {
     "data": {
      "text/html": [
       "<div>\n",
       "<style scoped>\n",
       "    .dataframe tbody tr th:only-of-type {\n",
       "        vertical-align: middle;\n",
       "    }\n",
       "\n",
       "    .dataframe tbody tr th {\n",
       "        vertical-align: top;\n",
       "    }\n",
       "\n",
       "    .dataframe thead th {\n",
       "        text-align: right;\n",
       "    }\n",
       "</style>\n",
       "<table border=\"1\" class=\"dataframe\">\n",
       "  <thead>\n",
       "    <tr style=\"text-align: right;\">\n",
       "      <th></th>\n",
       "      <th>소재지전체주소</th>\n",
       "      <th>사업장명</th>\n",
       "      <th>업태구분명</th>\n",
       "    </tr>\n",
       "  </thead>\n",
       "  <tbody>\n",
       "    <tr>\n",
       "      <th>0</th>\n",
       "      <td>서울특별시 강동구 둔촌동 174-1 B102,B103호</td>\n",
       "      <td>(주)이마트에브리데이 둔촌점</td>\n",
       "      <td>구분없음</td>\n",
       "    </tr>\n",
       "    <tr>\n",
       "      <th>1</th>\n",
       "      <td>서울특별시 강동구 둔촌동 170-1</td>\n",
       "      <td>GS THE FRESH 둔촌포레온점</td>\n",
       "      <td>구분없음</td>\n",
       "    </tr>\n",
       "  </tbody>\n",
       "</table>\n",
       "</div>"
      ],
      "text/plain": [
       "                          소재지전체주소                 사업장명 업태구분명\n",
       "0  서울특별시 강동구 둔촌동 174-1 B102,B103호      (주)이마트에브리데이 둔촌점  구분없음\n",
       "1             서울특별시 강동구 둔촌동 170-1  GS THE FRESH 둔촌포레온점  구분없음"
      ]
     },
     "execution_count": 86,
     "metadata": {},
     "output_type": "execute_result"
    }
   ],
   "source": [
    "data=data[[\"소재지전체주소\",\"사업장명\",\"업태구분명\"]]\n",
    "data.head(2)"
   ]
  },
  {
   "cell_type": "markdown",
   "metadata": {},
   "source": [
    "## 결측치"
   ]
  },
  {
   "cell_type": "code",
   "execution_count": 87,
   "metadata": {},
   "outputs": [
    {
     "data": {
      "text/plain": [
       "소재지전체주소    163\n",
       "사업장명         0\n",
       "업태구분명        9\n",
       "dtype: int64"
      ]
     },
     "execution_count": 87,
     "metadata": {},
     "output_type": "execute_result"
    }
   ],
   "source": [
    "data.isna().sum()"
   ]
  },
  {
   "cell_type": "code",
   "execution_count": 88,
   "metadata": {},
   "outputs": [
    {
     "data": {
      "text/plain": [
       "소재지전체주소    0\n",
       "사업장명       0\n",
       "업태구분명      9\n",
       "dtype: int64"
      ]
     },
     "execution_count": 88,
     "metadata": {},
     "output_type": "execute_result"
    }
   ],
   "source": [
    "data=data.dropna(subset=[\"소재지전체주소\"])\n",
    "data.isna().sum()"
   ]
  },
  {
   "cell_type": "markdown",
   "metadata": {},
   "source": [
    "주소 데이터가 없는건 어쩔 수 없이 없애자"
   ]
  },
  {
   "cell_type": "markdown",
   "metadata": {},
   "source": [
    "## 주소 분할"
   ]
  },
  {
   "cell_type": "code",
   "execution_count": null,
   "metadata": {},
   "outputs": [],
   "source": [
    "data[[\"시도\", \"시군구\", \"읍면동\", \"상세주소\"]] = data[\"소재지전체주소\"].apply(split_full_address)"
   ]
  },
  {
   "cell_type": "code",
   "execution_count": 90,
   "metadata": {},
   "outputs": [
    {
     "data": {
      "text/html": [
       "<div>\n",
       "<style scoped>\n",
       "    .dataframe tbody tr th:only-of-type {\n",
       "        vertical-align: middle;\n",
       "    }\n",
       "\n",
       "    .dataframe tbody tr th {\n",
       "        vertical-align: top;\n",
       "    }\n",
       "\n",
       "    .dataframe thead th {\n",
       "        text-align: right;\n",
       "    }\n",
       "</style>\n",
       "<table border=\"1\" class=\"dataframe\">\n",
       "  <thead>\n",
       "    <tr style=\"text-align: right;\">\n",
       "      <th></th>\n",
       "      <th>소재지전체주소</th>\n",
       "      <th>사업장명</th>\n",
       "      <th>업태구분명</th>\n",
       "      <th>시도</th>\n",
       "      <th>시군구</th>\n",
       "      <th>읍면동</th>\n",
       "      <th>상세주소</th>\n",
       "    </tr>\n",
       "  </thead>\n",
       "  <tbody>\n",
       "    <tr>\n",
       "      <th>0</th>\n",
       "      <td>서울특별시 강동구 둔촌동 174-1 B102,B103호</td>\n",
       "      <td>(주)이마트에브리데이 둔촌점</td>\n",
       "      <td>구분없음</td>\n",
       "      <td>서울특별시</td>\n",
       "      <td>강동구</td>\n",
       "      <td>둔촌동</td>\n",
       "      <td>174-1 B102,B103호</td>\n",
       "    </tr>\n",
       "    <tr>\n",
       "      <th>1</th>\n",
       "      <td>서울특별시 강동구 둔촌동 170-1</td>\n",
       "      <td>GS THE FRESH 둔촌포레온점</td>\n",
       "      <td>구분없음</td>\n",
       "      <td>서울특별시</td>\n",
       "      <td>강동구</td>\n",
       "      <td>둔촌동</td>\n",
       "      <td>170-1</td>\n",
       "    </tr>\n",
       "    <tr>\n",
       "      <th>2</th>\n",
       "      <td>서울특별시 강동구 둔촌동 170-1</td>\n",
       "      <td>하나로마트 둔촌점</td>\n",
       "      <td>구분없음</td>\n",
       "      <td>서울특별시</td>\n",
       "      <td>강동구</td>\n",
       "      <td>둔촌동</td>\n",
       "      <td>170-1</td>\n",
       "    </tr>\n",
       "    <tr>\n",
       "      <th>3</th>\n",
       "      <td>서울특별시 용산구 용산동6가 69-167 신동아쇼핑</td>\n",
       "      <td>신동아쇼핑센터</td>\n",
       "      <td>쇼핑센터</td>\n",
       "      <td>서울특별시</td>\n",
       "      <td>용산구</td>\n",
       "      <td>용산동6가</td>\n",
       "      <td>69-167 신동아쇼핑</td>\n",
       "    </tr>\n",
       "    <tr>\n",
       "      <th>4</th>\n",
       "      <td>경상남도 김해시 신문동 506-4</td>\n",
       "      <td>롯데슈퍼 김해신문점</td>\n",
       "      <td>구분없음</td>\n",
       "      <td>경상남도</td>\n",
       "      <td>김해시</td>\n",
       "      <td>신문동</td>\n",
       "      <td>506-4</td>\n",
       "    </tr>\n",
       "  </tbody>\n",
       "</table>\n",
       "</div>"
      ],
      "text/plain": [
       "                          소재지전체주소                 사업장명 업태구분명     시도  시군구  \\\n",
       "0  서울특별시 강동구 둔촌동 174-1 B102,B103호      (주)이마트에브리데이 둔촌점  구분없음  서울특별시  강동구   \n",
       "1             서울특별시 강동구 둔촌동 170-1  GS THE FRESH 둔촌포레온점  구분없음  서울특별시  강동구   \n",
       "2             서울특별시 강동구 둔촌동 170-1            하나로마트 둔촌점  구분없음  서울특별시  강동구   \n",
       "3    서울특별시 용산구 용산동6가 69-167 신동아쇼핑              신동아쇼핑센터  쇼핑센터  서울특별시  용산구   \n",
       "4              경상남도 김해시 신문동 506-4           롯데슈퍼 김해신문점  구분없음   경상남도  김해시   \n",
       "\n",
       "     읍면동              상세주소  \n",
       "0    둔촌동  174-1 B102,B103호  \n",
       "1    둔촌동             170-1  \n",
       "2    둔촌동             170-1  \n",
       "3  용산동6가      69-167 신동아쇼핑  \n",
       "4    신문동             506-4  "
      ]
     },
     "execution_count": 90,
     "metadata": {},
     "output_type": "execute_result"
    }
   ],
   "source": [
    "data.head()"
   ]
  },
  {
   "cell_type": "code",
   "execution_count": 91,
   "metadata": {},
   "outputs": [
    {
     "data": {
      "text/plain": [
       "소재지전체주소     0\n",
       "사업장명        0\n",
       "업태구분명       9\n",
       "시도         12\n",
       "시군구        12\n",
       "읍면동        14\n",
       "상세주소        9\n",
       "dtype: int64"
      ]
     },
     "execution_count": 91,
     "metadata": {},
     "output_type": "execute_result"
    }
   ],
   "source": [
    "data.isna().sum()"
   ]
  },
  {
   "cell_type": "code",
   "execution_count": 92,
   "metadata": {},
   "outputs": [
    {
     "data": {
      "text/html": [
       "<div>\n",
       "<style scoped>\n",
       "    .dataframe tbody tr th:only-of-type {\n",
       "        vertical-align: middle;\n",
       "    }\n",
       "\n",
       "    .dataframe tbody tr th {\n",
       "        vertical-align: top;\n",
       "    }\n",
       "\n",
       "    .dataframe thead th {\n",
       "        text-align: right;\n",
       "    }\n",
       "</style>\n",
       "<table border=\"1\" class=\"dataframe\">\n",
       "  <thead>\n",
       "    <tr style=\"text-align: right;\">\n",
       "      <th></th>\n",
       "      <th>소재지전체주소</th>\n",
       "      <th>사업장명</th>\n",
       "      <th>업태구분명</th>\n",
       "      <th>시도</th>\n",
       "      <th>시군구</th>\n",
       "      <th>읍면동</th>\n",
       "      <th>상세주소</th>\n",
       "    </tr>\n",
       "  </thead>\n",
       "  <tbody>\n",
       "    <tr>\n",
       "      <th>594</th>\n",
       "      <td>1689번지</td>\n",
       "      <td>(주)이마트 대전터미널점</td>\n",
       "      <td>복합쇼핑몰</td>\n",
       "      <td>&lt;NA&gt;</td>\n",
       "      <td>&lt;NA&gt;</td>\n",
       "      <td>&lt;NA&gt;</td>\n",
       "      <td>1689번지</td>\n",
       "    </tr>\n",
       "    <tr>\n",
       "      <th>1570</th>\n",
       "      <td>호</td>\n",
       "      <td>부산컴퓨터도매상가</td>\n",
       "      <td>그 밖의 대규모점포</td>\n",
       "      <td>&lt;NA&gt;</td>\n",
       "      <td>&lt;NA&gt;</td>\n",
       "      <td>&lt;NA&gt;</td>\n",
       "      <td>호</td>\n",
       "    </tr>\n",
       "    <tr>\n",
       "      <th>1606</th>\n",
       "      <td>호</td>\n",
       "      <td>종로세운상가</td>\n",
       "      <td>대형마트</td>\n",
       "      <td>&lt;NA&gt;</td>\n",
       "      <td>&lt;NA&gt;</td>\n",
       "      <td>&lt;NA&gt;</td>\n",
       "      <td>호</td>\n",
       "    </tr>\n",
       "    <tr>\n",
       "      <th>1898</th>\n",
       "      <td>호</td>\n",
       "      <td>화천읍5일장터</td>\n",
       "      <td>그 밖의 대규모점포</td>\n",
       "      <td>&lt;NA&gt;</td>\n",
       "      <td>&lt;NA&gt;</td>\n",
       "      <td>&lt;NA&gt;</td>\n",
       "      <td>호</td>\n",
       "    </tr>\n",
       "    <tr>\n",
       "      <th>1911</th>\n",
       "      <td>호</td>\n",
       "      <td>새하나 백화점</td>\n",
       "      <td>백화점</td>\n",
       "      <td>&lt;NA&gt;</td>\n",
       "      <td>&lt;NA&gt;</td>\n",
       "      <td>&lt;NA&gt;</td>\n",
       "      <td>호</td>\n",
       "    </tr>\n",
       "    <tr>\n",
       "      <th>2025</th>\n",
       "      <td>호</td>\n",
       "      <td>LG마트춘천점</td>\n",
       "      <td>대형마트</td>\n",
       "      <td>&lt;NA&gt;</td>\n",
       "      <td>&lt;NA&gt;</td>\n",
       "      <td>&lt;NA&gt;</td>\n",
       "      <td>호</td>\n",
       "    </tr>\n",
       "    <tr>\n",
       "      <th>2221</th>\n",
       "      <td>호</td>\n",
       "      <td>황전범어타운 상가시장</td>\n",
       "      <td>그 밖의 대규모점포</td>\n",
       "      <td>&lt;NA&gt;</td>\n",
       "      <td>&lt;NA&gt;</td>\n",
       "      <td>&lt;NA&gt;</td>\n",
       "      <td>호</td>\n",
       "    </tr>\n",
       "    <tr>\n",
       "      <th>2649</th>\n",
       "      <td>호</td>\n",
       "      <td>사내면5일장터</td>\n",
       "      <td>그 밖의 대규모점포</td>\n",
       "      <td>&lt;NA&gt;</td>\n",
       "      <td>&lt;NA&gt;</td>\n",
       "      <td>&lt;NA&gt;</td>\n",
       "      <td>호</td>\n",
       "    </tr>\n",
       "    <tr>\n",
       "      <th>2657</th>\n",
       "      <td>호</td>\n",
       "      <td>사단법인 화천시장조합</td>\n",
       "      <td>그 밖의 대규모점포</td>\n",
       "      <td>&lt;NA&gt;</td>\n",
       "      <td>&lt;NA&gt;</td>\n",
       "      <td>&lt;NA&gt;</td>\n",
       "      <td>호</td>\n",
       "    </tr>\n",
       "    <tr>\n",
       "      <th>2778</th>\n",
       "      <td>호</td>\n",
       "      <td>산수시장</td>\n",
       "      <td>시장</td>\n",
       "      <td>&lt;NA&gt;</td>\n",
       "      <td>&lt;NA&gt;</td>\n",
       "      <td>&lt;NA&gt;</td>\n",
       "      <td>호</td>\n",
       "    </tr>\n",
       "    <tr>\n",
       "      <th>2788</th>\n",
       "      <td>호</td>\n",
       "      <td>서문시장제1지구직물시장</td>\n",
       "      <td>그 밖의 대규모점포</td>\n",
       "      <td>&lt;NA&gt;</td>\n",
       "      <td>&lt;NA&gt;</td>\n",
       "      <td>&lt;NA&gt;</td>\n",
       "      <td>호</td>\n",
       "    </tr>\n",
       "    <tr>\n",
       "      <th>2877</th>\n",
       "      <td>호</td>\n",
       "      <td>관악종합시장</td>\n",
       "      <td>그 밖의 대규모점포</td>\n",
       "      <td>&lt;NA&gt;</td>\n",
       "      <td>&lt;NA&gt;</td>\n",
       "      <td>&lt;NA&gt;</td>\n",
       "      <td>호</td>\n",
       "    </tr>\n",
       "  </tbody>\n",
       "</table>\n",
       "</div>"
      ],
      "text/plain": [
       "      소재지전체주소           사업장명       업태구분명    시도   시군구   읍면동     상세주소\n",
       "594    1689번지  (주)이마트 대전터미널점       복합쇼핑몰  <NA>  <NA>  <NA>   1689번지\n",
       "1570        호      부산컴퓨터도매상가  그 밖의 대규모점포  <NA>  <NA>  <NA>        호\n",
       "1606     호            종로세운상가        대형마트  <NA>  <NA>  <NA>     호   \n",
       "1898     호           화천읍5일장터  그 밖의 대규모점포  <NA>  <NA>  <NA>     호   \n",
       "1911     호           새하나 백화점         백화점  <NA>  <NA>  <NA>     호   \n",
       "2025     호           LG마트춘천점        대형마트  <NA>  <NA>  <NA>     호   \n",
       "2221     호       황전범어타운 상가시장  그 밖의 대규모점포  <NA>  <NA>  <NA>     호   \n",
       "2649     호           사내면5일장터  그 밖의 대규모점포  <NA>  <NA>  <NA>     호   \n",
       "2657     호       사단법인 화천시장조합  그 밖의 대규모점포  <NA>  <NA>  <NA>     호   \n",
       "2778        호           산수시장          시장  <NA>  <NA>  <NA>        호\n",
       "2788     호      서문시장제1지구직물시장  그 밖의 대규모점포  <NA>  <NA>  <NA>     호   \n",
       "2877     호            관악종합시장  그 밖의 대규모점포  <NA>  <NA>  <NA>     호   "
      ]
     },
     "execution_count": 92,
     "metadata": {},
     "output_type": "execute_result"
    }
   ],
   "source": [
    "data[data[\"시도\"].isna()]"
   ]
  },
  {
   "cell_type": "markdown",
   "metadata": {},
   "source": [
    "주소가 이상한건 전부 제거하자"
   ]
  },
  {
   "cell_type": "code",
   "execution_count": 93,
   "metadata": {},
   "outputs": [
    {
     "data": {
      "text/plain": [
       "소재지전체주소    0\n",
       "사업장명       0\n",
       "업태구분명      9\n",
       "시도         0\n",
       "시군구        0\n",
       "읍면동        2\n",
       "상세주소       9\n",
       "dtype: int64"
      ]
     },
     "execution_count": 93,
     "metadata": {},
     "output_type": "execute_result"
    }
   ],
   "source": [
    "data.dropna(subset=[\"시도\"], inplace=True)\n",
    "data.isna().sum()"
   ]
  },
  {
   "cell_type": "code",
   "execution_count": 94,
   "metadata": {},
   "outputs": [
    {
     "data": {
      "text/html": [
       "<div>\n",
       "<style scoped>\n",
       "    .dataframe tbody tr th:only-of-type {\n",
       "        vertical-align: middle;\n",
       "    }\n",
       "\n",
       "    .dataframe tbody tr th {\n",
       "        vertical-align: top;\n",
       "    }\n",
       "\n",
       "    .dataframe thead th {\n",
       "        text-align: right;\n",
       "    }\n",
       "</style>\n",
       "<table border=\"1\" class=\"dataframe\">\n",
       "  <thead>\n",
       "    <tr style=\"text-align: right;\">\n",
       "      <th></th>\n",
       "      <th>시도</th>\n",
       "      <th>시군구</th>\n",
       "      <th>읍면동</th>\n",
       "      <th>상세주소</th>\n",
       "      <th>사업장명</th>\n",
       "      <th>업태구분명</th>\n",
       "      <th>소재지전체주소</th>\n",
       "    </tr>\n",
       "  </thead>\n",
       "  <tbody>\n",
       "    <tr>\n",
       "      <th>0</th>\n",
       "      <td>서울특별시</td>\n",
       "      <td>강동구</td>\n",
       "      <td>둔촌동</td>\n",
       "      <td>174-1 B102,B103호</td>\n",
       "      <td>(주)이마트에브리데이 둔촌점</td>\n",
       "      <td>구분없음</td>\n",
       "      <td>서울특별시 강동구 둔촌동 174-1 B102,B103호</td>\n",
       "    </tr>\n",
       "    <tr>\n",
       "      <th>1</th>\n",
       "      <td>서울특별시</td>\n",
       "      <td>강동구</td>\n",
       "      <td>둔촌동</td>\n",
       "      <td>170-1</td>\n",
       "      <td>GS THE FRESH 둔촌포레온점</td>\n",
       "      <td>구분없음</td>\n",
       "      <td>서울특별시 강동구 둔촌동 170-1</td>\n",
       "    </tr>\n",
       "    <tr>\n",
       "      <th>2</th>\n",
       "      <td>서울특별시</td>\n",
       "      <td>강동구</td>\n",
       "      <td>둔촌동</td>\n",
       "      <td>170-1</td>\n",
       "      <td>하나로마트 둔촌점</td>\n",
       "      <td>구분없음</td>\n",
       "      <td>서울특별시 강동구 둔촌동 170-1</td>\n",
       "    </tr>\n",
       "    <tr>\n",
       "      <th>3</th>\n",
       "      <td>서울특별시</td>\n",
       "      <td>용산구</td>\n",
       "      <td>용산동6가</td>\n",
       "      <td>69-167 신동아쇼핑</td>\n",
       "      <td>신동아쇼핑센터</td>\n",
       "      <td>쇼핑센터</td>\n",
       "      <td>서울특별시 용산구 용산동6가 69-167 신동아쇼핑</td>\n",
       "    </tr>\n",
       "    <tr>\n",
       "      <th>4</th>\n",
       "      <td>경상남도</td>\n",
       "      <td>김해시</td>\n",
       "      <td>신문동</td>\n",
       "      <td>506-4</td>\n",
       "      <td>롯데슈퍼 김해신문점</td>\n",
       "      <td>구분없음</td>\n",
       "      <td>경상남도 김해시 신문동 506-4</td>\n",
       "    </tr>\n",
       "  </tbody>\n",
       "</table>\n",
       "</div>"
      ],
      "text/plain": [
       "      시도  시군구    읍면동              상세주소                 사업장명 업태구분명  \\\n",
       "0  서울특별시  강동구    둔촌동  174-1 B102,B103호      (주)이마트에브리데이 둔촌점  구분없음   \n",
       "1  서울특별시  강동구    둔촌동             170-1  GS THE FRESH 둔촌포레온점  구분없음   \n",
       "2  서울특별시  강동구    둔촌동             170-1            하나로마트 둔촌점  구분없음   \n",
       "3  서울특별시  용산구  용산동6가      69-167 신동아쇼핑              신동아쇼핑센터  쇼핑센터   \n",
       "4   경상남도  김해시    신문동             506-4           롯데슈퍼 김해신문점  구분없음   \n",
       "\n",
       "                          소재지전체주소  \n",
       "0  서울특별시 강동구 둔촌동 174-1 B102,B103호  \n",
       "1             서울특별시 강동구 둔촌동 170-1  \n",
       "2             서울특별시 강동구 둔촌동 170-1  \n",
       "3    서울특별시 용산구 용산동6가 69-167 신동아쇼핑  \n",
       "4              경상남도 김해시 신문동 506-4  "
      ]
     },
     "execution_count": 94,
     "metadata": {},
     "output_type": "execute_result"
    }
   ],
   "source": [
    "#이후 보기 편하게 정리\n",
    "data=data[[\"시도\",\"시군구\",\"읍면동\",\"상세주소\",\"사업장명\",\"업태구분명\", \"소재지전체주소\"]]\n",
    "data.head()"
   ]
  },
  {
   "cell_type": "markdown",
   "metadata": {},
   "source": [
    "## 네이버 지도 API 좌표"
   ]
  },
  {
   "cell_type": "code",
   "execution_count": 95,
   "metadata": {},
   "outputs": [
    {
     "name": "stdout",
     "output_type": "stream",
     "text": [
      "           시도    시군구    읍면동              상세주소                 사업장명  \\\n",
      "0       서울특별시    강동구    둔촌동  174-1 B102,B103호      (주)이마트에브리데이 둔촌점   \n",
      "1       서울특별시    강동구    둔촌동             170-1  GS THE FRESH 둔촌포레온점   \n",
      "2       서울특별시    강동구    둔촌동             170-1            하나로마트 둔촌점   \n",
      "3       서울특별시    용산구  용산동6가      69-167 신동아쇼핑              신동아쇼핑센터   \n",
      "4        경상남도    김해시    신문동             506-4           롯데슈퍼 김해신문점   \n",
      "...       ...    ...    ...               ...                  ...   \n",
      "2787  전북특별자치도    진안군    진안읍      군상리 406번지 7호                 진안시장   \n",
      "2788     충청남도    천안시    동남구  병천면 병천리 360번지 1호                 병천시장   \n",
      "2789     경상북도  포항시남구    동해면             도구리 호                 포항시장   \n",
      "2790     경상북도  포항시남구    동해면             도구리 호                 장기시장   \n",
      "2791     충청남도    천안시    서북구  성환읍 성환리 449번지 1호                 성환시장   \n",
      "\n",
      "           업태구분명                           소재지전체주소    Latitude    Longitude  \n",
      "0           구분없음    서울특별시 강동구 둔촌동 174-1 B102,B103호  37.5215261  127.1368255  \n",
      "1           구분없음               서울특별시 강동구 둔촌동 170-1  37.5269345  127.1387574  \n",
      "2           구분없음               서울특별시 강동구 둔촌동 170-1  37.5269345  127.1387574  \n",
      "3           쇼핑센터      서울특별시 용산구 용산동6가 69-167 신동아쇼핑  37.5172474  126.9852079  \n",
      "4           구분없음                경상남도 김해시 신문동 506-4  35.1955769  128.8150481  \n",
      "...          ...                               ...         ...          ...  \n",
      "2787          시장      전북특별자치도 진안군 진안읍 군상리 406번지 7호  35.7931262  127.4288444  \n",
      "2788  그 밖의 대규모점포  충청남도 천안시 동남구 병천면 병천리 360번지 1호     36.7666105  127.3025128  \n",
      "2789  그 밖의 대규모점포           경상북도 포항시남구 동해면 도구리 호           <NA>         <NA>  \n",
      "2790  그 밖의 대규모점포           경상북도 포항시남구 동해면 도구리 호           <NA>         <NA>  \n",
      "2791  그 밖의 대규모점포  충청남도 천안시 서북구 성환읍 성환리 449번지 1호     36.9189417  127.1304577  \n",
      "\n",
      "[2792 rows x 9 columns]\n"
     ]
    }
   ],
   "source": [
    "# 기존 DataFrame의 '전체주소' 컬럼을 리스트로 변환\n",
    "addresses = data['소재지전체주소'].tolist()\n",
    "\n",
    "# ThreadPoolExecutor를 이용해 동시 실행\n",
    "with ThreadPoolExecutor(max_workers=100) as executor:\n",
    "    results = list(executor.map(get_coordinates_from_address, addresses))\n",
    "\n",
    "# 결과를 DataFrame으로 변환 후 기존 DataFrame과 결합\n",
    "df_coordinates = pd.DataFrame(results)\n",
    "df_final = pd.concat([data.reset_index(drop=True), df_coordinates], axis=1)\n",
    "print(df_final)"
   ]
  },
  {
   "cell_type": "code",
   "execution_count": 96,
   "metadata": {},
   "outputs": [
    {
     "data": {
      "text/plain": [
       "시도             0\n",
       "시군구            0\n",
       "읍면동            2\n",
       "상세주소           9\n",
       "사업장명           0\n",
       "업태구분명          9\n",
       "소재지전체주소        0\n",
       "Latitude     130\n",
       "Longitude    130\n",
       "dtype: int64"
      ]
     },
     "execution_count": 96,
     "metadata": {},
     "output_type": "execute_result"
    }
   ],
   "source": [
    "df_final.isna().sum()"
   ]
  },
  {
   "cell_type": "markdown",
   "metadata": {},
   "source": [
    "좌표 130개에 결측치 생성됨"
   ]
  },
  {
   "cell_type": "code",
   "execution_count": 97,
   "metadata": {},
   "outputs": [
    {
     "data": {
      "text/html": [
       "<div>\n",
       "<style scoped>\n",
       "    .dataframe tbody tr th:only-of-type {\n",
       "        vertical-align: middle;\n",
       "    }\n",
       "\n",
       "    .dataframe tbody tr th {\n",
       "        vertical-align: top;\n",
       "    }\n",
       "\n",
       "    .dataframe thead th {\n",
       "        text-align: right;\n",
       "    }\n",
       "</style>\n",
       "<table border=\"1\" class=\"dataframe\">\n",
       "  <thead>\n",
       "    <tr style=\"text-align: right;\">\n",
       "      <th></th>\n",
       "      <th>시도</th>\n",
       "      <th>시군구</th>\n",
       "      <th>읍면동</th>\n",
       "      <th>상세주소</th>\n",
       "      <th>사업장명</th>\n",
       "      <th>업태구분명</th>\n",
       "      <th>소재지전체주소</th>\n",
       "      <th>Latitude</th>\n",
       "      <th>Longitude</th>\n",
       "    </tr>\n",
       "  </thead>\n",
       "  <tbody>\n",
       "    <tr>\n",
       "      <th>24</th>\n",
       "      <td>서울특별시</td>\n",
       "      <td>강서구</td>\n",
       "      <td>마곡동</td>\n",
       "      <td>특별계획구역 CP1</td>\n",
       "      <td>LEWEST A관</td>\n",
       "      <td>그 밖의 대규모점포</td>\n",
       "      <td>서울특별시 강서구 마곡동 특별계획구역 CP1</td>\n",
       "      <td>&lt;NA&gt;</td>\n",
       "      <td>&lt;NA&gt;</td>\n",
       "    </tr>\n",
       "    <tr>\n",
       "      <th>25</th>\n",
       "      <td>서울특별시</td>\n",
       "      <td>강서구</td>\n",
       "      <td>마곡동</td>\n",
       "      <td>특별계획구역 CP2, CP3-1, CP3-2</td>\n",
       "      <td>LEWEST B관</td>\n",
       "      <td>그 밖의 대규모점포</td>\n",
       "      <td>서울특별시 강서구 마곡동 특별계획구역 CP2, CP3-1, CP3-2</td>\n",
       "      <td>&lt;NA&gt;</td>\n",
       "      <td>&lt;NA&gt;</td>\n",
       "    </tr>\n",
       "    <tr>\n",
       "      <th>70</th>\n",
       "      <td>인천광역시</td>\n",
       "      <td>계양구</td>\n",
       "      <td>작전동</td>\n",
       "      <td>0 힐스테이트자이계양</td>\n",
       "      <td>GS THE FRESH 인천작전역점</td>\n",
       "      <td>구분없음</td>\n",
       "      <td>인천광역시 계양구 작전동 0 힐스테이트자이계양</td>\n",
       "      <td>&lt;NA&gt;</td>\n",
       "      <td>&lt;NA&gt;</td>\n",
       "    </tr>\n",
       "    <tr>\n",
       "      <th>86</th>\n",
       "      <td>인천광역시</td>\n",
       "      <td>미추홀구</td>\n",
       "      <td>주안동</td>\n",
       "      <td>0 포레나 미추홀</td>\n",
       "      <td>아인애비뉴 메디&amp;라이프 복합몰</td>\n",
       "      <td>그 밖의 대규모점포</td>\n",
       "      <td>인천광역시 미추홀구 주안동 0 포레나 미추홀</td>\n",
       "      <td>&lt;NA&gt;</td>\n",
       "      <td>&lt;NA&gt;</td>\n",
       "    </tr>\n",
       "    <tr>\n",
       "      <th>94</th>\n",
       "      <td>인천광역시</td>\n",
       "      <td>미추홀구</td>\n",
       "      <td>용현동</td>\n",
       "      <td>0 자이타워</td>\n",
       "      <td>GS THE FRESH 용현자이점</td>\n",
       "      <td>구분없음</td>\n",
       "      <td>인천광역시 미추홀구 용현동 0 자이타워</td>\n",
       "      <td>&lt;NA&gt;</td>\n",
       "      <td>&lt;NA&gt;</td>\n",
       "    </tr>\n",
       "  </tbody>\n",
       "</table>\n",
       "</div>"
      ],
      "text/plain": [
       "       시도   시군구  읍면동                      상세주소                 사업장명  \\\n",
       "24  서울특별시   강서구  마곡동                특별계획구역 CP1            LEWEST A관   \n",
       "25  서울특별시   강서구  마곡동  특별계획구역 CP2, CP3-1, CP3-2            LEWEST B관   \n",
       "70  인천광역시   계양구  작전동               0 힐스테이트자이계양  GS THE FRESH 인천작전역점   \n",
       "86  인천광역시  미추홀구  주안동                 0 포레나 미추홀     아인애비뉴 메디&라이프 복합몰   \n",
       "94  인천광역시  미추홀구  용현동                    0 자이타워   GS THE FRESH 용현자이점   \n",
       "\n",
       "         업태구분명                                 소재지전체주소 Latitude Longitude  \n",
       "24  그 밖의 대규모점포                서울특별시 강서구 마곡동 특별계획구역 CP1     <NA>      <NA>  \n",
       "25  그 밖의 대규모점포  서울특별시 강서구 마곡동 특별계획구역 CP2, CP3-1, CP3-2     <NA>      <NA>  \n",
       "70        구분없음               인천광역시 계양구 작전동 0 힐스테이트자이계양     <NA>      <NA>  \n",
       "86  그 밖의 대규모점포                인천광역시 미추홀구 주안동 0 포레나 미추홀     <NA>      <NA>  \n",
       "94        구분없음                   인천광역시 미추홀구 용현동 0 자이타워     <NA>      <NA>  "
      ]
     },
     "execution_count": 97,
     "metadata": {},
     "output_type": "execute_result"
    }
   ],
   "source": [
    "df_final[df_final['Latitude'].isna() | df_final['Longitude'].isna()].head()"
   ]
  },
  {
   "cell_type": "markdown",
   "metadata": {},
   "source": [
    "이런것들은 주소가 이상한것 같으니 시도 + 시군구 + 읍면동을 합하여 새로 만든 뒤, 자세하진 않아도 대략적인 지역의 좌표를 구해보자"
   ]
  },
  {
   "cell_type": "markdown",
   "metadata": {},
   "source": [
    "### 좌표 데이터 결측치 전처리"
   ]
  },
  {
   "cell_type": "code",
   "execution_count": 98,
   "metadata": {},
   "outputs": [
    {
     "data": {
      "text/html": [
       "<div>\n",
       "<style scoped>\n",
       "    .dataframe tbody tr th:only-of-type {\n",
       "        vertical-align: middle;\n",
       "    }\n",
       "\n",
       "    .dataframe tbody tr th {\n",
       "        vertical-align: top;\n",
       "    }\n",
       "\n",
       "    .dataframe thead th {\n",
       "        text-align: right;\n",
       "    }\n",
       "</style>\n",
       "<table border=\"1\" class=\"dataframe\">\n",
       "  <thead>\n",
       "    <tr style=\"text-align: right;\">\n",
       "      <th></th>\n",
       "      <th>시도</th>\n",
       "      <th>시군구</th>\n",
       "      <th>읍면동</th>\n",
       "      <th>상세주소</th>\n",
       "      <th>사업장명</th>\n",
       "      <th>업태구분명</th>\n",
       "      <th>소재지전체주소</th>\n",
       "      <th>Latitude</th>\n",
       "      <th>Longitude</th>\n",
       "    </tr>\n",
       "  </thead>\n",
       "  <tbody>\n",
       "    <tr>\n",
       "      <th>24</th>\n",
       "      <td>서울특별시</td>\n",
       "      <td>강서구</td>\n",
       "      <td>마곡동</td>\n",
       "      <td>특별계획구역 CP1</td>\n",
       "      <td>LEWEST A관</td>\n",
       "      <td>그 밖의 대규모점포</td>\n",
       "      <td>서울특별시 강서구 마곡동 특별계획구역 CP1</td>\n",
       "      <td>&lt;NA&gt;</td>\n",
       "      <td>&lt;NA&gt;</td>\n",
       "    </tr>\n",
       "    <tr>\n",
       "      <th>25</th>\n",
       "      <td>서울특별시</td>\n",
       "      <td>강서구</td>\n",
       "      <td>마곡동</td>\n",
       "      <td>특별계획구역 CP2, CP3-1, CP3-2</td>\n",
       "      <td>LEWEST B관</td>\n",
       "      <td>그 밖의 대규모점포</td>\n",
       "      <td>서울특별시 강서구 마곡동 특별계획구역 CP2, CP3-1, CP3-2</td>\n",
       "      <td>&lt;NA&gt;</td>\n",
       "      <td>&lt;NA&gt;</td>\n",
       "    </tr>\n",
       "    <tr>\n",
       "      <th>70</th>\n",
       "      <td>인천광역시</td>\n",
       "      <td>계양구</td>\n",
       "      <td>작전동</td>\n",
       "      <td>0 힐스테이트자이계양</td>\n",
       "      <td>GS THE FRESH 인천작전역점</td>\n",
       "      <td>구분없음</td>\n",
       "      <td>인천광역시 계양구 작전동 0 힐스테이트자이계양</td>\n",
       "      <td>&lt;NA&gt;</td>\n",
       "      <td>&lt;NA&gt;</td>\n",
       "    </tr>\n",
       "    <tr>\n",
       "      <th>86</th>\n",
       "      <td>인천광역시</td>\n",
       "      <td>미추홀구</td>\n",
       "      <td>주안동</td>\n",
       "      <td>0 포레나 미추홀</td>\n",
       "      <td>아인애비뉴 메디&amp;라이프 복합몰</td>\n",
       "      <td>그 밖의 대규모점포</td>\n",
       "      <td>인천광역시 미추홀구 주안동 0 포레나 미추홀</td>\n",
       "      <td>&lt;NA&gt;</td>\n",
       "      <td>&lt;NA&gt;</td>\n",
       "    </tr>\n",
       "    <tr>\n",
       "      <th>94</th>\n",
       "      <td>인천광역시</td>\n",
       "      <td>미추홀구</td>\n",
       "      <td>용현동</td>\n",
       "      <td>0 자이타워</td>\n",
       "      <td>GS THE FRESH 용현자이점</td>\n",
       "      <td>구분없음</td>\n",
       "      <td>인천광역시 미추홀구 용현동 0 자이타워</td>\n",
       "      <td>&lt;NA&gt;</td>\n",
       "      <td>&lt;NA&gt;</td>\n",
       "    </tr>\n",
       "  </tbody>\n",
       "</table>\n",
       "</div>"
      ],
      "text/plain": [
       "       시도   시군구  읍면동                      상세주소                 사업장명  \\\n",
       "24  서울특별시   강서구  마곡동                특별계획구역 CP1            LEWEST A관   \n",
       "25  서울특별시   강서구  마곡동  특별계획구역 CP2, CP3-1, CP3-2            LEWEST B관   \n",
       "70  인천광역시   계양구  작전동               0 힐스테이트자이계양  GS THE FRESH 인천작전역점   \n",
       "86  인천광역시  미추홀구  주안동                 0 포레나 미추홀     아인애비뉴 메디&라이프 복합몰   \n",
       "94  인천광역시  미추홀구  용현동                    0 자이타워   GS THE FRESH 용현자이점   \n",
       "\n",
       "         업태구분명                                 소재지전체주소 Latitude Longitude  \n",
       "24  그 밖의 대규모점포                서울특별시 강서구 마곡동 특별계획구역 CP1     <NA>      <NA>  \n",
       "25  그 밖의 대규모점포  서울특별시 강서구 마곡동 특별계획구역 CP2, CP3-1, CP3-2     <NA>      <NA>  \n",
       "70        구분없음               인천광역시 계양구 작전동 0 힐스테이트자이계양     <NA>      <NA>  \n",
       "86  그 밖의 대규모점포                인천광역시 미추홀구 주안동 0 포레나 미추홀     <NA>      <NA>  \n",
       "94        구분없음                   인천광역시 미추홀구 용현동 0 자이타워     <NA>      <NA>  "
      ]
     },
     "execution_count": 98,
     "metadata": {},
     "output_type": "execute_result"
    }
   ],
   "source": [
    "temp=df_final[df_final['Latitude'].isna() | df_final['Longitude'].isna()]\n",
    "temp.head()"
   ]
  },
  {
   "cell_type": "code",
   "execution_count": 99,
   "metadata": {},
   "outputs": [
    {
     "name": "stderr",
     "output_type": "stream",
     "text": [
      "C:\\Users\\swoo6\\AppData\\Local\\Temp\\ipykernel_14132\\1199384628.py:1: SettingWithCopyWarning: \n",
      "A value is trying to be set on a copy of a slice from a DataFrame.\n",
      "Try using .loc[row_indexer,col_indexer] = value instead\n",
      "\n",
      "See the caveats in the documentation: https://pandas.pydata.org/pandas-docs/stable/user_guide/indexing.html#returning-a-view-versus-a-copy\n",
      "  temp[\"결측치주소\"]=data[\"시도\"]+\" \"+data[\"시군구\"]+\" \"+data[\"읍면동\"].fillna(\"\")\n"
     ]
    },
    {
     "data": {
      "text/html": [
       "<div>\n",
       "<style scoped>\n",
       "    .dataframe tbody tr th:only-of-type {\n",
       "        vertical-align: middle;\n",
       "    }\n",
       "\n",
       "    .dataframe tbody tr th {\n",
       "        vertical-align: top;\n",
       "    }\n",
       "\n",
       "    .dataframe thead th {\n",
       "        text-align: right;\n",
       "    }\n",
       "</style>\n",
       "<table border=\"1\" class=\"dataframe\">\n",
       "  <thead>\n",
       "    <tr style=\"text-align: right;\">\n",
       "      <th></th>\n",
       "      <th>시도</th>\n",
       "      <th>시군구</th>\n",
       "      <th>읍면동</th>\n",
       "      <th>상세주소</th>\n",
       "      <th>사업장명</th>\n",
       "      <th>업태구분명</th>\n",
       "      <th>소재지전체주소</th>\n",
       "      <th>Latitude</th>\n",
       "      <th>Longitude</th>\n",
       "      <th>결측치주소</th>\n",
       "    </tr>\n",
       "  </thead>\n",
       "  <tbody>\n",
       "    <tr>\n",
       "      <th>24</th>\n",
       "      <td>서울특별시</td>\n",
       "      <td>강서구</td>\n",
       "      <td>마곡동</td>\n",
       "      <td>특별계획구역 CP1</td>\n",
       "      <td>LEWEST A관</td>\n",
       "      <td>그 밖의 대규모점포</td>\n",
       "      <td>서울특별시 강서구 마곡동 특별계획구역 CP1</td>\n",
       "      <td>&lt;NA&gt;</td>\n",
       "      <td>&lt;NA&gt;</td>\n",
       "      <td>서울특별시 강서구 마곡동</td>\n",
       "    </tr>\n",
       "  </tbody>\n",
       "</table>\n",
       "</div>"
      ],
      "text/plain": [
       "       시도  시군구  읍면동        상세주소       사업장명       업태구분명  \\\n",
       "24  서울특별시  강서구  마곡동  특별계획구역 CP1  LEWEST A관  그 밖의 대규모점포   \n",
       "\n",
       "                     소재지전체주소 Latitude Longitude          결측치주소  \n",
       "24  서울특별시 강서구 마곡동 특별계획구역 CP1     <NA>      <NA>  서울특별시 강서구 마곡동  "
      ]
     },
     "execution_count": 99,
     "metadata": {},
     "output_type": "execute_result"
    }
   ],
   "source": [
    "temp[\"결측치주소\"]=data[\"시도\"]+\" \"+data[\"시군구\"]+\" \"+data[\"읍면동\"].fillna(\"\")\n",
    "temp.head(1)"
   ]
  },
  {
   "cell_type": "code",
   "execution_count": 100,
   "metadata": {},
   "outputs": [
    {
     "name": "stderr",
     "output_type": "stream",
     "text": [
      "C:\\Users\\swoo6\\AppData\\Local\\Temp\\ipykernel_14132\\3715193921.py:1: SettingWithCopyWarning: \n",
      "A value is trying to be set on a copy of a slice from a DataFrame\n",
      "\n",
      "See the caveats in the documentation: https://pandas.pydata.org/pandas-docs/stable/user_guide/indexing.html#returning-a-view-versus-a-copy\n",
      "  temp.drop(columns=[\"Latitude\",\"Longitude\"], inplace=True, axis=1)\n"
     ]
    },
    {
     "data": {
      "text/html": [
       "<div>\n",
       "<style scoped>\n",
       "    .dataframe tbody tr th:only-of-type {\n",
       "        vertical-align: middle;\n",
       "    }\n",
       "\n",
       "    .dataframe tbody tr th {\n",
       "        vertical-align: top;\n",
       "    }\n",
       "\n",
       "    .dataframe thead th {\n",
       "        text-align: right;\n",
       "    }\n",
       "</style>\n",
       "<table border=\"1\" class=\"dataframe\">\n",
       "  <thead>\n",
       "    <tr style=\"text-align: right;\">\n",
       "      <th></th>\n",
       "      <th>시도</th>\n",
       "      <th>시군구</th>\n",
       "      <th>읍면동</th>\n",
       "      <th>상세주소</th>\n",
       "      <th>사업장명</th>\n",
       "      <th>업태구분명</th>\n",
       "      <th>소재지전체주소</th>\n",
       "      <th>결측치주소</th>\n",
       "    </tr>\n",
       "  </thead>\n",
       "  <tbody>\n",
       "    <tr>\n",
       "      <th>24</th>\n",
       "      <td>서울특별시</td>\n",
       "      <td>강서구</td>\n",
       "      <td>마곡동</td>\n",
       "      <td>특별계획구역 CP1</td>\n",
       "      <td>LEWEST A관</td>\n",
       "      <td>그 밖의 대규모점포</td>\n",
       "      <td>서울특별시 강서구 마곡동 특별계획구역 CP1</td>\n",
       "      <td>서울특별시 강서구 마곡동</td>\n",
       "    </tr>\n",
       "  </tbody>\n",
       "</table>\n",
       "</div>"
      ],
      "text/plain": [
       "       시도  시군구  읍면동        상세주소       사업장명       업태구분명  \\\n",
       "24  서울특별시  강서구  마곡동  특별계획구역 CP1  LEWEST A관  그 밖의 대규모점포   \n",
       "\n",
       "                     소재지전체주소          결측치주소  \n",
       "24  서울특별시 강서구 마곡동 특별계획구역 CP1  서울특별시 강서구 마곡동  "
      ]
     },
     "execution_count": 100,
     "metadata": {},
     "output_type": "execute_result"
    }
   ],
   "source": [
    "temp.drop(columns=[\"Latitude\",\"Longitude\"], inplace=True, axis=1)\n",
    "temp.head(1)"
   ]
  },
  {
   "cell_type": "code",
   "execution_count": 101,
   "metadata": {},
   "outputs": [
    {
     "name": "stdout",
     "output_type": "stream",
     "text": [
      "        시도    시군구  읍면동                      상세주소                 사업장명  \\\n",
      "0    서울특별시    강서구  마곡동                특별계획구역 CP1            LEWEST A관   \n",
      "1    서울특별시    강서구  마곡동  특별계획구역 CP2, CP3-1, CP3-2            LEWEST B관   \n",
      "2    인천광역시    계양구  작전동               0 힐스테이트자이계양  GS THE FRESH 인천작전역점   \n",
      "3    인천광역시   미추홀구  주안동                 0 포레나 미추홀     아인애비뉴 메디&라이프 복합몰   \n",
      "4    인천광역시   미추홀구  용현동                    0 자이타워   GS THE FRESH 용현자이점   \n",
      "..     ...    ...  ...                       ...                  ...   \n",
      "125   경상북도  포항시북구  송라면                     광천리 호                 송라시장   \n",
      "126   경상북도  포항시북구  송라면                     광천리 호                 기계시장   \n",
      "127   경상북도  포항시남구  동해면                     도구리 호                 죽장시장   \n",
      "128   경상북도  포항시남구  동해면                     도구리 호                 포항시장   \n",
      "129   경상북도  포항시남구  동해면                     도구리 호                 장기시장   \n",
      "\n",
      "          업태구분명                                 소재지전체주소           결측치주소  \\\n",
      "0    그 밖의 대규모점포                서울특별시 강서구 마곡동 특별계획구역 CP1   서울특별시 강서구 마곡동   \n",
      "1    그 밖의 대규모점포  서울특별시 강서구 마곡동 특별계획구역 CP2, CP3-1, CP3-2   서울특별시 강서구 마곡동   \n",
      "2          구분없음               인천광역시 계양구 작전동 0 힐스테이트자이계양   인천광역시 계양구 작전동   \n",
      "3    그 밖의 대규모점포                인천광역시 미추홀구 주안동 0 포레나 미추홀  인천광역시 미추홀구 주안동   \n",
      "4          구분없음                   인천광역시 미추홀구 용현동 0 자이타워  인천광역시 미추홀구 용현동   \n",
      "..          ...                                     ...             ...   \n",
      "125  그 밖의 대규모점포                 경상북도 포항시북구 송라면 광천리 호       충청남도 아산시 온천동   \n",
      "126  그 밖의 대규모점포                 경상북도 포항시북구 송라면 광천리 호      서울특별시 마포구 공덕동   \n",
      "127  그 밖의 대규모점포                 경상북도 포항시남구 동해면 도구리 호     서울특별시 동대문구 전농동   \n",
      "128  그 밖의 대규모점포                 경상북도 포항시남구 동해면 도구리 호       경상남도 마산시 오동동   \n",
      "129  그 밖의 대규모점포                 경상북도 포항시남구 동해면 도구리 호      서울특별시 송파구 마천동   \n",
      "\n",
      "       Latitude    Longitude  \n",
      "0       37.5738     126.8304  \n",
      "1       37.5738     126.8304  \n",
      "2     37.530797   126.729707  \n",
      "3     37.463776   126.676525  \n",
      "4    37.4508653  126.6470628  \n",
      "..          ...          ...  \n",
      "125     36.7878      127.001  \n",
      "126   37.550192   126.960025  \n",
      "127   37.577998   127.047757  \n",
      "128     35.2063     128.5812  \n",
      "129    37.49602   127.149972  \n",
      "\n",
      "[130 rows x 10 columns]\n"
     ]
    }
   ],
   "source": [
    "# 기존 DataFrame의 '전체주소' 컬럼을 리스트로 변환\n",
    "addresses = temp['결측치주소'].tolist()\n",
    "\n",
    "# ThreadPoolExecutor를 이용해 동시 실행\n",
    "with ThreadPoolExecutor(max_workers=100) as executor:\n",
    "    results = list(executor.map(get_coordinates_from_address, addresses))\n",
    "\n",
    "# 결과를 DataFrame으로 변환 후 기존 DataFrame과 결합\n",
    "df_coordinates = pd.DataFrame(results)\n",
    "temp_final = pd.concat([temp.reset_index(drop=True), df_coordinates], axis=1)\n",
    "print(temp_final)"
   ]
  },
  {
   "cell_type": "code",
   "execution_count": 103,
   "metadata": {},
   "outputs": [
    {
     "data": {
      "text/plain": [
       "시도           0\n",
       "시군구          0\n",
       "읍면동          2\n",
       "상세주소         2\n",
       "사업장명         0\n",
       "업태구분명        1\n",
       "소재지전체주소      0\n",
       "결측치주소        2\n",
       "Latitude     3\n",
       "Longitude    3\n",
       "dtype: int64"
      ]
     },
     "execution_count": 103,
     "metadata": {},
     "output_type": "execute_result"
    }
   ],
   "source": [
    "temp_final.isna().sum()"
   ]
  },
  {
   "cell_type": "markdown",
   "metadata": {},
   "source": [
    "결측치 세개는 구글 지도를 통해 넣자"
   ]
  },
  {
   "cell_type": "code",
   "execution_count": 104,
   "metadata": {},
   "outputs": [
    {
     "data": {
      "text/html": [
       "<div>\n",
       "<style scoped>\n",
       "    .dataframe tbody tr th:only-of-type {\n",
       "        vertical-align: middle;\n",
       "    }\n",
       "\n",
       "    .dataframe tbody tr th {\n",
       "        vertical-align: top;\n",
       "    }\n",
       "\n",
       "    .dataframe thead th {\n",
       "        text-align: right;\n",
       "    }\n",
       "</style>\n",
       "<table border=\"1\" class=\"dataframe\">\n",
       "  <thead>\n",
       "    <tr style=\"text-align: right;\">\n",
       "      <th></th>\n",
       "      <th>시도</th>\n",
       "      <th>시군구</th>\n",
       "      <th>읍면동</th>\n",
       "      <th>상세주소</th>\n",
       "      <th>사업장명</th>\n",
       "      <th>업태구분명</th>\n",
       "      <th>소재지전체주소</th>\n",
       "      <th>결측치주소</th>\n",
       "      <th>Latitude</th>\n",
       "      <th>Longitude</th>\n",
       "    </tr>\n",
       "  </thead>\n",
       "  <tbody>\n",
       "    <tr>\n",
       "      <th>38</th>\n",
       "      <td>대구광역시</td>\n",
       "      <td>달서구</td>\n",
       "      <td>월성1동</td>\n",
       "      <td>89번지 2호</td>\n",
       "      <td>홈플러스(주)익스프레스 월성점</td>\n",
       "      <td>대형마트</td>\n",
       "      <td>대구광역시 달서구 월성1동 89번지 2호</td>\n",
       "      <td>NaN</td>\n",
       "      <td>&lt;NA&gt;</td>\n",
       "      <td>&lt;NA&gt;</td>\n",
       "    </tr>\n",
       "    <tr>\n",
       "      <th>46</th>\n",
       "      <td>경기도</td>\n",
       "      <td>파주시</td>\n",
       "      <td>문산읍</td>\n",
       "      <td>당동리 산업단지내 지원시설용지 1-1</td>\n",
       "      <td>홈플러스(주)파주문산점</td>\n",
       "      <td>대형마트</td>\n",
       "      <td>경기도 파주시 문산읍 당동리 산업단지내 지원시설용지 1-1</td>\n",
       "      <td>경기도 파주시 교하읍</td>\n",
       "      <td>&lt;NA&gt;</td>\n",
       "      <td>&lt;NA&gt;</td>\n",
       "    </tr>\n",
       "    <tr>\n",
       "      <th>79</th>\n",
       "      <td>경상남도</td>\n",
       "      <td>거제시</td>\n",
       "      <td>신현읍</td>\n",
       "      <td>고현리 961번지 59호</td>\n",
       "      <td>회원프라자</td>\n",
       "      <td>그 밖의 대규모점포</td>\n",
       "      <td>경상남도 거제시 신현읍 고현리 961번지 59호</td>\n",
       "      <td>NaN</td>\n",
       "      <td>&lt;NA&gt;</td>\n",
       "      <td>&lt;NA&gt;</td>\n",
       "    </tr>\n",
       "  </tbody>\n",
       "</table>\n",
       "</div>"
      ],
      "text/plain": [
       "       시도  시군구   읍면동                  상세주소              사업장명       업태구분명  \\\n",
       "38  대구광역시  달서구  월성1동               89번지 2호  홈플러스(주)익스프레스 월성점        대형마트   \n",
       "46    경기도  파주시   문산읍  당동리 산업단지내 지원시설용지 1-1      홈플러스(주)파주문산점        대형마트   \n",
       "79   경상남도  거제시   신현읍         고현리 961번지 59호             회원프라자  그 밖의 대규모점포   \n",
       "\n",
       "                             소재지전체주소        결측치주소 Latitude Longitude  \n",
       "38            대구광역시 달서구 월성1동 89번지 2호          NaN     <NA>      <NA>  \n",
       "46  경기도 파주시 문산읍 당동리 산업단지내 지원시설용지 1-1  경기도 파주시 교하읍     <NA>      <NA>  \n",
       "79        경상남도 거제시 신현읍 고현리 961번지 59호          NaN     <NA>      <NA>  "
      ]
     },
     "execution_count": 104,
     "metadata": {},
     "output_type": "execute_result"
    }
   ],
   "source": [
    "temp_final[temp_final['Latitude'].isna() | temp_final['Longitude'].isna()]"
   ]
  },
  {
   "cell_type": "code",
   "execution_count": 106,
   "metadata": {},
   "outputs": [
    {
     "data": {
      "text/html": [
       "<div>\n",
       "<style scoped>\n",
       "    .dataframe tbody tr th:only-of-type {\n",
       "        vertical-align: middle;\n",
       "    }\n",
       "\n",
       "    .dataframe tbody tr th {\n",
       "        vertical-align: top;\n",
       "    }\n",
       "\n",
       "    .dataframe thead th {\n",
       "        text-align: right;\n",
       "    }\n",
       "</style>\n",
       "<table border=\"1\" class=\"dataframe\">\n",
       "  <thead>\n",
       "    <tr style=\"text-align: right;\">\n",
       "      <th></th>\n",
       "      <th>시도</th>\n",
       "      <th>시군구</th>\n",
       "      <th>읍면동</th>\n",
       "      <th>상세주소</th>\n",
       "      <th>사업장명</th>\n",
       "      <th>업태구분명</th>\n",
       "      <th>소재지전체주소</th>\n",
       "      <th>결측치주소</th>\n",
       "      <th>Latitude</th>\n",
       "      <th>Longitude</th>\n",
       "    </tr>\n",
       "  </thead>\n",
       "  <tbody>\n",
       "    <tr>\n",
       "      <th>38</th>\n",
       "      <td>대구광역시</td>\n",
       "      <td>달서구</td>\n",
       "      <td>월성1동</td>\n",
       "      <td>89번지 2호</td>\n",
       "      <td>홈플러스(주)익스프레스 월성점</td>\n",
       "      <td>대형마트</td>\n",
       "      <td>대구광역시 달서구 월성1동 89번지 2호</td>\n",
       "      <td>NaN</td>\n",
       "      <td>35.824818</td>\n",
       "      <td>128.526019</td>\n",
       "    </tr>\n",
       "    <tr>\n",
       "      <th>46</th>\n",
       "      <td>경기도</td>\n",
       "      <td>파주시</td>\n",
       "      <td>문산읍</td>\n",
       "      <td>당동리 산업단지내 지원시설용지 1-1</td>\n",
       "      <td>홈플러스(주)파주문산점</td>\n",
       "      <td>대형마트</td>\n",
       "      <td>경기도 파주시 문산읍 당동리 산업단지내 지원시설용지 1-1</td>\n",
       "      <td>경기도 파주시 교하읍</td>\n",
       "      <td>37.862314</td>\n",
       "      <td>126.779992</td>\n",
       "    </tr>\n",
       "    <tr>\n",
       "      <th>79</th>\n",
       "      <td>경상남도</td>\n",
       "      <td>거제시</td>\n",
       "      <td>신현읍</td>\n",
       "      <td>고현리 961번지 59호</td>\n",
       "      <td>회원프라자</td>\n",
       "      <td>그 밖의 대규모점포</td>\n",
       "      <td>경상남도 거제시 신현읍 고현리 961번지 59호</td>\n",
       "      <td>NaN</td>\n",
       "      <td>34.888525</td>\n",
       "      <td>128.620431</td>\n",
       "    </tr>\n",
       "  </tbody>\n",
       "</table>\n",
       "</div>"
      ],
      "text/plain": [
       "       시도  시군구   읍면동                  상세주소              사업장명       업태구분명  \\\n",
       "38  대구광역시  달서구  월성1동               89번지 2호  홈플러스(주)익스프레스 월성점        대형마트   \n",
       "46    경기도  파주시   문산읍  당동리 산업단지내 지원시설용지 1-1      홈플러스(주)파주문산점        대형마트   \n",
       "79   경상남도  거제시   신현읍         고현리 961번지 59호             회원프라자  그 밖의 대규모점포   \n",
       "\n",
       "                             소재지전체주소        결측치주소   Latitude   Longitude  \n",
       "38            대구광역시 달서구 월성1동 89번지 2호          NaN  35.824818  128.526019  \n",
       "46  경기도 파주시 문산읍 당동리 산업단지내 지원시설용지 1-1  경기도 파주시 교하읍  37.862314  126.779992  \n",
       "79        경상남도 거제시 신현읍 고현리 961번지 59호          NaN  34.888525  128.620431  "
      ]
     },
     "execution_count": 106,
     "metadata": {},
     "output_type": "execute_result"
    }
   ],
   "source": [
    "temp_final.loc[38, [\"Latitude\", \"Longitude\"]]=[35.824818, 128.526019]\n",
    "temp_final.loc[46, [\"Latitude\", \"Longitude\"]]=[37.862314, 126.779992]\n",
    "temp_final.loc[79, [\"Latitude\", \"Longitude\"]]=[34.888525, 128.620431]\n",
    "temp_final.loc[[38,46,79]]"
   ]
  },
  {
   "cell_type": "code",
   "execution_count": 108,
   "metadata": {},
   "outputs": [
    {
     "data": {
      "text/plain": [
       "시도           0\n",
       "시군구          0\n",
       "읍면동          2\n",
       "상세주소         2\n",
       "사업장명         0\n",
       "업태구분명        1\n",
       "소재지전체주소      0\n",
       "결측치주소        2\n",
       "Latitude     0\n",
       "Longitude    0\n",
       "dtype: int64"
      ]
     },
     "execution_count": 108,
     "metadata": {},
     "output_type": "execute_result"
    }
   ],
   "source": [
    "temp_final.isna().sum()"
   ]
  },
  {
   "cell_type": "markdown",
   "metadata": {},
   "source": [
    "### df_final의 좌표 결측치를 temp_final의 좌표로 채우기"
   ]
  },
  {
   "cell_type": "code",
   "execution_count": 109,
   "metadata": {},
   "outputs": [
    {
     "data": {
      "text/html": [
       "<div>\n",
       "<style scoped>\n",
       "    .dataframe tbody tr th:only-of-type {\n",
       "        vertical-align: middle;\n",
       "    }\n",
       "\n",
       "    .dataframe tbody tr th {\n",
       "        vertical-align: top;\n",
       "    }\n",
       "\n",
       "    .dataframe thead th {\n",
       "        text-align: right;\n",
       "    }\n",
       "</style>\n",
       "<table border=\"1\" class=\"dataframe\">\n",
       "  <thead>\n",
       "    <tr style=\"text-align: right;\">\n",
       "      <th></th>\n",
       "      <th>시도</th>\n",
       "      <th>시군구</th>\n",
       "      <th>읍면동</th>\n",
       "      <th>상세주소</th>\n",
       "      <th>사업장명</th>\n",
       "      <th>업태구분명</th>\n",
       "      <th>소재지전체주소</th>\n",
       "      <th>Latitude</th>\n",
       "      <th>Longitude</th>\n",
       "    </tr>\n",
       "  </thead>\n",
       "  <tbody>\n",
       "    <tr>\n",
       "      <th>0</th>\n",
       "      <td>서울특별시</td>\n",
       "      <td>강동구</td>\n",
       "      <td>둔촌동</td>\n",
       "      <td>174-1 B102,B103호</td>\n",
       "      <td>(주)이마트에브리데이 둔촌점</td>\n",
       "      <td>구분없음</td>\n",
       "      <td>서울특별시 강동구 둔촌동 174-1 B102,B103호</td>\n",
       "      <td>37.5215261</td>\n",
       "      <td>127.1368255</td>\n",
       "    </tr>\n",
       "    <tr>\n",
       "      <th>1</th>\n",
       "      <td>서울특별시</td>\n",
       "      <td>강동구</td>\n",
       "      <td>둔촌동</td>\n",
       "      <td>170-1</td>\n",
       "      <td>GS THE FRESH 둔촌포레온점</td>\n",
       "      <td>구분없음</td>\n",
       "      <td>서울특별시 강동구 둔촌동 170-1</td>\n",
       "      <td>37.5269345</td>\n",
       "      <td>127.1387574</td>\n",
       "    </tr>\n",
       "    <tr>\n",
       "      <th>2</th>\n",
       "      <td>서울특별시</td>\n",
       "      <td>강동구</td>\n",
       "      <td>둔촌동</td>\n",
       "      <td>170-1</td>\n",
       "      <td>하나로마트 둔촌점</td>\n",
       "      <td>구분없음</td>\n",
       "      <td>서울특별시 강동구 둔촌동 170-1</td>\n",
       "      <td>37.5269345</td>\n",
       "      <td>127.1387574</td>\n",
       "    </tr>\n",
       "    <tr>\n",
       "      <th>3</th>\n",
       "      <td>서울특별시</td>\n",
       "      <td>용산구</td>\n",
       "      <td>용산동6가</td>\n",
       "      <td>69-167 신동아쇼핑</td>\n",
       "      <td>신동아쇼핑센터</td>\n",
       "      <td>쇼핑센터</td>\n",
       "      <td>서울특별시 용산구 용산동6가 69-167 신동아쇼핑</td>\n",
       "      <td>37.5172474</td>\n",
       "      <td>126.9852079</td>\n",
       "    </tr>\n",
       "    <tr>\n",
       "      <th>4</th>\n",
       "      <td>경상남도</td>\n",
       "      <td>김해시</td>\n",
       "      <td>신문동</td>\n",
       "      <td>506-4</td>\n",
       "      <td>롯데슈퍼 김해신문점</td>\n",
       "      <td>구분없음</td>\n",
       "      <td>경상남도 김해시 신문동 506-4</td>\n",
       "      <td>35.1955769</td>\n",
       "      <td>128.8150481</td>\n",
       "    </tr>\n",
       "  </tbody>\n",
       "</table>\n",
       "</div>"
      ],
      "text/plain": [
       "      시도  시군구    읍면동              상세주소                 사업장명 업태구분명  \\\n",
       "0  서울특별시  강동구    둔촌동  174-1 B102,B103호      (주)이마트에브리데이 둔촌점  구분없음   \n",
       "1  서울특별시  강동구    둔촌동             170-1  GS THE FRESH 둔촌포레온점  구분없음   \n",
       "2  서울특별시  강동구    둔촌동             170-1            하나로마트 둔촌점  구분없음   \n",
       "3  서울특별시  용산구  용산동6가      69-167 신동아쇼핑              신동아쇼핑센터  쇼핑센터   \n",
       "4   경상남도  김해시    신문동             506-4           롯데슈퍼 김해신문점  구분없음   \n",
       "\n",
       "                          소재지전체주소    Latitude    Longitude  \n",
       "0  서울특별시 강동구 둔촌동 174-1 B102,B103호  37.5215261  127.1368255  \n",
       "1             서울특별시 강동구 둔촌동 170-1  37.5269345  127.1387574  \n",
       "2             서울특별시 강동구 둔촌동 170-1  37.5269345  127.1387574  \n",
       "3    서울특별시 용산구 용산동6가 69-167 신동아쇼핑  37.5172474  126.9852079  \n",
       "4              경상남도 김해시 신문동 506-4  35.1955769  128.8150481  "
      ]
     },
     "execution_count": 109,
     "metadata": {},
     "output_type": "execute_result"
    }
   ],
   "source": [
    "df_final.head()"
   ]
  },
  {
   "cell_type": "code",
   "execution_count": 111,
   "metadata": {},
   "outputs": [
    {
     "data": {
      "text/html": [
       "<div>\n",
       "<style scoped>\n",
       "    .dataframe tbody tr th:only-of-type {\n",
       "        vertical-align: middle;\n",
       "    }\n",
       "\n",
       "    .dataframe tbody tr th {\n",
       "        vertical-align: top;\n",
       "    }\n",
       "\n",
       "    .dataframe thead th {\n",
       "        text-align: right;\n",
       "    }\n",
       "</style>\n",
       "<table border=\"1\" class=\"dataframe\">\n",
       "  <thead>\n",
       "    <tr style=\"text-align: right;\">\n",
       "      <th></th>\n",
       "      <th>시도</th>\n",
       "      <th>시군구</th>\n",
       "      <th>읍면동</th>\n",
       "      <th>상세주소</th>\n",
       "      <th>사업장명</th>\n",
       "      <th>업태구분명</th>\n",
       "      <th>소재지전체주소</th>\n",
       "      <th>Latitude</th>\n",
       "      <th>Longitude</th>\n",
       "      <th>Latitude_temp</th>\n",
       "      <th>Longitude_temp</th>\n",
       "    </tr>\n",
       "  </thead>\n",
       "  <tbody>\n",
       "    <tr>\n",
       "      <th>0</th>\n",
       "      <td>서울특별시</td>\n",
       "      <td>강동구</td>\n",
       "      <td>둔촌동</td>\n",
       "      <td>174-1 B102,B103호</td>\n",
       "      <td>(주)이마트에브리데이 둔촌점</td>\n",
       "      <td>구분없음</td>\n",
       "      <td>서울특별시 강동구 둔촌동 174-1 B102,B103호</td>\n",
       "      <td>37.5215261</td>\n",
       "      <td>127.1368255</td>\n",
       "      <td>NaN</td>\n",
       "      <td>NaN</td>\n",
       "    </tr>\n",
       "  </tbody>\n",
       "</table>\n",
       "</div>"
      ],
      "text/plain": [
       "      시도  시군구  읍면동              상세주소             사업장명 업태구분명  \\\n",
       "0  서울특별시  강동구  둔촌동  174-1 B102,B103호  (주)이마트에브리데이 둔촌점  구분없음   \n",
       "\n",
       "                          소재지전체주소    Latitude    Longitude Latitude_temp  \\\n",
       "0  서울특별시 강동구 둔촌동 174-1 B102,B103호  37.5215261  127.1368255           NaN   \n",
       "\n",
       "  Longitude_temp  \n",
       "0            NaN  "
      ]
     },
     "execution_count": 111,
     "metadata": {},
     "output_type": "execute_result"
    }
   ],
   "source": [
    "temp_1 = temp_final[['소재지전체주소', 'Latitude', 'Longitude']]\n",
    "df_merged = df_final.merge(temp_1, on='소재지전체주소', how='left', suffixes=('', '_temp'))\n",
    "df_merged.head(1)"
   ]
  },
  {
   "cell_type": "code",
   "execution_count": 112,
   "metadata": {},
   "outputs": [],
   "source": [
    "df_merged['Latitude'] = df_merged['Latitude'].fillna(df_merged['Latitude_temp'])\n",
    "df_merged['Longitude'] = df_merged['Longitude'].fillna(df_merged['Longitude_temp'])"
   ]
  },
  {
   "cell_type": "code",
   "execution_count": 113,
   "metadata": {},
   "outputs": [
    {
     "data": {
      "text/plain": [
       "시도                   0\n",
       "시군구                  0\n",
       "읍면동                  4\n",
       "상세주소                11\n",
       "사업장명                 0\n",
       "업태구분명                9\n",
       "소재지전체주소              0\n",
       "Latitude             0\n",
       "Longitude            0\n",
       "Latitude_temp     2662\n",
       "Longitude_temp    2662\n",
       "dtype: int64"
      ]
     },
     "execution_count": 113,
     "metadata": {},
     "output_type": "execute_result"
    }
   ],
   "source": [
    "df_merged.isna().sum()"
   ]
  },
  {
   "cell_type": "markdown",
   "metadata": {},
   "source": [
    "좌표를 무사히 다 채워넣었다."
   ]
  },
  {
   "cell_type": "markdown",
   "metadata": {},
   "source": [
    "## 마무리 전처리"
   ]
  },
  {
   "cell_type": "code",
   "execution_count": 114,
   "metadata": {},
   "outputs": [],
   "source": [
    "df_merged=df_merged[[\"시도\",\"시군구\",\"읍면동\",\"상세주소\",\"사업장명\",\"업태구분명\",\"Latitude\",\"Longitude\"]]"
   ]
  },
  {
   "cell_type": "code",
   "execution_count": 115,
   "metadata": {},
   "outputs": [
    {
     "data": {
      "text/html": [
       "<div>\n",
       "<style scoped>\n",
       "    .dataframe tbody tr th:only-of-type {\n",
       "        vertical-align: middle;\n",
       "    }\n",
       "\n",
       "    .dataframe tbody tr th {\n",
       "        vertical-align: top;\n",
       "    }\n",
       "\n",
       "    .dataframe thead th {\n",
       "        text-align: right;\n",
       "    }\n",
       "</style>\n",
       "<table border=\"1\" class=\"dataframe\">\n",
       "  <thead>\n",
       "    <tr style=\"text-align: right;\">\n",
       "      <th></th>\n",
       "      <th>County</th>\n",
       "      <th>City</th>\n",
       "      <th>Town</th>\n",
       "      <th>Address</th>\n",
       "      <th>Store_Name</th>\n",
       "      <th>Store_Type</th>\n",
       "      <th>Latitude</th>\n",
       "      <th>Longitude</th>\n",
       "    </tr>\n",
       "  </thead>\n",
       "  <tbody>\n",
       "    <tr>\n",
       "      <th>0</th>\n",
       "      <td>서울특별시</td>\n",
       "      <td>강동구</td>\n",
       "      <td>둔촌동</td>\n",
       "      <td>174-1 B102,B103호</td>\n",
       "      <td>(주)이마트에브리데이 둔촌점</td>\n",
       "      <td>구분없음</td>\n",
       "      <td>37.5215261</td>\n",
       "      <td>127.1368255</td>\n",
       "    </tr>\n",
       "  </tbody>\n",
       "</table>\n",
       "</div>"
      ],
      "text/plain": [
       "  County City Town           Address       Store_Name Store_Type    Latitude  \\\n",
       "0  서울특별시  강동구  둔촌동  174-1 B102,B103호  (주)이마트에브리데이 둔촌점       구분없음  37.5215261   \n",
       "\n",
       "     Longitude  \n",
       "0  127.1368255  "
      ]
     },
     "execution_count": 115,
     "metadata": {},
     "output_type": "execute_result"
    }
   ],
   "source": [
    "df_merged.columns=[\"County\",\"City\",\"Town\",\"Address\",\"Store_Name\",\"Store_Type\",\"Latitude\",\"Longitude\"]\n",
    "df_merged.head(1)"
   ]
  },
  {
   "cell_type": "code",
   "execution_count": 118,
   "metadata": {},
   "outputs": [
    {
     "data": {
      "text/plain": [
       "array(['서울특별시', '경상남도', '대구광역시', '인천광역시', '부산광역시', '충청남도', '세종특별자치시',\n",
       "       '경기도', '강원특별자치도', '경상북도', '충청북도', '전북특별자치도', '대전광역시', '울산광역시',\n",
       "       '전라남도', '제주특별자치도', '광주광역시', '133번지'], dtype=object)"
      ]
     },
     "execution_count": 118,
     "metadata": {},
     "output_type": "execute_result"
    }
   ],
   "source": [
    "df_merged.County.unique()"
   ]
  },
  {
   "cell_type": "markdown",
   "metadata": {},
   "source": [
    "113번지가 주소(시도)에 잘못 들어가 있다"
   ]
  },
  {
   "cell_type": "code",
   "execution_count": 121,
   "metadata": {},
   "outputs": [
    {
     "data": {
      "text/html": [
       "<div>\n",
       "<style scoped>\n",
       "    .dataframe tbody tr th:only-of-type {\n",
       "        vertical-align: middle;\n",
       "    }\n",
       "\n",
       "    .dataframe tbody tr th {\n",
       "        vertical-align: top;\n",
       "    }\n",
       "\n",
       "    .dataframe thead th {\n",
       "        text-align: right;\n",
       "    }\n",
       "</style>\n",
       "<table border=\"1\" class=\"dataframe\">\n",
       "  <thead>\n",
       "    <tr style=\"text-align: right;\">\n",
       "      <th></th>\n",
       "      <th>County</th>\n",
       "      <th>City</th>\n",
       "      <th>Town</th>\n",
       "      <th>Address</th>\n",
       "      <th>Store_Name</th>\n",
       "      <th>Store_Type</th>\n",
       "      <th>Latitude</th>\n",
       "      <th>Longitude</th>\n",
       "    </tr>\n",
       "  </thead>\n",
       "  <tbody>\n",
       "    <tr>\n",
       "      <th>704</th>\n",
       "      <td>133번지</td>\n",
       "      <td>1호</td>\n",
       "      <td>&lt;NA&gt;</td>\n",
       "      <td>&lt;NA&gt;</td>\n",
       "      <td>(주)이마트 봉담점</td>\n",
       "      <td>대형마트</td>\n",
       "      <td>37.528317</td>\n",
       "      <td>126.929425</td>\n",
       "    </tr>\n",
       "    <tr>\n",
       "      <th>705</th>\n",
       "      <td>133번지</td>\n",
       "      <td>1호</td>\n",
       "      <td>&lt;NA&gt;</td>\n",
       "      <td>&lt;NA&gt;</td>\n",
       "      <td>(주)이마트 봉담점</td>\n",
       "      <td>대형마트</td>\n",
       "      <td>35.169201</td>\n",
       "      <td>128.164238</td>\n",
       "    </tr>\n",
       "    <tr>\n",
       "      <th>707</th>\n",
       "      <td>133번지</td>\n",
       "      <td>1호</td>\n",
       "      <td>&lt;NA&gt;</td>\n",
       "      <td>&lt;NA&gt;</td>\n",
       "      <td>이마트 화성봉담점</td>\n",
       "      <td>대형마트</td>\n",
       "      <td>37.528317</td>\n",
       "      <td>126.929425</td>\n",
       "    </tr>\n",
       "    <tr>\n",
       "      <th>708</th>\n",
       "      <td>133번지</td>\n",
       "      <td>1호</td>\n",
       "      <td>&lt;NA&gt;</td>\n",
       "      <td>&lt;NA&gt;</td>\n",
       "      <td>이마트 화성봉담점</td>\n",
       "      <td>대형마트</td>\n",
       "      <td>35.169201</td>\n",
       "      <td>128.164238</td>\n",
       "    </tr>\n",
       "  </tbody>\n",
       "</table>\n",
       "</div>"
      ],
      "text/plain": [
       "    County City  Town Address  Store_Name Store_Type   Latitude   Longitude\n",
       "704  133번지   1호  <NA>    <NA>  (주)이마트 봉담점       대형마트  37.528317  126.929425\n",
       "705  133번지   1호  <NA>    <NA>  (주)이마트 봉담점       대형마트  35.169201  128.164238\n",
       "707  133번지   1호  <NA>    <NA>   이마트 화성봉담점       대형마트  37.528317  126.929425\n",
       "708  133번지   1호  <NA>    <NA>   이마트 화성봉담점       대형마트  35.169201  128.164238"
      ]
     },
     "execution_count": 121,
     "metadata": {},
     "output_type": "execute_result"
    }
   ],
   "source": [
    "df_merged.query(\"County=='133번지'\")"
   ]
  },
  {
   "cell_type": "code",
   "execution_count": 124,
   "metadata": {},
   "outputs": [],
   "source": [
    "# 그냥 전부 제거하자\n",
    "df_merged=df_merged.query(\"County!='133번지'\")"
   ]
  },
  {
   "cell_type": "markdown",
   "metadata": {},
   "source": [
    "## 저장"
   ]
  },
  {
   "cell_type": "code",
   "execution_count": null,
   "metadata": {},
   "outputs": [],
   "source": [
    "df_merged.to_csv(\"결과데이터/전국시장정보.csv\", index=False, encoding=\"cp949\")"
   ]
  },
  {
   "cell_type": "markdown",
   "metadata": {},
   "source": [
    "# 4. 전국 영화관 정보"
   ]
  },
  {
   "cell_type": "code",
   "execution_count": null,
   "metadata": {},
   "outputs": [
    {
     "name": "stderr",
     "output_type": "stream",
     "text": [
      "c:\\ProgramData\\anaconda3\\Lib\\site-packages\\openpyxl\\styles\\stylesheet.py:237: UserWarning: Workbook contains no default style, apply openpyxl's default\n",
      "  warn(\"Workbook contains no default style, apply openpyxl's default\")\n"
     ]
    },
    {
     "data": {
      "text/html": [
       "<div>\n",
       "<style scoped>\n",
       "    .dataframe tbody tr th:only-of-type {\n",
       "        vertical-align: middle;\n",
       "    }\n",
       "\n",
       "    .dataframe tbody tr th {\n",
       "        vertical-align: top;\n",
       "    }\n",
       "\n",
       "    .dataframe thead th {\n",
       "        text-align: right;\n",
       "    }\n",
       "</style>\n",
       "<table border=\"1\" class=\"dataframe\">\n",
       "  <thead>\n",
       "    <tr style=\"text-align: right;\">\n",
       "      <th></th>\n",
       "      <th>소재지전체주소</th>\n",
       "      <th>사업장명</th>\n",
       "      <th>공연장형태구분명</th>\n",
       "    </tr>\n",
       "  </thead>\n",
       "  <tbody>\n",
       "    <tr>\n",
       "      <th>0</th>\n",
       "      <td>전라남도 강진군 강진읍 동성리 192-9 강진군 어울림센터 3층</td>\n",
       "      <td>강진영화관 1관</td>\n",
       "      <td>영화관</td>\n",
       "    </tr>\n",
       "  </tbody>\n",
       "</table>\n",
       "</div>"
      ],
      "text/plain": [
       "                                소재지전체주소      사업장명 공연장형태구분명\n",
       "0  전라남도 강진군 강진읍 동성리 192-9 강진군 어울림센터 3층   강진영화관 1관      영화관"
      ]
     },
     "execution_count": 2,
     "metadata": {},
     "output_type": "execute_result"
    }
   ],
   "source": [
    "data=pd.read_excel(\"원본데이터/03_13_02_P_영화상영관.xlsx\")\n",
    "data=data[[\"소재지전체주소\",\"사업장명\",\"공연장형태구분명\"]] #필요한 데이터만\n",
    "data.head(1)"
   ]
  },
  {
   "cell_type": "code",
   "execution_count": 128,
   "metadata": {},
   "outputs": [
    {
     "data": {
      "text/plain": [
       "소재지전체주소      0\n",
       "사업장명         0\n",
       "공연장형태구분명    39\n",
       "dtype: int64"
      ]
     },
     "execution_count": 128,
     "metadata": {},
     "output_type": "execute_result"
    }
   ],
   "source": [
    "data.isna().sum()"
   ]
  },
  {
   "cell_type": "markdown",
   "metadata": {},
   "source": [
    "공연장형태구분명은 중요한게 아니니 넘어가자"
   ]
  },
  {
   "cell_type": "markdown",
   "metadata": {},
   "source": [
    "## 영화관 중복 처리"
   ]
  },
  {
   "cell_type": "markdown",
   "metadata": {},
   "source": [
    "같은 건물에 영화관 이름이 같은게 많다"
   ]
  },
  {
   "cell_type": "code",
   "execution_count": 129,
   "metadata": {},
   "outputs": [],
   "source": [
    "data=data.drop_duplicates(\"소재지전체주소\")"
   ]
  },
  {
   "cell_type": "markdown",
   "metadata": {},
   "source": [
    "## 주소 분할"
   ]
  },
  {
   "cell_type": "code",
   "execution_count": null,
   "metadata": {},
   "outputs": [
    {
     "ename": "KeyError",
     "evalue": "'소재지전체주소'",
     "output_type": "error",
     "traceback": [
      "\u001b[1;31m---------------------------------------------------------------------------\u001b[0m",
      "\u001b[1;31mKeyError\u001b[0m                                  Traceback (most recent call last)",
      "File \u001b[1;32mc:\\ProgramData\\anaconda3\\Lib\\site-packages\\pandas\\core\\indexes\\base.py:3805\u001b[0m, in \u001b[0;36mIndex.get_loc\u001b[1;34m(self, key)\u001b[0m\n\u001b[0;32m   3804\u001b[0m \u001b[38;5;28;01mtry\u001b[39;00m:\n\u001b[1;32m-> 3805\u001b[0m     \u001b[38;5;28;01mreturn\u001b[39;00m \u001b[38;5;28mself\u001b[39m\u001b[38;5;241m.\u001b[39m_engine\u001b[38;5;241m.\u001b[39mget_loc(casted_key)\n\u001b[0;32m   3806\u001b[0m \u001b[38;5;28;01mexcept\u001b[39;00m \u001b[38;5;167;01mKeyError\u001b[39;00m \u001b[38;5;28;01mas\u001b[39;00m err:\n",
      "File \u001b[1;32mindex.pyx:167\u001b[0m, in \u001b[0;36mpandas._libs.index.IndexEngine.get_loc\u001b[1;34m()\u001b[0m\n",
      "File \u001b[1;32mindex.pyx:196\u001b[0m, in \u001b[0;36mpandas._libs.index.IndexEngine.get_loc\u001b[1;34m()\u001b[0m\n",
      "File \u001b[1;32mpandas\\\\_libs\\\\hashtable_class_helper.pxi:7081\u001b[0m, in \u001b[0;36mpandas._libs.hashtable.PyObjectHashTable.get_item\u001b[1;34m()\u001b[0m\n",
      "File \u001b[1;32mpandas\\\\_libs\\\\hashtable_class_helper.pxi:7089\u001b[0m, in \u001b[0;36mpandas._libs.hashtable.PyObjectHashTable.get_item\u001b[1;34m()\u001b[0m\n",
      "\u001b[1;31mKeyError\u001b[0m: '소재지전체주소'",
      "\nThe above exception was the direct cause of the following exception:\n",
      "\u001b[1;31mKeyError\u001b[0m                                  Traceback (most recent call last)",
      "Cell \u001b[1;32mIn[6], line 15\u001b[0m\n\u001b[0;32m     13\u001b[0m     \u001b[38;5;28;01melse\u001b[39;00m:\n\u001b[0;32m     14\u001b[0m         \u001b[38;5;28;01mreturn\u001b[39;00m pd\u001b[38;5;241m.\u001b[39mSeries([pd\u001b[38;5;241m.\u001b[39mNA, pd\u001b[38;5;241m.\u001b[39mNA, pd\u001b[38;5;241m.\u001b[39mNA, pd\u001b[38;5;241m.\u001b[39mNA]) \u001b[38;5;66;03m#주소가 없을 경우\u001b[39;00m\n\u001b[1;32m---> 15\u001b[0m data[[\u001b[38;5;124m\"\u001b[39m\u001b[38;5;124m시도\u001b[39m\u001b[38;5;124m\"\u001b[39m, \u001b[38;5;124m\"\u001b[39m\u001b[38;5;124m시군구\u001b[39m\u001b[38;5;124m\"\u001b[39m, \u001b[38;5;124m\"\u001b[39m\u001b[38;5;124m읍면동\u001b[39m\u001b[38;5;124m\"\u001b[39m, \u001b[38;5;124m\"\u001b[39m\u001b[38;5;124m상세주소\u001b[39m\u001b[38;5;124m\"\u001b[39m]] \u001b[38;5;241m=\u001b[39m data[\u001b[38;5;124m\"\u001b[39m\u001b[38;5;124m소재지전체주소\u001b[39m\u001b[38;5;124m\"\u001b[39m]\u001b[38;5;241m.\u001b[39mapply(split_full_address)\n",
      "File \u001b[1;32mc:\\ProgramData\\anaconda3\\Lib\\site-packages\\pandas\\core\\frame.py:4102\u001b[0m, in \u001b[0;36mDataFrame.__getitem__\u001b[1;34m(self, key)\u001b[0m\n\u001b[0;32m   4100\u001b[0m \u001b[38;5;28;01mif\u001b[39;00m \u001b[38;5;28mself\u001b[39m\u001b[38;5;241m.\u001b[39mcolumns\u001b[38;5;241m.\u001b[39mnlevels \u001b[38;5;241m>\u001b[39m \u001b[38;5;241m1\u001b[39m:\n\u001b[0;32m   4101\u001b[0m     \u001b[38;5;28;01mreturn\u001b[39;00m \u001b[38;5;28mself\u001b[39m\u001b[38;5;241m.\u001b[39m_getitem_multilevel(key)\n\u001b[1;32m-> 4102\u001b[0m indexer \u001b[38;5;241m=\u001b[39m \u001b[38;5;28mself\u001b[39m\u001b[38;5;241m.\u001b[39mcolumns\u001b[38;5;241m.\u001b[39mget_loc(key)\n\u001b[0;32m   4103\u001b[0m \u001b[38;5;28;01mif\u001b[39;00m is_integer(indexer):\n\u001b[0;32m   4104\u001b[0m     indexer \u001b[38;5;241m=\u001b[39m [indexer]\n",
      "File \u001b[1;32mc:\\ProgramData\\anaconda3\\Lib\\site-packages\\pandas\\core\\indexes\\base.py:3812\u001b[0m, in \u001b[0;36mIndex.get_loc\u001b[1;34m(self, key)\u001b[0m\n\u001b[0;32m   3807\u001b[0m     \u001b[38;5;28;01mif\u001b[39;00m \u001b[38;5;28misinstance\u001b[39m(casted_key, \u001b[38;5;28mslice\u001b[39m) \u001b[38;5;129;01mor\u001b[39;00m (\n\u001b[0;32m   3808\u001b[0m         \u001b[38;5;28misinstance\u001b[39m(casted_key, abc\u001b[38;5;241m.\u001b[39mIterable)\n\u001b[0;32m   3809\u001b[0m         \u001b[38;5;129;01mand\u001b[39;00m \u001b[38;5;28many\u001b[39m(\u001b[38;5;28misinstance\u001b[39m(x, \u001b[38;5;28mslice\u001b[39m) \u001b[38;5;28;01mfor\u001b[39;00m x \u001b[38;5;129;01min\u001b[39;00m casted_key)\n\u001b[0;32m   3810\u001b[0m     ):\n\u001b[0;32m   3811\u001b[0m         \u001b[38;5;28;01mraise\u001b[39;00m InvalidIndexError(key)\n\u001b[1;32m-> 3812\u001b[0m     \u001b[38;5;28;01mraise\u001b[39;00m \u001b[38;5;167;01mKeyError\u001b[39;00m(key) \u001b[38;5;28;01mfrom\u001b[39;00m \u001b[38;5;21;01merr\u001b[39;00m\n\u001b[0;32m   3813\u001b[0m \u001b[38;5;28;01mexcept\u001b[39;00m \u001b[38;5;167;01mTypeError\u001b[39;00m:\n\u001b[0;32m   3814\u001b[0m     \u001b[38;5;66;03m# If we have a listlike key, _check_indexing_error will raise\u001b[39;00m\n\u001b[0;32m   3815\u001b[0m     \u001b[38;5;66;03m#  InvalidIndexError. Otherwise we fall through and re-raise\u001b[39;00m\n\u001b[0;32m   3816\u001b[0m     \u001b[38;5;66;03m#  the TypeError.\u001b[39;00m\n\u001b[0;32m   3817\u001b[0m     \u001b[38;5;28mself\u001b[39m\u001b[38;5;241m.\u001b[39m_check_indexing_error(key)\n",
      "\u001b[1;31mKeyError\u001b[0m: '소재지전체주소'"
     ]
    }
   ],
   "source": [
    "data[[\"시도\", \"시군구\", \"읍면동\", \"상세주소\"]] = data[\"소재지전체주소\"].apply(split_full_address)"
   ]
  },
  {
   "cell_type": "code",
   "execution_count": 131,
   "metadata": {},
   "outputs": [
    {
     "data": {
      "text/plain": [
       "소재지전체주소     0\n",
       "사업장명        0\n",
       "공연장형태구분명    9\n",
       "시도          0\n",
       "시군구         0\n",
       "읍면동         0\n",
       "상세주소        1\n",
       "dtype: int64"
      ]
     },
     "execution_count": 131,
     "metadata": {},
     "output_type": "execute_result"
    }
   ],
   "source": [
    "data.isna().sum()"
   ]
  },
  {
   "cell_type": "code",
   "execution_count": 133,
   "metadata": {},
   "outputs": [
    {
     "data": {
      "text/plain": [
       "array(['전라남도', '인천광역시', '경상북도', '서울특별시', '충청북도', '강원특별자치도', '부산광역시',\n",
       "       '광주광역시', '경기도', '울산광역시', '전북특별자치도', '대구광역시', '경상남도', '제주특별자치도',\n",
       "       '대전광역시', '충청남도', '세종특별자치시', '전라북도'], dtype=object)"
      ]
     },
     "execution_count": 133,
     "metadata": {},
     "output_type": "execute_result"
    }
   ],
   "source": [
    "data.시도.unique()"
   ]
  },
  {
   "cell_type": "markdown",
   "metadata": {},
   "source": [
    "전북특별자치도와 전라북도를 하나로 통합하자"
   ]
  },
  {
   "cell_type": "code",
   "execution_count": 137,
   "metadata": {},
   "outputs": [
    {
     "data": {
      "text/plain": [
       "array(['전라남도', '인천광역시', '경상북도', '서울특별시', '충청북도', '강원특별자치도', '부산광역시',\n",
       "       '광주광역시', '경기도', '울산광역시', '전라북도', '대구광역시', '경상남도', '제주특별자치도',\n",
       "       '대전광역시', '충청남도', '세종특별자치시'], dtype=object)"
      ]
     },
     "execution_count": 137,
     "metadata": {},
     "output_type": "execute_result"
    }
   ],
   "source": [
    "data.replace({\"시도\": {\"전북특별자치도\": \"전라북도\"}}, inplace=True)\n",
    "data.시도.unique()"
   ]
  },
  {
   "cell_type": "markdown",
   "metadata": {},
   "source": [
    "## 네이버 지도 API 좌표"
   ]
  },
  {
   "cell_type": "code",
   "execution_count": 139,
   "metadata": {},
   "outputs": [
    {
     "name": "stdout",
     "output_type": "stream",
     "text": [
      "                                  소재지전체주소                   사업장명 공연장형태구분명  \\\n",
      "0    전라남도 강진군 강진읍 동성리 192-9 강진군 어울림센터 3층                강진영화관 1관      영화관   \n",
      "1             인천광역시 미추홀구 학익동 0 시티오씨엘 3단지   메가박스중앙(주)인천학익지점 컴포트5관      영화관   \n",
      "2         경상북도 의성군 안계면 용기리 843-5 안계행복플랫폼                 안계행복영화관      영화관   \n",
      "3      경상북도 의성군 의성읍 후죽리 508-1 의성군청소년문화의집              의성작은영화관 2관      영화관   \n",
      "4              서울특별시 마포구 서교동 354-5 라이즈호텔             모노플렉스 앳 라이즈      영화관   \n",
      "..                                    ...                    ...      ...   \n",
      "798                 경기도 동두천시 생연동 616-5번지                 문화극장 2관      영화관   \n",
      "799                   경기도 동두천시 생연동 616-2                 문화극장 1관      영화관   \n",
      "800                강원특별자치도 원주시 학성동 329-2                    문화극장      영화관   \n",
      "801                  강원특별자치도 원주시 평원동 368                    아카데미      영화관   \n",
      "802                 경기도 동두천시 생연동 828-2번지                 문화극장 3관      영화관   \n",
      "\n",
      "          시도   시군구  읍면동                    상세주소    Latitude    Longitude  \n",
      "0       전라남도   강진군  강진읍  동성리 192-9 강진군 어울림센터 3층  34.6407640  126.7727088  \n",
      "1      인천광역시  미추홀구  학익동             0 시티오씨엘 3단지        <NA>         <NA>  \n",
      "2       경상북도   의성군  안계면       용기리 843-5 안계행복플랫폼  36.3848872  128.4379655  \n",
      "3       경상북도   의성군  의성읍    후죽리 508-1 의성군청소년문화의집  36.3533755  128.6966161  \n",
      "4      서울특별시   마포구  서교동             354-5 라이즈호텔  37.5544357  126.9212425  \n",
      "..       ...   ...  ...                     ...         ...          ...  \n",
      "798      경기도  동두천시  생연동                 616-5번지  37.9085738  127.0557061  \n",
      "799      경기도  동두천시  생연동                   616-2  37.9082716  127.0557941  \n",
      "800  강원특별자치도   원주시  학성동                   329-2  37.3547628  127.9471786  \n",
      "801  강원특별자치도   원주시  평원동                     368        <NA>         <NA>  \n",
      "802      경기도  동두천시  생연동                 828-2번지  37.9088044  127.0520405  \n",
      "\n",
      "[803 rows x 9 columns]\n"
     ]
    }
   ],
   "source": [
    "# 기존 DataFrame의 '전체주소' 컬럼을 리스트로 변환\n",
    "addresses = data['소재지전체주소'].tolist()\n",
    "\n",
    "# ThreadPoolExecutor를 이용해 동시 실행\n",
    "with ThreadPoolExecutor(max_workers=100) as executor:\n",
    "    results = list(executor.map(get_coordinates_from_address, addresses))\n",
    "\n",
    "# 결과를 DataFrame으로 변환 후 기존 DataFrame과 결합\n",
    "df_coordinates = pd.DataFrame(results)\n",
    "df_final = pd.concat([data.reset_index(drop=True), df_coordinates], axis=1)\n",
    "print(df_final)"
   ]
  },
  {
   "cell_type": "code",
   "execution_count": 140,
   "metadata": {},
   "outputs": [
    {
     "data": {
      "text/plain": [
       "소재지전체주소       0\n",
       "사업장명          0\n",
       "공연장형태구분명      9\n",
       "시도            0\n",
       "시군구           0\n",
       "읍면동           0\n",
       "상세주소          1\n",
       "Latitude     10\n",
       "Longitude    10\n",
       "dtype: int64"
      ]
     },
     "execution_count": 140,
     "metadata": {},
     "output_type": "execute_result"
    }
   ],
   "source": [
    "df_final.isna().sum()"
   ]
  },
  {
   "cell_type": "markdown",
   "metadata": {},
   "source": [
    "좌표 결측치 10개는 직접 입력하자"
   ]
  },
  {
   "cell_type": "code",
   "execution_count": 141,
   "metadata": {},
   "outputs": [
    {
     "data": {
      "text/html": [
       "<div>\n",
       "<style scoped>\n",
       "    .dataframe tbody tr th:only-of-type {\n",
       "        vertical-align: middle;\n",
       "    }\n",
       "\n",
       "    .dataframe tbody tr th {\n",
       "        vertical-align: top;\n",
       "    }\n",
       "\n",
       "    .dataframe thead th {\n",
       "        text-align: right;\n",
       "    }\n",
       "</style>\n",
       "<table border=\"1\" class=\"dataframe\">\n",
       "  <thead>\n",
       "    <tr style=\"text-align: right;\">\n",
       "      <th></th>\n",
       "      <th>소재지전체주소</th>\n",
       "      <th>사업장명</th>\n",
       "      <th>공연장형태구분명</th>\n",
       "      <th>시도</th>\n",
       "      <th>시군구</th>\n",
       "      <th>읍면동</th>\n",
       "      <th>상세주소</th>\n",
       "      <th>Latitude</th>\n",
       "      <th>Longitude</th>\n",
       "    </tr>\n",
       "  </thead>\n",
       "  <tbody>\n",
       "    <tr>\n",
       "      <th>1</th>\n",
       "      <td>인천광역시 미추홀구 학익동 0 시티오씨엘 3단지</td>\n",
       "      <td>메가박스중앙(주)인천학익지점 컴포트5관</td>\n",
       "      <td>영화관</td>\n",
       "      <td>인천광역시</td>\n",
       "      <td>미추홀구</td>\n",
       "      <td>학익동</td>\n",
       "      <td>0 시티오씨엘 3단지</td>\n",
       "      <td>&lt;NA&gt;</td>\n",
       "      <td>&lt;NA&gt;</td>\n",
       "    </tr>\n",
       "    <tr>\n",
       "      <th>29</th>\n",
       "      <td>제주특별자치도 서귀포시 안덕면 서광리 지하1층</td>\n",
       "      <td>씨네라운지 2관</td>\n",
       "      <td>영화관</td>\n",
       "      <td>제주특별자치도</td>\n",
       "      <td>서귀포시</td>\n",
       "      <td>안덕면</td>\n",
       "      <td>서광리 지하1층</td>\n",
       "      <td>&lt;NA&gt;</td>\n",
       "      <td>&lt;NA&gt;</td>\n",
       "    </tr>\n",
       "    <tr>\n",
       "      <th>37</th>\n",
       "      <td>인천광역시 서구 가정동 0 루원지웰시티푸르지오 상가동 지하1호</td>\n",
       "      <td>CGV 인천가정 제3관</td>\n",
       "      <td>영화관</td>\n",
       "      <td>인천광역시</td>\n",
       "      <td>서구</td>\n",
       "      <td>가정동</td>\n",
       "      <td>0 루원지웰시티푸르지오 상가동 지하1호</td>\n",
       "      <td>&lt;NA&gt;</td>\n",
       "      <td>&lt;NA&gt;</td>\n",
       "    </tr>\n",
       "    <tr>\n",
       "      <th>43</th>\n",
       "      <td>인천광역시 미추홀구 주안동 0 포레나 미추홀</td>\n",
       "      <td>CGV인천시민공원 1관</td>\n",
       "      <td>영화관</td>\n",
       "      <td>인천광역시</td>\n",
       "      <td>미추홀구</td>\n",
       "      <td>주안동</td>\n",
       "      <td>0 포레나 미추홀</td>\n",
       "      <td>&lt;NA&gt;</td>\n",
       "      <td>&lt;NA&gt;</td>\n",
       "    </tr>\n",
       "    <tr>\n",
       "      <th>255</th>\n",
       "      <td>경기도 성남시 수정구 창곡동 23-4 위례한화오벨리스크센트럴스퀘어 지하1층</td>\n",
       "      <td>롯데컬처웍스(주) 롯데시네마위례 6관</td>\n",
       "      <td>영화관</td>\n",
       "      <td>경기도</td>\n",
       "      <td>성남시</td>\n",
       "      <td>수정구</td>\n",
       "      <td>창곡동 23-4 위례한화오벨리스크센트럴스퀘어 지하1층</td>\n",
       "      <td>&lt;NA&gt;</td>\n",
       "      <td>&lt;NA&gt;</td>\n",
       "    </tr>\n",
       "    <tr>\n",
       "      <th>320</th>\n",
       "      <td>경기도 의정부시 민락동 메가타워 메가박스 5~8층</td>\n",
       "      <td>메가박스 의정부 민락점 3관</td>\n",
       "      <td>영화관</td>\n",
       "      <td>경기도</td>\n",
       "      <td>의정부시</td>\n",
       "      <td>민락동</td>\n",
       "      <td>메가타워 메가박스 5~8층</td>\n",
       "      <td>&lt;NA&gt;</td>\n",
       "      <td>&lt;NA&gt;</td>\n",
       "    </tr>\n",
       "    <tr>\n",
       "      <th>360</th>\n",
       "      <td>전라남도 여수시 웅천동 1699-501</td>\n",
       "      <td>CGV여수웅천(제1관)</td>\n",
       "      <td>영화관</td>\n",
       "      <td>전라남도</td>\n",
       "      <td>여수시</td>\n",
       "      <td>웅천동</td>\n",
       "      <td>1699-501</td>\n",
       "      <td>&lt;NA&gt;</td>\n",
       "      <td>&lt;NA&gt;</td>\n",
       "    </tr>\n",
       "    <tr>\n",
       "      <th>681</th>\n",
       "      <td>경기도 광명시 하안동 1번지</td>\n",
       "      <td>미래상영관(이동상영관)</td>\n",
       "      <td>영화관</td>\n",
       "      <td>경기도</td>\n",
       "      <td>광명시</td>\n",
       "      <td>하안동</td>\n",
       "      <td>1번지</td>\n",
       "      <td>&lt;NA&gt;</td>\n",
       "      <td>&lt;NA&gt;</td>\n",
       "    </tr>\n",
       "    <tr>\n",
       "      <th>770</th>\n",
       "      <td>광주광역시 남구 주월동 126620번지</td>\n",
       "      <td>호남시청각사</td>\n",
       "      <td>영화관</td>\n",
       "      <td>광주광역시</td>\n",
       "      <td>남구</td>\n",
       "      <td>주월동</td>\n",
       "      <td>126620번지</td>\n",
       "      <td>&lt;NA&gt;</td>\n",
       "      <td>&lt;NA&gt;</td>\n",
       "    </tr>\n",
       "    <tr>\n",
       "      <th>801</th>\n",
       "      <td>강원특별자치도 원주시 평원동 368</td>\n",
       "      <td>아카데미</td>\n",
       "      <td>영화관</td>\n",
       "      <td>강원특별자치도</td>\n",
       "      <td>원주시</td>\n",
       "      <td>평원동</td>\n",
       "      <td>368</td>\n",
       "      <td>&lt;NA&gt;</td>\n",
       "      <td>&lt;NA&gt;</td>\n",
       "    </tr>\n",
       "  </tbody>\n",
       "</table>\n",
       "</div>"
      ],
      "text/plain": [
       "                                        소재지전체주소                   사업장명  \\\n",
       "1                   인천광역시 미추홀구 학익동 0 시티오씨엘 3단지   메가박스중앙(주)인천학익지점 컴포트5관   \n",
       "29                   제주특별자치도 서귀포시 안덕면 서광리 지하1층                씨네라운지 2관   \n",
       "37           인천광역시 서구 가정동 0 루원지웰시티푸르지오 상가동 지하1호           CGV 인천가정 제3관   \n",
       "43                    인천광역시 미추홀구 주안동 0 포레나 미추홀            CGV인천시민공원 1관   \n",
       "255  경기도 성남시 수정구 창곡동 23-4 위례한화오벨리스크센트럴스퀘어 지하1층    롯데컬처웍스(주) 롯데시네마위례 6관   \n",
       "320                경기도 의정부시 민락동 메가타워 메가박스 5~8층         메가박스 의정부 민락점 3관   \n",
       "360                      전라남도 여수시 웅천동 1699-501            CGV여수웅천(제1관)   \n",
       "681                            경기도 광명시 하안동 1번지            미래상영관(이동상영관)   \n",
       "770                      광주광역시 남구 주월동 126620번지                  호남시청각사   \n",
       "801                        강원특별자치도 원주시 평원동 368                    아카데미   \n",
       "\n",
       "    공연장형태구분명       시도   시군구  읍면동                           상세주소 Latitude  \\\n",
       "1        영화관    인천광역시  미추홀구  학익동                    0 시티오씨엘 3단지     <NA>   \n",
       "29       영화관  제주특별자치도  서귀포시  안덕면                       서광리 지하1층     <NA>   \n",
       "37       영화관    인천광역시    서구  가정동          0 루원지웰시티푸르지오 상가동 지하1호     <NA>   \n",
       "43       영화관    인천광역시  미추홀구  주안동                      0 포레나 미추홀     <NA>   \n",
       "255      영화관      경기도   성남시  수정구  창곡동 23-4 위례한화오벨리스크센트럴스퀘어 지하1층     <NA>   \n",
       "320      영화관      경기도  의정부시  민락동                 메가타워 메가박스 5~8층     <NA>   \n",
       "360      영화관     전라남도   여수시  웅천동                       1699-501     <NA>   \n",
       "681      영화관      경기도   광명시  하안동                            1번지     <NA>   \n",
       "770      영화관    광주광역시    남구  주월동                       126620번지     <NA>   \n",
       "801      영화관  강원특별자치도   원주시  평원동                            368     <NA>   \n",
       "\n",
       "    Longitude  \n",
       "1        <NA>  \n",
       "29       <NA>  \n",
       "37       <NA>  \n",
       "43       <NA>  \n",
       "255      <NA>  \n",
       "320      <NA>  \n",
       "360      <NA>  \n",
       "681      <NA>  \n",
       "770      <NA>  \n",
       "801      <NA>  "
      ]
     },
     "execution_count": 141,
     "metadata": {},
     "output_type": "execute_result"
    }
   ],
   "source": [
    "df_final[df_final['Latitude'].isna() | df_final['Longitude'].isna()]"
   ]
  },
  {
   "cell_type": "code",
   "execution_count": 142,
   "metadata": {},
   "outputs": [],
   "source": [
    "#숫자형으로 전환\n",
    "df_final[[\"Latitude\",\"Longitude\"]]=df_final[[\"Latitude\",\"Longitude\"]].apply(pd.to_numeric, errors='coerce')"
   ]
  },
  {
   "cell_type": "code",
   "execution_count": 143,
   "metadata": {},
   "outputs": [],
   "source": [
    "df_final.loc[1, [\"Latitude\", \"Longitude\"]]=[37.441007, 126.647164]\n",
    "df_final.loc[29, [\"Latitude\", \"Longitude\"]]=[33.297567, 126.293790]\n",
    "df_final.loc[37, [\"Latitude\", \"Longitude\"]]=[37.526592, 126.669564]\n",
    "df_final.loc[43, [\"Latitude\", \"Longitude\"]]=[37.457447, 126.681004]\n",
    "df_final.loc[255, [\"Latitude\", \"Longitude\"]]=[37.472478, 127.140793]\n",
    "df_final.loc[320, [\"Latitude\", \"Longitude\"]]=[37.745748, 127.095728]\n",
    "df_final.loc[360, [\"Latitude\", \"Longitude\"]]=[34.746502, 127.671619]\n",
    "df_final.loc[681, [\"Latitude\", \"Longitude\"]]=[37.460205, 126.869050]\n",
    "df_final.loc[770, [\"Latitude\", \"Longitude\"]]=[35.132050, 126.900308]\n",
    "df_final.loc[801, [\"Latitude\", \"Longitude\"]]=[37.350957, 127.952082]"
   ]
  },
  {
   "cell_type": "code",
   "execution_count": 144,
   "metadata": {},
   "outputs": [
    {
     "data": {
      "text/plain": [
       "소재지전체주소      0\n",
       "사업장명         0\n",
       "공연장형태구분명     9\n",
       "시도           0\n",
       "시군구          0\n",
       "읍면동          0\n",
       "상세주소         1\n",
       "Latitude     0\n",
       "Longitude    0\n",
       "dtype: int64"
      ]
     },
     "execution_count": 144,
     "metadata": {},
     "output_type": "execute_result"
    }
   ],
   "source": [
    "df_final.isna().sum()"
   ]
  },
  {
   "cell_type": "markdown",
   "metadata": {},
   "source": [
    "## 전처리 마무리"
   ]
  },
  {
   "cell_type": "code",
   "execution_count": 149,
   "metadata": {},
   "outputs": [],
   "source": [
    "df_final=df_final[[\"시도\",\"시군구\",\"읍면동\",\"상세주소\",\"사업장명\",\"공연장형태구분명\",\"Latitude\",\"Longitude\"]]\n",
    "df_final.columns=[\"County\",\"City\",\"Town\",\"Address\",\"Theater_Name\",\"Theater_Type\",\"Latitude\",\"Longitude\"]"
   ]
  },
  {
   "cell_type": "code",
   "execution_count": 150,
   "metadata": {},
   "outputs": [
    {
     "data": {
      "text/html": [
       "<div>\n",
       "<style scoped>\n",
       "    .dataframe tbody tr th:only-of-type {\n",
       "        vertical-align: middle;\n",
       "    }\n",
       "\n",
       "    .dataframe tbody tr th {\n",
       "        vertical-align: top;\n",
       "    }\n",
       "\n",
       "    .dataframe thead th {\n",
       "        text-align: right;\n",
       "    }\n",
       "</style>\n",
       "<table border=\"1\" class=\"dataframe\">\n",
       "  <thead>\n",
       "    <tr style=\"text-align: right;\">\n",
       "      <th></th>\n",
       "      <th>County</th>\n",
       "      <th>City</th>\n",
       "      <th>Town</th>\n",
       "      <th>Address</th>\n",
       "      <th>Theater_Name</th>\n",
       "      <th>Theater_Type</th>\n",
       "      <th>Latitude</th>\n",
       "      <th>Longitude</th>\n",
       "    </tr>\n",
       "  </thead>\n",
       "  <tbody>\n",
       "    <tr>\n",
       "      <th>0</th>\n",
       "      <td>전라남도</td>\n",
       "      <td>강진군</td>\n",
       "      <td>강진읍</td>\n",
       "      <td>동성리 192-9 강진군 어울림센터 3층</td>\n",
       "      <td>강진영화관 1관</td>\n",
       "      <td>영화관</td>\n",
       "      <td>34.640764</td>\n",
       "      <td>126.772709</td>\n",
       "    </tr>\n",
       "  </tbody>\n",
       "</table>\n",
       "</div>"
      ],
      "text/plain": [
       "  County City Town                 Address Theater_Name Theater_Type  \\\n",
       "0   전라남도  강진군  강진읍  동성리 192-9 강진군 어울림센터 3층     강진영화관 1관          영화관   \n",
       "\n",
       "    Latitude   Longitude  \n",
       "0  34.640764  126.772709  "
      ]
     },
     "execution_count": 150,
     "metadata": {},
     "output_type": "execute_result"
    }
   ],
   "source": [
    "df_final.head(1)"
   ]
  },
  {
   "cell_type": "code",
   "execution_count": null,
   "metadata": {},
   "outputs": [],
   "source": [
    "df_final.to_csv(\"결과데이터/전국영화관정보.csv\", index=False, encoding=\"cp949\")"
   ]
  },
  {
   "cell_type": "markdown",
   "metadata": {},
   "source": [
    "# 5. 전국 병원 정보"
   ]
  },
  {
   "cell_type": "code",
   "execution_count": 8,
   "metadata": {},
   "outputs": [
    {
     "name": "stderr",
     "output_type": "stream",
     "text": [
      "c:\\ProgramData\\anaconda3\\Lib\\site-packages\\openpyxl\\styles\\stylesheet.py:237: UserWarning: Workbook contains no default style, apply openpyxl's default\n",
      "  warn(\"Workbook contains no default style, apply openpyxl's default\")\n"
     ]
    },
    {
     "data": {
      "text/html": [
       "<div>\n",
       "<style scoped>\n",
       "    .dataframe tbody tr th:only-of-type {\n",
       "        vertical-align: middle;\n",
       "    }\n",
       "\n",
       "    .dataframe tbody tr th {\n",
       "        vertical-align: top;\n",
       "    }\n",
       "\n",
       "    .dataframe thead th {\n",
       "        text-align: right;\n",
       "    }\n",
       "</style>\n",
       "<table border=\"1\" class=\"dataframe\">\n",
       "  <thead>\n",
       "    <tr style=\"text-align: right;\">\n",
       "      <th></th>\n",
       "      <th>소재지전체주소</th>\n",
       "      <th>사업장명</th>\n",
       "      <th>의료기관종별명</th>\n",
       "    </tr>\n",
       "  </thead>\n",
       "  <tbody>\n",
       "    <tr>\n",
       "      <th>0</th>\n",
       "      <td>인천광역시 서구 가정동 0 8~10층</td>\n",
       "      <td>바로서구병원</td>\n",
       "      <td>병원</td>\n",
       "    </tr>\n",
       "  </tbody>\n",
       "</table>\n",
       "</div>"
      ],
      "text/plain": [
       "                소재지전체주소    사업장명 의료기관종별명\n",
       "0  인천광역시 서구 가정동 0 8~10층  바로서구병원      병원"
      ]
     },
     "execution_count": 8,
     "metadata": {},
     "output_type": "execute_result"
    }
   ],
   "source": [
    "data=pd.read_excel(\"원본데이터/01_01_01_P_병원.xlsx\")\n",
    "data=data[[\"소재지전체주소\",\"사업장명\",\"의료기관종별명\"]]\n",
    "data.head(1)"
   ]
  },
  {
   "cell_type": "code",
   "execution_count": 9,
   "metadata": {},
   "outputs": [
    {
     "data": {
      "text/plain": [
       "소재지전체주소    1403\n",
       "사업장명          0\n",
       "의료기관종별명     523\n",
       "dtype: int64"
      ]
     },
     "execution_count": 9,
     "metadata": {},
     "output_type": "execute_result"
    }
   ],
   "source": [
    "data.isna().sum()"
   ]
  },
  {
   "cell_type": "markdown",
   "metadata": {},
   "source": [
    "주소가 없는거는 없애자"
   ]
  },
  {
   "cell_type": "code",
   "execution_count": 10,
   "metadata": {},
   "outputs": [
    {
     "data": {
      "text/plain": [
       "소재지전체주소      0\n",
       "사업장명         0\n",
       "의료기관종별명    523\n",
       "dtype: int64"
      ]
     },
     "execution_count": 10,
     "metadata": {},
     "output_type": "execute_result"
    }
   ],
   "source": [
    "data.dropna(subset=[\"소재지전체주소\"], inplace=True)\n",
    "data.isna().sum()"
   ]
  },
  {
   "cell_type": "code",
   "execution_count": 11,
   "metadata": {},
   "outputs": [
    {
     "data": {
      "text/plain": [
       "사업장명                소재지전체주소                            \n",
       "지성재활요양병원            제주특별자치도 제주시 애월읍 광령리 100번지 1호 1호        2\n",
       "의료법인 의명의료재단 마음편한병원                                         2\n",
       "강남한방병원                                                     2\n",
       "그랜드치과병원                                                    2\n",
       "희망병원                                                       2\n",
       "                                                          ..\n",
       "상남굿모닝내과병원           창원시 상남동 73-3 서울메디칼빌딩 6,7층              1\n",
       "상동서울한방병원            경기도 부천시 원미구 상동 547-1 코오롱이데아폴리스 2층일부    1\n",
       "상록병원                광주광역시 광산구 우산동  1580번지 3호 3호            1\n",
       "상록수요양병원             울산광역시 동구 전하동 653-2 상록수요양병원             1\n",
       "老世노세요양병원            광주광역시 광산구 송정동  1364번지                  1\n",
       "Name: count, Length: 4099, dtype: int64"
      ]
     },
     "execution_count": 11,
     "metadata": {},
     "output_type": "execute_result"
    }
   ],
   "source": [
    "data[[\"사업장명\",\"소재지전체주소\"]].value_counts()"
   ]
  },
  {
   "cell_type": "markdown",
   "metadata": {},
   "source": [
    "같은 건물에 병원 이름이 다른게 많다"
   ]
  },
  {
   "cell_type": "code",
   "execution_count": 12,
   "metadata": {},
   "outputs": [
    {
     "data": {
      "text/html": [
       "<div>\n",
       "<style scoped>\n",
       "    .dataframe tbody tr th:only-of-type {\n",
       "        vertical-align: middle;\n",
       "    }\n",
       "\n",
       "    .dataframe tbody tr th {\n",
       "        vertical-align: top;\n",
       "    }\n",
       "\n",
       "    .dataframe thead th {\n",
       "        text-align: right;\n",
       "    }\n",
       "</style>\n",
       "<table border=\"1\" class=\"dataframe\">\n",
       "  <thead>\n",
       "    <tr style=\"text-align: right;\">\n",
       "      <th></th>\n",
       "      <th>소재지전체주소</th>\n",
       "      <th>사업장명</th>\n",
       "      <th>의료기관종별명</th>\n",
       "    </tr>\n",
       "  </thead>\n",
       "  <tbody>\n",
       "    <tr>\n",
       "      <th>0</th>\n",
       "      <td>인천광역시 서구 가정동 0 8~10층</td>\n",
       "      <td>바로서구병원</td>\n",
       "      <td>병원</td>\n",
       "    </tr>\n",
       "    <tr>\n",
       "      <th>1</th>\n",
       "      <td>경기도 용인시 처인구 모현읍 능원리 107-1</td>\n",
       "      <td>승일희망요양병원</td>\n",
       "      <td>요양병원(일반요양병원)</td>\n",
       "    </tr>\n",
       "    <tr>\n",
       "      <th>2</th>\n",
       "      <td>서울특별시 종로구 원남동 177-1</td>\n",
       "      <td>포레스트병원</td>\n",
       "      <td>병원</td>\n",
       "    </tr>\n",
       "    <tr>\n",
       "      <th>3</th>\n",
       "      <td>대전광역시 동구 신안동 293번지 1호</td>\n",
       "      <td>대전화병원</td>\n",
       "      <td>병원</td>\n",
       "    </tr>\n",
       "    <tr>\n",
       "      <th>4</th>\n",
       "      <td>인천광역시 연수구 옥련동 186 명신빌딩</td>\n",
       "      <td>명신더블유한방병원</td>\n",
       "      <td>한방병원</td>\n",
       "    </tr>\n",
       "  </tbody>\n",
       "</table>\n",
       "</div>"
      ],
      "text/plain": [
       "                     소재지전체주소       사업장명       의료기관종별명\n",
       "0       인천광역시 서구 가정동 0 8~10층     바로서구병원            병원\n",
       "1  경기도 용인시 처인구 모현읍 능원리 107-1   승일희망요양병원  요양병원(일반요양병원)\n",
       "2        서울특별시 종로구 원남동 177-1     포레스트병원            병원\n",
       "3      대전광역시 동구 신안동 293번지 1호      대전화병원            병원\n",
       "4     인천광역시 연수구 옥련동 186 명신빌딩  명신더블유한방병원          한방병원"
      ]
     },
     "execution_count": 12,
     "metadata": {},
     "output_type": "execute_result"
    }
   ],
   "source": [
    "data=data.drop_duplicates([\"소재지전체주소\",\"사업장명\"])\n",
    "data.head()"
   ]
  },
  {
   "cell_type": "markdown",
   "metadata": {},
   "source": [
    "## 주소 분할"
   ]
  },
  {
   "cell_type": "code",
   "execution_count": 13,
   "metadata": {},
   "outputs": [],
   "source": [
    "data[[\"시도\", \"시군구\", \"읍면동\", \"상세주소\"]] = data[\"소재지전체주소\"].apply(split_full_address)"
   ]
  },
  {
   "cell_type": "code",
   "execution_count": 14,
   "metadata": {},
   "outputs": [
    {
     "data": {
      "text/plain": [
       "array(['인천광역시', '경기도', '서울특별시', '대전광역시', '경상남도', '울산광역시', '전라남도', '충청북도',\n",
       "       '경상북도', '강원특별자치도', '대구광역시', '부산광역시', '세종특별자치시', <NA>, '광주광역시',\n",
       "       '충청남도', '전북특별자치도', '제주특별자치도', '123번지', '제천시', '연향동', '인지동',\n",
       "       '부산광역시해운대구', '죽산면', '대룡동', '조례동', '금광면', '포항시', '경북', '인월동', '창원시',\n",
       "       '예산읍', '159번지', '587번지', '해룡면', '시흥시', '안동시', '온천3동', '1517번지',\n",
       "       '청주시상당구', '진주시', '고성군', '매곡동', '안락1동', '장천동', '영주시', '명륜1동'],\n",
       "      dtype=object)"
      ]
     },
     "execution_count": 14,
     "metadata": {},
     "output_type": "execute_result"
    }
   ],
   "source": [
    "data.시도.unique()"
   ]
  },
  {
   "cell_type": "markdown",
   "metadata": {},
   "source": [
    "### 주소에 오류가 있는 것들을 확인"
   ]
  },
  {
   "cell_type": "markdown",
   "metadata": {},
   "source": [
    "살릴 수 있는것만 살리자"
   ]
  },
  {
   "cell_type": "code",
   "execution_count": 15,
   "metadata": {},
   "outputs": [],
   "source": [
    "data.dropna(subset=[\"시도\"], inplace=True)"
   ]
  },
  {
   "cell_type": "markdown",
   "metadata": {},
   "source": [
    "1. 시도(맨 앞)를 수정\n",
    "2. 이를 전체 주소로 합친다\n",
    "3. 이를 다시 분할한다"
   ]
  },
  {
   "cell_type": "code",
   "execution_count": 16,
   "metadata": {},
   "outputs": [],
   "source": [
    "#'동'은 중복 지명이 많을 경우 제한다\n",
    "data.replace({\"시도\": {\"제천시\": \"충청북도 제천시\"}}, inplace=True)\n",
    "data.replace({\"시도\": {\"부산광역시해운대구\": \"부산광역시 해운대구\"}}, inplace=True)\n",
    "data.replace({\"시도\": {\"죽산면\": \"경기도 안성시 죽산면\"}}, inplace=True)\n",
    "data.replace({\"시도\": {\"조례동\": \"전라남도 순천시 조례동\"}}, inplace=True)\n",
    "data.replace({\"시도\": {\"금광면\": \"경기도 안성시 금광면\"}}, inplace=True)\n",
    "data.replace({\"시도\": {\"포항시\": \"경상북도 포항시\"}}, inplace=True)\n",
    "data.replace({\"시도\": {\"경북\": \"경상북도\"}}, inplace=True)\n",
    "data.replace({\"시도\": {\"인월동\": \"전라남도 순천시 인월동\"}}, inplace=True)\n",
    "data.replace({\"시도\": {\"창원시\": \"경상남도 창원시\"}}, inplace=True)\n",
    "data.replace({\"시도\": {\"예산읍\": \"충청남도 예산군 예산읍\"}}, inplace=True)\n",
    "data.replace({\"시도\": {\"해룡면\": \"전라남도 순천시 해룡면\"}}, inplace=True)\n",
    "data.replace({\"시도\": {\"시흥시\": \"경기도 시흥시\"}}, inplace=True)\n",
    "data.replace({\"시도\": {\"안동시\": \"경상북도 안동시\"}}, inplace=True)\n",
    "data.replace({\"시도\": {\"온천3동\": \"부산광역시 동래구 온천3동\"}}, inplace=True)\n",
    "data.replace({\"시도\": {\"청주시상당구\": \"충청북도 청주시 상당구\"}}, inplace=True)\n",
    "data.replace({\"시도\": {\"진주시\": \"경상남도 진주시\"}}, inplace=True)\n",
    "data.replace({\"시도\": {\"안락1동\": \"부산광역시 동래구 안락1동\"}}, inplace=True)\n",
    "data.replace({\"시도\": {\"영주시\": \"경상북도 영주시\"}}, inplace=True)\n",
    "data.replace({\"시도\": {\"명륜1동\": \"강원특별자치도 원주시 명륜1동\"}}, inplace=True)"
   ]
  },
  {
   "cell_type": "markdown",
   "metadata": {},
   "source": [
    "주소 합치고 다시 분할"
   ]
  },
  {
   "cell_type": "code",
   "execution_count": 17,
   "metadata": {},
   "outputs": [],
   "source": [
    "data[\"전체주소\"]=data[\"시도\"]+\" \"+data[\"시군구\"]+\" \"+data[\"읍면동\"].fillna(\"\")+\" \"+data[\"상세주소\"].fillna(\"\")\n",
    "data[[\"시도\", \"시군구\", \"읍면동\", \"상세주소\"]] = data[\"전체주소\"].apply(split_full_address)"
   ]
  },
  {
   "cell_type": "code",
   "execution_count": 18,
   "metadata": {},
   "outputs": [
    {
     "data": {
      "text/plain": [
       "array(['인천광역시', '경기도', '서울특별시', '대전광역시', '경상남도', '울산광역시', '전라남도', '충청북도',\n",
       "       '경상북도', '강원특별자치도', '대구광역시', '부산광역시', '세종특별자치시', '광주광역시', '충청남도',\n",
       "       '전북특별자치도', '제주특별자치도', '123번지', '연향동', '인지동', '대룡동', '159번지',\n",
       "       '587번지', '1517번지', '고성군', '매곡동', '장천동'], dtype=object)"
      ]
     },
     "execution_count": 18,
     "metadata": {},
     "output_type": "execute_result"
    }
   ],
   "source": [
    "data.시도.unique()"
   ]
  },
  {
   "cell_type": "code",
   "execution_count": 19,
   "metadata": {},
   "outputs": [],
   "source": [
    "remove_values = [\n",
    "    '123번지', '연향동', '인지동', '대룡동', '159번지',\n",
    "    '587번지', '1517번지', '고성군', '매곡동', '장천동'\n",
    "]\n",
    "data = data[~data['시도'].isin(remove_values)]"
   ]
  },
  {
   "cell_type": "code",
   "execution_count": 20,
   "metadata": {},
   "outputs": [
    {
     "data": {
      "text/plain": [
       "소재지전체주소      0\n",
       "사업장명         0\n",
       "의료기관종별명    204\n",
       "시도           0\n",
       "시군구          0\n",
       "읍면동          1\n",
       "상세주소        44\n",
       "전체주소         0\n",
       "dtype: int64"
      ]
     },
     "execution_count": 20,
     "metadata": {},
     "output_type": "execute_result"
    }
   ],
   "source": [
    "data.isna().sum()"
   ]
  },
  {
   "cell_type": "markdown",
   "metadata": {},
   "source": [
    "주소 전처리 완료"
   ]
  },
  {
   "cell_type": "code",
   "execution_count": 21,
   "metadata": {},
   "outputs": [
    {
     "data": {
      "text/html": [
       "<div>\n",
       "<style scoped>\n",
       "    .dataframe tbody tr th:only-of-type {\n",
       "        vertical-align: middle;\n",
       "    }\n",
       "\n",
       "    .dataframe tbody tr th {\n",
       "        vertical-align: top;\n",
       "    }\n",
       "\n",
       "    .dataframe thead th {\n",
       "        text-align: right;\n",
       "    }\n",
       "</style>\n",
       "<table border=\"1\" class=\"dataframe\">\n",
       "  <thead>\n",
       "    <tr style=\"text-align: right;\">\n",
       "      <th></th>\n",
       "      <th>시도</th>\n",
       "      <th>시군구</th>\n",
       "      <th>읍면동</th>\n",
       "      <th>상세주소</th>\n",
       "      <th>사업장명</th>\n",
       "      <th>의료기관종별명</th>\n",
       "      <th>전체주소</th>\n",
       "    </tr>\n",
       "  </thead>\n",
       "  <tbody>\n",
       "    <tr>\n",
       "      <th>0</th>\n",
       "      <td>인천광역시</td>\n",
       "      <td>서구</td>\n",
       "      <td>가정동</td>\n",
       "      <td>0 8~10층</td>\n",
       "      <td>바로서구병원</td>\n",
       "      <td>병원</td>\n",
       "      <td>인천광역시 서구 가정동 0 8~10층</td>\n",
       "    </tr>\n",
       "  </tbody>\n",
       "</table>\n",
       "</div>"
      ],
      "text/plain": [
       "      시도 시군구  읍면동     상세주소    사업장명 의료기관종별명                  전체주소\n",
       "0  인천광역시  서구  가정동  0 8~10층  바로서구병원      병원  인천광역시 서구 가정동 0 8~10층"
      ]
     },
     "execution_count": 21,
     "metadata": {},
     "output_type": "execute_result"
    }
   ],
   "source": [
    "data=data[[\"시도\",\"시군구\",\"읍면동\",\"상세주소\",\"사업장명\",\"의료기관종별명\", \"전체주소\"]]\n",
    "data.head(1)"
   ]
  },
  {
   "cell_type": "markdown",
   "metadata": {},
   "source": [
    "## 네이버 지도 API 좌표"
   ]
  },
  {
   "cell_type": "code",
   "execution_count": 22,
   "metadata": {},
   "outputs": [
    {
     "name": "stdout",
     "output_type": "stream",
     "text": [
      "           시도  시군구   읍면동                     상세주소                 사업장명  \\\n",
      "0       인천광역시   서구   가정동                  0 8~10층               바로서구병원   \n",
      "1         경기도  용인시   처인구            모현읍 능원리 107-1             승일희망요양병원   \n",
      "2       서울특별시  종로구   원남동                    177-1               포레스트병원   \n",
      "3       대전광역시   동구   신안동                 293번지 1호                대전화병원   \n",
      "4       인천광역시  연수구   옥련동                 186 명신빌딩            명신더블유한방병원   \n",
      "...       ...  ...   ...                      ...                  ...   \n",
      "3374    대전광역시  대덕구   덕암동                     43-5  의료법인원전의료재단보니파시오요양병원   \n",
      "3375     경상북도  청도군   화양읍                범곡리 101-5           군립청도노인요양병원   \n",
      "3376    인천광역시   서구  석남1동      522번지 1호 석남1동 523-1      (의)성세의료재단 뉴성민병원   \n",
      "3377    인천광역시   서구   연희동  793번지 1호 우성메디피아 2층,4층일부               청라국제병원   \n",
      "3378  강원특별자치도  속초시   조양동                1013번지 1호              속초정요양병원   \n",
      "\n",
      "           의료기관종별명                                  전체주소    Latitude  \\\n",
      "0               병원                  인천광역시 서구 가정동 0 8~10층        <NA>   \n",
      "1     요양병원(일반요양병원)             경기도 용인시 처인구 모현읍 능원리 107-1  37.3391055   \n",
      "2               병원                   서울특별시 종로구 원남동 177-1  37.5757560   \n",
      "3               병원                 대전광역시 동구 신안동 293번지 1호  36.3287029   \n",
      "4             한방병원                인천광역시 연수구 옥련동 186 명신빌딩  37.4275438   \n",
      "...            ...                                   ...         ...   \n",
      "3374  요양병원(일반요양병원)                    대전광역시 대덕구 덕암동 43-5  36.4406541   \n",
      "3375  요양병원(일반요양병원)                경상북도 청도군 화양읍 범곡리 101-5  35.6485499   \n",
      "3376          종합병원     인천광역시 서구 석남1동 522번지 1호 석남1동 523-1  37.5093381   \n",
      "3377            병원  인천광역시 서구 연희동 793번지 1호 우성메디피아 2층,4층일부        <NA>   \n",
      "3378  요양병원(일반요양병원)             강원특별자치도 속초시 조양동 1013번지 1호  38.1898920   \n",
      "\n",
      "        Longitude  \n",
      "0            <NA>  \n",
      "1     127.1682361  \n",
      "2     126.9967438  \n",
      "3     127.4389511  \n",
      "4     126.6426267  \n",
      "...           ...  \n",
      "3374  127.4237199  \n",
      "3375  128.7364784  \n",
      "3376  126.6693623  \n",
      "3377         <NA>  \n",
      "3378  128.5878915  \n",
      "\n",
      "[3379 rows x 9 columns]\n"
     ]
    }
   ],
   "source": [
    "# 기존 DataFrame의 '전체주소' 컬럼을 리스트로 변환\n",
    "addresses = data['전체주소'].tolist()\n",
    "\n",
    "# ThreadPoolExecutor를 이용해 동시 실행\n",
    "with ThreadPoolExecutor(max_workers=100) as executor:\n",
    "    results = list(executor.map(get_coordinates_from_address, addresses))\n",
    "\n",
    "# 결과를 DataFrame으로 변환 후 기존 DataFrame과 결합\n",
    "df_coordinates = pd.DataFrame(results)\n",
    "df_final = pd.concat([data.reset_index(drop=True), df_coordinates], axis=1)\n",
    "print(df_final)"
   ]
  },
  {
   "cell_type": "code",
   "execution_count": 23,
   "metadata": {},
   "outputs": [
    {
     "data": {
      "text/plain": [
       "시도             0\n",
       "시군구            0\n",
       "읍면동            1\n",
       "상세주소          44\n",
       "사업장명           0\n",
       "의료기관종별명      204\n",
       "전체주소           0\n",
       "Latitude      69\n",
       "Longitude     69\n",
       "dtype: int64"
      ]
     },
     "execution_count": 23,
     "metadata": {},
     "output_type": "execute_result"
    }
   ],
   "source": [
    "df_final.isna().sum()"
   ]
  },
  {
   "cell_type": "markdown",
   "metadata": {},
   "source": [
    "좌표가 없는 것은 그냥 지나가겠다"
   ]
  },
  {
   "cell_type": "code",
   "execution_count": 24,
   "metadata": {},
   "outputs": [],
   "source": [
    "df_final.drop(columns=[\"전체주소\"], axis=1, inplace=True)"
   ]
  },
  {
   "cell_type": "code",
   "execution_count": 25,
   "metadata": {},
   "outputs": [
    {
     "data": {
      "text/html": [
       "<div>\n",
       "<style scoped>\n",
       "    .dataframe tbody tr th:only-of-type {\n",
       "        vertical-align: middle;\n",
       "    }\n",
       "\n",
       "    .dataframe tbody tr th {\n",
       "        vertical-align: top;\n",
       "    }\n",
       "\n",
       "    .dataframe thead th {\n",
       "        text-align: right;\n",
       "    }\n",
       "</style>\n",
       "<table border=\"1\" class=\"dataframe\">\n",
       "  <thead>\n",
       "    <tr style=\"text-align: right;\">\n",
       "      <th></th>\n",
       "      <th>시도</th>\n",
       "      <th>시군구</th>\n",
       "      <th>읍면동</th>\n",
       "      <th>상세주소</th>\n",
       "      <th>사업장명</th>\n",
       "      <th>의료기관종별명</th>\n",
       "      <th>Latitude</th>\n",
       "      <th>Longitude</th>\n",
       "    </tr>\n",
       "  </thead>\n",
       "  <tbody>\n",
       "    <tr>\n",
       "      <th>0</th>\n",
       "      <td>인천광역시</td>\n",
       "      <td>서구</td>\n",
       "      <td>가정동</td>\n",
       "      <td>0 8~10층</td>\n",
       "      <td>바로서구병원</td>\n",
       "      <td>병원</td>\n",
       "      <td>&lt;NA&gt;</td>\n",
       "      <td>&lt;NA&gt;</td>\n",
       "    </tr>\n",
       "  </tbody>\n",
       "</table>\n",
       "</div>"
      ],
      "text/plain": [
       "      시도 시군구  읍면동     상세주소    사업장명 의료기관종별명 Latitude Longitude\n",
       "0  인천광역시  서구  가정동  0 8~10층  바로서구병원      병원     <NA>      <NA>"
      ]
     },
     "execution_count": 25,
     "metadata": {},
     "output_type": "execute_result"
    }
   ],
   "source": [
    "df_final.head(1)"
   ]
  },
  {
   "cell_type": "code",
   "execution_count": 26,
   "metadata": {},
   "outputs": [],
   "source": [
    "df_final[[\"Latitude\",\"Longitude\"]]=df_final[[\"Latitude\",\"Longitude\"]].apply(pd.to_numeric, errors='coerce')"
   ]
  },
  {
   "cell_type": "markdown",
   "metadata": {},
   "source": [
    "## 전처리 마무리"
   ]
  },
  {
   "cell_type": "code",
   "execution_count": 27,
   "metadata": {},
   "outputs": [
    {
     "data": {
      "text/html": [
       "<div>\n",
       "<style scoped>\n",
       "    .dataframe tbody tr th:only-of-type {\n",
       "        vertical-align: middle;\n",
       "    }\n",
       "\n",
       "    .dataframe tbody tr th {\n",
       "        vertical-align: top;\n",
       "    }\n",
       "\n",
       "    .dataframe thead th {\n",
       "        text-align: right;\n",
       "    }\n",
       "</style>\n",
       "<table border=\"1\" class=\"dataframe\">\n",
       "  <thead>\n",
       "    <tr style=\"text-align: right;\">\n",
       "      <th></th>\n",
       "      <th>County</th>\n",
       "      <th>City</th>\n",
       "      <th>Town</th>\n",
       "      <th>Address</th>\n",
       "      <th>Hospital_Name</th>\n",
       "      <th>Hospital_Type</th>\n",
       "      <th>Latitude</th>\n",
       "      <th>Longitude</th>\n",
       "    </tr>\n",
       "  </thead>\n",
       "  <tbody>\n",
       "    <tr>\n",
       "      <th>0</th>\n",
       "      <td>인천광역시</td>\n",
       "      <td>서구</td>\n",
       "      <td>가정동</td>\n",
       "      <td>0 8~10층</td>\n",
       "      <td>바로서구병원</td>\n",
       "      <td>병원</td>\n",
       "      <td>NaN</td>\n",
       "      <td>NaN</td>\n",
       "    </tr>\n",
       "  </tbody>\n",
       "</table>\n",
       "</div>"
      ],
      "text/plain": [
       "  County City Town  Address Hospital_Name Hospital_Type  Latitude  Longitude\n",
       "0  인천광역시   서구  가정동  0 8~10층        바로서구병원            병원       NaN        NaN"
      ]
     },
     "execution_count": 27,
     "metadata": {},
     "output_type": "execute_result"
    }
   ],
   "source": [
    "df_final.columns=[\"County\",\"City\",\"Town\",\"Address\",\"Hospital_Name\",\"Hospital_Type\",\"Latitude\",\"Longitude\"]\n",
    "df_final.head(1)"
   ]
  },
  {
   "cell_type": "code",
   "execution_count": null,
   "metadata": {},
   "outputs": [],
   "source": [
    "df_final.to_csv(\"결과데이터/전국병원정보.csv\", index=False, encoding=\"cp949\")"
   ]
  },
  {
   "cell_type": "markdown",
   "metadata": {},
   "source": [
    "# 6. 전국 학교 정보"
   ]
  },
  {
   "cell_type": "markdown",
   "metadata": {},
   "source": [
    "전국 초,중,고교의 정보"
   ]
  },
  {
   "cell_type": "code",
   "execution_count": 29,
   "metadata": {},
   "outputs": [],
   "source": [
    "data=pd.read_csv(\"원본데이터/전국초중등학교위치표준데이터.csv\", encoding=\"cp949\")"
   ]
  },
  {
   "cell_type": "code",
   "execution_count": 220,
   "metadata": {},
   "outputs": [
    {
     "data": {
      "text/html": [
       "<div>\n",
       "<style scoped>\n",
       "    .dataframe tbody tr th:only-of-type {\n",
       "        vertical-align: middle;\n",
       "    }\n",
       "\n",
       "    .dataframe tbody tr th {\n",
       "        vertical-align: top;\n",
       "    }\n",
       "\n",
       "    .dataframe thead th {\n",
       "        text-align: right;\n",
       "    }\n",
       "</style>\n",
       "<table border=\"1\" class=\"dataframe\">\n",
       "  <thead>\n",
       "    <tr style=\"text-align: right;\">\n",
       "      <th></th>\n",
       "      <th>학교명</th>\n",
       "      <th>학교급구분</th>\n",
       "      <th>소재지지번주소</th>\n",
       "      <th>위도</th>\n",
       "      <th>경도</th>\n",
       "    </tr>\n",
       "  </thead>\n",
       "  <tbody>\n",
       "    <tr>\n",
       "      <th>0</th>\n",
       "      <td>대전용산초등학교</td>\n",
       "      <td>초등학교</td>\n",
       "      <td>대전광역시 유성구 용산동 662</td>\n",
       "      <td>36.420154</td>\n",
       "      <td>127.395076</td>\n",
       "    </tr>\n",
       "  </tbody>\n",
       "</table>\n",
       "</div>"
      ],
      "text/plain": [
       "        학교명 학교급구분            소재지지번주소         위도          경도\n",
       "0  대전용산초등학교  초등학교  대전광역시 유성구 용산동 662  36.420154  127.395076"
      ]
     },
     "execution_count": 220,
     "metadata": {},
     "output_type": "execute_result"
    }
   ],
   "source": [
    "data=data[[\"학교명\",\"학교급구분\",\"소재지지번주소\", \"위도\",\"경도\"]]\n",
    "data.head(1)"
   ]
  },
  {
   "cell_type": "code",
   "execution_count": 221,
   "metadata": {},
   "outputs": [
    {
     "data": {
      "text/plain": [
       "학교명        0\n",
       "학교급구분      0\n",
       "소재지지번주소    0\n",
       "위도         0\n",
       "경도         0\n",
       "dtype: int64"
      ]
     },
     "execution_count": 221,
     "metadata": {},
     "output_type": "execute_result"
    }
   ],
   "source": [
    "data.isna().sum()"
   ]
  },
  {
   "cell_type": "markdown",
   "metadata": {},
   "source": [
    "## 주소 분할"
   ]
  },
  {
   "cell_type": "code",
   "execution_count": 222,
   "metadata": {},
   "outputs": [],
   "source": [
    "data[[\"시도\", \"시군구\", \"읍면동\", \"상세주소\"]] = data[\"소재지지번주소\"].apply(split_full_address)"
   ]
  },
  {
   "cell_type": "code",
   "execution_count": 223,
   "metadata": {},
   "outputs": [
    {
     "data": {
      "text/plain": [
       "array(['대전광역시', '부산광역시', '서울특별시', '제주특별자치도', '충청남도', '경기도', '광주광역시',\n",
       "       '세종특별자치시', '전북특별자치도', '울산광역시', '강원특별자치도', '충청북도', '대구광역시', '경상북도',\n",
       "       '인천광역시', '경상남도', '전라남도', '김해시'], dtype=object)"
      ]
     },
     "execution_count": 223,
     "metadata": {},
     "output_type": "execute_result"
    }
   ],
   "source": [
    "data.시도.unique()"
   ]
  },
  {
   "cell_type": "markdown",
   "metadata": {},
   "source": [
    "김해시 하나만 시도 주소에 잘못 들어갔다"
   ]
  },
  {
   "cell_type": "code",
   "execution_count": 224,
   "metadata": {},
   "outputs": [
    {
     "data": {
      "text/html": [
       "<div>\n",
       "<style scoped>\n",
       "    .dataframe tbody tr th:only-of-type {\n",
       "        vertical-align: middle;\n",
       "    }\n",
       "\n",
       "    .dataframe tbody tr th {\n",
       "        vertical-align: top;\n",
       "    }\n",
       "\n",
       "    .dataframe thead th {\n",
       "        text-align: right;\n",
       "    }\n",
       "</style>\n",
       "<table border=\"1\" class=\"dataframe\">\n",
       "  <thead>\n",
       "    <tr style=\"text-align: right;\">\n",
       "      <th></th>\n",
       "      <th>학교명</th>\n",
       "      <th>학교급구분</th>\n",
       "      <th>소재지지번주소</th>\n",
       "      <th>위도</th>\n",
       "      <th>경도</th>\n",
       "      <th>시도</th>\n",
       "      <th>시군구</th>\n",
       "      <th>읍면동</th>\n",
       "      <th>상세주소</th>\n",
       "    </tr>\n",
       "  </thead>\n",
       "  <tbody>\n",
       "    <tr>\n",
       "      <th>8256</th>\n",
       "      <td>김해서중학교</td>\n",
       "      <td>중학교</td>\n",
       "      <td>김해시 주촌면 선지리 1468</td>\n",
       "      <td>35.233352</td>\n",
       "      <td>128.846022</td>\n",
       "      <td>김해시</td>\n",
       "      <td>주촌면</td>\n",
       "      <td>선지리</td>\n",
       "      <td>1468</td>\n",
       "    </tr>\n",
       "  </tbody>\n",
       "</table>\n",
       "</div>"
      ],
      "text/plain": [
       "         학교명 학교급구분           소재지지번주소         위도          경도   시도  시군구  읍면동  \\\n",
       "8256  김해서중학교   중학교  김해시 주촌면 선지리 1468  35.233352  128.846022  김해시  주촌면  선지리   \n",
       "\n",
       "      상세주소  \n",
       "8256  1468  "
      ]
     },
     "execution_count": 224,
     "metadata": {},
     "output_type": "execute_result"
    }
   ],
   "source": [
    "data.query(\"시도=='김해시'\")"
   ]
  },
  {
   "cell_type": "code",
   "execution_count": 230,
   "metadata": {},
   "outputs": [],
   "source": [
    "data.loc[8256, \"소재지지번주소\"]=\"경상남도 김해시 주촌면 선지리 1468\""
   ]
  },
  {
   "cell_type": "markdown",
   "metadata": {},
   "source": [
    "다시 주소 분할"
   ]
  },
  {
   "cell_type": "code",
   "execution_count": 233,
   "metadata": {},
   "outputs": [],
   "source": [
    "data.drop(columns=[\"시도\",\"시군구\",\"읍면동\",\"상세주소\"], axis=1, inplace=True)\n",
    "data[[\"시도\", \"시군구\", \"읍면동\", \"상세주소\"]] = data[\"소재지지번주소\"].apply(split_full_address)"
   ]
  },
  {
   "cell_type": "code",
   "execution_count": 234,
   "metadata": {},
   "outputs": [
    {
     "data": {
      "text/plain": [
       "array(['대전광역시', '부산광역시', '서울특별시', '제주특별자치도', '충청남도', '경기도', '광주광역시',\n",
       "       '세종특별자치시', '전북특별자치도', '울산광역시', '강원특별자치도', '충청북도', '대구광역시', '경상북도',\n",
       "       '인천광역시', '경상남도', '전라남도'], dtype=object)"
      ]
     },
     "execution_count": 234,
     "metadata": {},
     "output_type": "execute_result"
    }
   ],
   "source": [
    "data.시도.unique()"
   ]
  },
  {
   "cell_type": "code",
   "execution_count": 236,
   "metadata": {},
   "outputs": [
    {
     "data": {
      "text/html": [
       "<div>\n",
       "<style scoped>\n",
       "    .dataframe tbody tr th:only-of-type {\n",
       "        vertical-align: middle;\n",
       "    }\n",
       "\n",
       "    .dataframe tbody tr th {\n",
       "        vertical-align: top;\n",
       "    }\n",
       "\n",
       "    .dataframe thead th {\n",
       "        text-align: right;\n",
       "    }\n",
       "</style>\n",
       "<table border=\"1\" class=\"dataframe\">\n",
       "  <thead>\n",
       "    <tr style=\"text-align: right;\">\n",
       "      <th></th>\n",
       "      <th>School_Name</th>\n",
       "      <th>School_Type</th>\n",
       "      <th>County</th>\n",
       "      <th>City</th>\n",
       "      <th>Town</th>\n",
       "      <th>Address</th>\n",
       "      <th>Latitude</th>\n",
       "      <th>Longitude</th>\n",
       "    </tr>\n",
       "  </thead>\n",
       "  <tbody>\n",
       "    <tr>\n",
       "      <th>0</th>\n",
       "      <td>대전용산초등학교</td>\n",
       "      <td>초등학교</td>\n",
       "      <td>대전광역시</td>\n",
       "      <td>유성구</td>\n",
       "      <td>용산동</td>\n",
       "      <td>662</td>\n",
       "      <td>36.420154</td>\n",
       "      <td>127.395076</td>\n",
       "    </tr>\n",
       "  </tbody>\n",
       "</table>\n",
       "</div>"
      ],
      "text/plain": [
       "  School_Name School_Type County City Town Address   Latitude   Longitude\n",
       "0    대전용산초등학교        초등학교  대전광역시  유성구  용산동     662  36.420154  127.395076"
      ]
     },
     "execution_count": 236,
     "metadata": {},
     "output_type": "execute_result"
    }
   ],
   "source": [
    "data=data[[\"학교명\",\"학교급구분\",\"시도\", \"시군구\", \"읍면동\", \"상세주소\", \"위도\",\"경도\"]]\n",
    "data.columns=[\"School_Name\",\"School_Type\",\"County\",\"City\",\"Town\",\"Address\",\"Latitude\",\"Longitude\"]\n",
    "data.head(1)"
   ]
  },
  {
   "cell_type": "markdown",
   "metadata": {},
   "source": [
    "## 초, 중, 고교 분리하기"
   ]
  },
  {
   "cell_type": "code",
   "execution_count": 237,
   "metadata": {},
   "outputs": [
    {
     "data": {
      "text/html": [
       "<div>\n",
       "<style scoped>\n",
       "    .dataframe tbody tr th:only-of-type {\n",
       "        vertical-align: middle;\n",
       "    }\n",
       "\n",
       "    .dataframe tbody tr th {\n",
       "        vertical-align: top;\n",
       "    }\n",
       "\n",
       "    .dataframe thead th {\n",
       "        text-align: right;\n",
       "    }\n",
       "</style>\n",
       "<table border=\"1\" class=\"dataframe\">\n",
       "  <thead>\n",
       "    <tr style=\"text-align: right;\">\n",
       "      <th></th>\n",
       "      <th>School_Name</th>\n",
       "      <th>School_Type</th>\n",
       "      <th>County</th>\n",
       "      <th>City</th>\n",
       "      <th>Town</th>\n",
       "      <th>Address</th>\n",
       "      <th>Latitude</th>\n",
       "      <th>Longitude</th>\n",
       "    </tr>\n",
       "  </thead>\n",
       "  <tbody>\n",
       "    <tr>\n",
       "      <th>0</th>\n",
       "      <td>대전용산초등학교</td>\n",
       "      <td>초등학교</td>\n",
       "      <td>대전광역시</td>\n",
       "      <td>유성구</td>\n",
       "      <td>용산동</td>\n",
       "      <td>662</td>\n",
       "      <td>36.420154</td>\n",
       "      <td>127.395076</td>\n",
       "    </tr>\n",
       "    <tr>\n",
       "      <th>1</th>\n",
       "      <td>상당초등학교</td>\n",
       "      <td>초등학교</td>\n",
       "      <td>부산광역시</td>\n",
       "      <td>해운대구</td>\n",
       "      <td>좌동</td>\n",
       "      <td>1405</td>\n",
       "      <td>35.179656</td>\n",
       "      <td>129.176031</td>\n",
       "    </tr>\n",
       "    <tr>\n",
       "      <th>4</th>\n",
       "      <td>물메초등학교</td>\n",
       "      <td>초등학교</td>\n",
       "      <td>제주특별자치도</td>\n",
       "      <td>제주시</td>\n",
       "      <td>애월읍</td>\n",
       "      <td>수산리 1033</td>\n",
       "      <td>33.466188</td>\n",
       "      <td>126.391432</td>\n",
       "    </tr>\n",
       "    <tr>\n",
       "      <th>7</th>\n",
       "      <td>마곡초등학교</td>\n",
       "      <td>초등학교</td>\n",
       "      <td>충청남도</td>\n",
       "      <td>공주시</td>\n",
       "      <td>사곡면</td>\n",
       "      <td>운암리 459</td>\n",
       "      <td>36.558955</td>\n",
       "      <td>127.017743</td>\n",
       "    </tr>\n",
       "    <tr>\n",
       "      <th>10</th>\n",
       "      <td>부당초등학교</td>\n",
       "      <td>초등학교</td>\n",
       "      <td>전북특별자치도</td>\n",
       "      <td>무주군</td>\n",
       "      <td>부남면</td>\n",
       "      <td>가당리 448-2</td>\n",
       "      <td>36.015598</td>\n",
       "      <td>127.580283</td>\n",
       "    </tr>\n",
       "  </tbody>\n",
       "</table>\n",
       "</div>"
      ],
      "text/plain": [
       "   School_Name School_Type   County  City Town    Address   Latitude  \\\n",
       "0     대전용산초등학교        초등학교    대전광역시   유성구  용산동        662  36.420154   \n",
       "1       상당초등학교        초등학교    부산광역시  해운대구   좌동       1405  35.179656   \n",
       "4       물메초등학교        초등학교  제주특별자치도   제주시  애월읍   수산리 1033  33.466188   \n",
       "7       마곡초등학교        초등학교     충청남도   공주시  사곡면    운암리 459  36.558955   \n",
       "10      부당초등학교        초등학교  전북특별자치도   무주군  부남면  가당리 448-2  36.015598   \n",
       "\n",
       "     Longitude  \n",
       "0   127.395076  \n",
       "1   129.176031  \n",
       "4   126.391432  \n",
       "7   127.017743  \n",
       "10  127.580283  "
      ]
     },
     "execution_count": 237,
     "metadata": {},
     "output_type": "execute_result"
    }
   ],
   "source": [
    "data_element_school=data[data['School_Type']=='초등학교']\n",
    "data_middle_school=data[data['School_Type']=='중학교']\n",
    "data_high_school=data[data['School_Type']=='고등학교']\n",
    "data_element_school.head()"
   ]
  },
  {
   "cell_type": "markdown",
   "metadata": {},
   "source": [
    "## 각각 저장하기"
   ]
  },
  {
   "cell_type": "code",
   "execution_count": null,
   "metadata": {},
   "outputs": [],
   "source": [
    "data_element_school.to_csv(\"결과데이터/전국초등학교정보.csv\", index=False, encoding=\"cp949\")\n",
    "data_middle_school.to_csv(\"결과데이터/전국중등학교정보.csv\", index=False, encoding=\"cp949\")\n",
    "data_high_school.to_csv(\"결과데이터/전국고등학교정보.csv\", index=False, encoding=\"cp949\")"
   ]
  },
  {
   "cell_type": "markdown",
   "metadata": {},
   "source": [
    "# 7. 전국 공장 정보"
   ]
  },
  {
   "cell_type": "markdown",
   "metadata": {},
   "source": [
    "원본데이터는 엑셀이나 어떤 옵션으로도 불러오지 못해서 csv파일로 따로 저장"
   ]
  },
  {
   "cell_type": "code",
   "execution_count": null,
   "metadata": {},
   "outputs": [
    {
     "name": "stderr",
     "output_type": "stream",
     "text": [
      "C:\\Users\\swoo6\\AppData\\Local\\Temp\\ipykernel_14132\\1398049239.py:1: DtypeWarning: Columns (10,12,29) have mixed types. Specify dtype option on import or set low_memory=False.\n",
      "  data=pd.read_csv(\"(2025.02월말기준)_전국공장등록현황.csv\", encoding=\"utf-8-sig\")\n"
     ]
    },
    {
     "data": {
      "text/html": [
       "<div>\n",
       "<style scoped>\n",
       "    .dataframe tbody tr th:only-of-type {\n",
       "        vertical-align: middle;\n",
       "    }\n",
       "\n",
       "    .dataframe tbody tr th {\n",
       "        vertical-align: top;\n",
       "    }\n",
       "\n",
       "    .dataframe thead th {\n",
       "        text-align: right;\n",
       "    }\n",
       "</style>\n",
       "<table border=\"1\" class=\"dataframe\">\n",
       "  <thead>\n",
       "    <tr style=\"text-align: right;\">\n",
       "      <th></th>\n",
       "      <th>회사명</th>\n",
       "      <th>공장규모</th>\n",
       "      <th>업종명</th>\n",
       "      <th>공장주소_지번</th>\n",
       "    </tr>\n",
       "  </thead>\n",
       "  <tbody>\n",
       "    <tr>\n",
       "      <th>0</th>\n",
       "      <td>남일문화 (주)</td>\n",
       "      <td>소기업</td>\n",
       "      <td>경 인쇄업 외 2 종</td>\n",
       "      <td>서울특별시 종로구 창성동 87-1번지</td>\n",
       "    </tr>\n",
       "  </tbody>\n",
       "</table>\n",
       "</div>"
      ],
      "text/plain": [
       "        회사명 공장규모          업종명               공장주소_지번\n",
       "0  남일문화 (주)  소기업  경 인쇄업 외 2 종  서울특별시 종로구 창성동 87-1번지"
      ]
     },
     "execution_count": 239,
     "metadata": {},
     "output_type": "execute_result"
    }
   ],
   "source": [
    "data=pd.read_csv(\"원본데이터/(2025.02월말기준)_전국공장등록현황.csv\", encoding=\"utf-8-sig\")\n",
    "data=data[[\"회사명\",\"공장규모\",\"업종명\",\"공장주소_지번\"]]\n",
    "data.head(1)"
   ]
  },
  {
   "cell_type": "code",
   "execution_count": 240,
   "metadata": {},
   "outputs": [
    {
     "data": {
      "text/plain": [
       "회사명        0\n",
       "공장규모       0\n",
       "업종명        0\n",
       "공장주소_지번    0\n",
       "dtype: int64"
      ]
     },
     "execution_count": 240,
     "metadata": {},
     "output_type": "execute_result"
    }
   ],
   "source": [
    "data.isna().sum()"
   ]
  },
  {
   "cell_type": "markdown",
   "metadata": {},
   "source": [
    "## 주소 분할"
   ]
  },
  {
   "cell_type": "code",
   "execution_count": 242,
   "metadata": {},
   "outputs": [],
   "source": [
    "data[[\"시도\", \"시군구\", \"읍면동\", \"상세주소\"]] = data[\"공장주소_지번\"].apply(split_full_address)"
   ]
  },
  {
   "cell_type": "code",
   "execution_count": 244,
   "metadata": {},
   "outputs": [
    {
     "data": {
      "text/plain": [
       "회사명          0\n",
       "공장규모         0\n",
       "업종명          0\n",
       "공장주소_지번      0\n",
       "시도          37\n",
       "시군구         37\n",
       "읍면동        113\n",
       "상세주소       743\n",
       "dtype: int64"
      ]
     },
     "execution_count": 244,
     "metadata": {},
     "output_type": "execute_result"
    }
   ],
   "source": [
    "data.isna().sum()"
   ]
  },
  {
   "cell_type": "code",
   "execution_count": 245,
   "metadata": {},
   "outputs": [
    {
     "data": {
      "text/plain": [
       "회사명          0\n",
       "공장규모         0\n",
       "업종명          0\n",
       "공장주소_지번      0\n",
       "시도           0\n",
       "시군구          0\n",
       "읍면동         76\n",
       "상세주소       743\n",
       "dtype: int64"
      ]
     },
     "execution_count": 245,
     "metadata": {},
     "output_type": "execute_result"
    }
   ],
   "source": [
    "data.dropna(subset=[\"시도\"], inplace=True)\n",
    "data.isna().sum()"
   ]
  },
  {
   "cell_type": "code",
   "execution_count": 246,
   "metadata": {},
   "outputs": [
    {
     "data": {
      "text/plain": [
       "array(['서울특별시', '충무로5가', '인천광역시', '구로동', '고척동', '온수동', '가산동', '부산광역시',\n",
       "       '경상남도', '동삼동', '부산광역시동래구', '용당동', '부산광역시해운대구', '하단동', '장림동', '회동동',\n",
       "       '광주광역시', '부산광역시강서구', '미음동', '연산동', '광안동', '부산광역시사상구', '감전동', '학장동',\n",
       "       '장안읍', '부산광역시기장군', '대구광역시', '지저동', '비산동', '이현동', '노원동3가', '검단동',\n",
       "       '호림동', '월성동', '호산동', '논공읍', '유가읍', '옥포읍', '도화동', '주안동', '논현동',\n",
       "       '고잔동', '인천광역시남동구', '십정동', '청천동', '갈산동', '서운동', '인천광역시서구', '가좌동',\n",
       "       '오류동', '청라동', '두암동', '광주광역시북구', '지야동', '소촌동', '도천동', '진곡동', '오선동',\n",
       "       '대전광역시', '낭월동', '장대동', '대전광역시유성구', '탑립동', '신동', '오정동', '대화동',\n",
       "       '신일동', '울산광역시', '황성동', '달천동', '청량읍', '세종특별자치시', '집현동', '충청남도',\n",
       "       '연동면', '세종특별자치시부강면', '경기도', '시흥동', '상대원동', '안양동', '춘의동', '도당동',\n",
       "       '역곡동', '삼정동', '내동', '세교동', '청북읍', '진위면', '지행동', '경기도안산시', '팔곡이동',\n",
       "       '성곡동', '원시동', '목내동', '갈매동', '인창동', '오남읍', '양산동', '은행동', '매화동',\n",
       "       '도창동', '정왕동', '배곧동', '당동', '경기도군포시', '당정동', '산본동', '삼동', '경기도의왕시',\n",
       "       '풍산동', '이동읍', '양지면', '신갈동', '영덕동', '풍덕천동', '검산동', '신촌동', '법원읍',\n",
       "       '월롱면', '탄현면', '운양동', '구래동', '통진읍', '양촌읍', '대곶면', '월곶면', '영천동',\n",
       "       '새솔동', '우정읍', '매송면', '마도면', '서신면', '정남면', '초월읍', '남면', '자작동',\n",
       "       '가산면', '화현면', '충청북도', '현도면', '내수읍', '오창읍', '금성면', '충청북도영동군', '이월면',\n",
       "       '안서동', '충청남도천안시', '성거읍', '둔포면', '성동면', '벌곡면', '면천면', '장항읍', '종천면',\n",
       "       '오가면', '전라남도', '평여동', '전라남도순천시', '대전면', '전라남도고흥군', '장흥읍', '화원면',\n",
       "       '삼호읍', '전라남도영암군', '전라남도장성군', '경상북도', '경상북도김천시', '개령면', '공단동',\n",
       "       '산동읍', '상줄동', '금호읍', '성산면', '경상북도성주군', '선남면', '호명읍', '평해읍', '죽변면',\n",
       "       '봉암동', '내서읍', '진성면', '도산면', '풍유동', '주촌면', '진례면', '한림면', '대동면',\n",
       "       '사등면', '북정동', '경상남도양산시', '호계동', '명동', '가야읍', '칠서면', '대지면', '생비량면',\n",
       "       '제주도', '제주특별자치도', '제주특별자치', '제주특별자치도서귀포시', '강원특별자치도', '단구동', '대전동',\n",
       "       '강원특별자치도강릉시', '강원특별자치도동해시', '강원특별자치도태백시', '전북특별자치도', '용정동', '오식도동',\n",
       "       '옥산면', '하북동', '고부면', '노암동', '봉동읍', '고수면'], dtype=object)"
      ]
     },
     "execution_count": 246,
     "metadata": {},
     "output_type": "execute_result"
    }
   ],
   "source": [
    "data.시도.unique()"
   ]
  },
  {
   "cell_type": "markdown",
   "metadata": {},
   "source": [
    "오류가 있는 주소가 많다. 다 수정해보자"
   ]
  },
  {
   "cell_type": "code",
   "execution_count": 248,
   "metadata": {},
   "outputs": [],
   "source": [
    "data.replace({\"시도\": {\"충무로5가\": \"서울특별시 중구 충무로5가\"}}, inplace=True)\n",
    "data.replace({\"시도\": {\"구로동\": \"서울특별시 구로구 구로동\"}}, inplace=True)\n",
    "data.replace({\"시도\": {\"고척동\": \"서울특별시 구로구 고척동\"}}, inplace=True)\n",
    "data.replace({\"시도\": {\"온수동\": \"서울특별시 구로구 온수동\"}}, inplace=True)\n",
    "data.replace({\"시도\": {\"가산동\": \"서울특별시 금천구 가산동\"}}, inplace=True)\n",
    "data.replace({\"시도\": {\"동삼동\": \"부산광역시 영도구 동삼동\"}}, inplace=True)\n",
    "data.replace({\"시도\": {\"부산광역시동래구\": \"부산광역시 동래구\"}}, inplace=True)\n",
    "data.replace({\"시도\": {\"부산광역시해운대구\": \"부산광역시 해운대구\"}}, inplace=True)\n",
    "data.replace({\"시도\": {\"하단동\": \"부산광역시 사하구 하단동\"}}, inplace=True)\n",
    "data.replace({\"시도\": {\"장림동\": \"부산광역시 사하구 장림동\"}}, inplace=True)\n",
    "data.replace({\"시도\": {\"회동동\": \"부산광역시 금정구 회동동\"}}, inplace=True)\n",
    "data.replace({\"시도\": {\"부산광역시강서구\": \"부산광역시 강서구\"}}, inplace=True)\n",
    "data.replace({\"시도\": {\"미음동\": \"부산광역시 강서구 미음동\"}}, inplace=True)\n",
    "data.replace({\"시도\": {\"광안동\": \"부산광역시 수영구 광안동\"}}, inplace=True)\n",
    "data.replace({\"시도\": {\"부산광역시사상구\": \"부산광역시 사상구\"}}, inplace=True)\n",
    "data.replace({\"시도\": {\"감전동\": \"부산광역시 사상구 감전동\"}}, inplace=True)\n",
    "data.replace({\"시도\": {\"학장동\": \"부산광역시 사상구 학장동\"}}, inplace=True)\n",
    "data.replace({\"시도\": {\"장안읍\": \"부산광역시 기장군 장안읍\"}}, inplace=True)\n",
    "data.replace({\"시도\": {\"부산광역시기장군\": \"부산광역시 기장군\"}}, inplace=True)\n",
    "data.replace({\"시도\": {\"지저동\": \"대구광역시 동구 지저동\"}}, inplace=True)\n",
    "data.replace({\"시도\": {\"노원동3가\": \"대구광역시 북구 노원동3가\"}}, inplace=True)\n",
    "data.replace({\"시도\": {\"검단동\": \"대구광역시 북구 검단동\"}}, inplace=True)\n",
    "data.replace({\"시도\": {\"호림동\": \"대구광역시 달서구 호림동\"}}, inplace=True)\n",
    "data.replace({\"시도\": {\"월성동\": \"대구광역시 달서구 월성동\"}}, inplace=True)\n",
    "data.replace({\"시도\": {\"호산동\": \"대구광역시 달서구 호산동\"}}, inplace=True)\n",
    "data.replace({\"시도\": {\"논공읍\": \"대구광역시 달성군 논공읍\"}}, inplace=True)\n",
    "data.replace({\"시도\": {\"유가읍\": \"대구광역시 달성군 유가읍\"}}, inplace=True)"
   ]
  },
  {
   "cell_type": "code",
   "execution_count": 249,
   "metadata": {},
   "outputs": [],
   "source": [
    "data.replace({\"시도\": {\"옥포읍\": \"대구광역시 달성군 옥포읍\"}}, inplace=True)\n",
    "data.replace({\"시도\": {\"도화동\": \"인천광역시 미추홀구 도화동\"}}, inplace=True)\n",
    "data.replace({\"시도\": {\"주안동\": \"인천광역시 미추홀구 주안동\"}}, inplace=True)\n",
    "data.replace({\"시도\": {\"논현동\": \"인천광역시 남동구 논현동\"}}, inplace=True)\n",
    "data.replace({\"시도\": {\"고잔동\": \"인천광역시 남동구 고잔동\"}}, inplace=True)\n",
    "data.replace({\"시도\": {\"인천광역시남동구\": \"인천광역시 남동구\"}}, inplace=True)\n",
    "data.replace({\"시도\": {\"십정동\": \"인천광역시 부평구 십정동\"}}, inplace=True)\n",
    "data.replace({\"시도\": {\"청천동\": \"인천광역시 부평구 청천동\"}}, inplace=True)\n",
    "data.replace({\"시도\": {\"갈산동\": \"인천광역시 부평구 갈산동\"}}, inplace=True)\n",
    "data.replace({\"시도\": {\"서운동\": \"인천광역시 계양구 서운동\"}}, inplace=True)\n",
    "data.replace({\"시도\": {\"인천광역시서구\": \"인천광역시 서구\"}}, inplace=True)\n",
    "data.replace({\"시도\": {\"가좌동\": \"인천광역시 서구 가좌동\"}}, inplace=True)\n",
    "data.replace({\"시도\": {\"오류동\": \"인천광역시 서구 오류동\"}}, inplace=True)\n",
    "data.replace({\"시도\": {\"청라동\": \"인천광역시 서구 청라동\"}}, inplace=True)\n",
    "data.replace({\"시도\": {\"두암동\": \"광주광역시 북구 두암동\"}}, inplace=True)\n",
    "data.replace({\"시도\": {\"광주광역시북구\": \"광주광역시 북구\"}}, inplace=True)\n",
    "data.replace({\"시도\": {\"지야동\": \"광주광역시 북구 지야동\"}}, inplace=True)\n",
    "data.replace({\"시도\": {\"소촌동\": \"광주광역시 광산구 소촌동\"}}, inplace=True)\n",
    "data.replace({\"시도\": {\"도천동\": \"광주광역시 광산구 도천동\"}}, inplace=True)\n",
    "data.replace({\"시도\": {\"진곡동\": \"광주광역시 광산구 진곡동\"}}, inplace=True)\n",
    "data.replace({\"시도\": {\"오선동\": \"광주광역시 광산구 오선동\"}}, inplace=True)\n",
    "data.replace({\"시도\": {\"낭월동\": \"대전광역시 동구 낭월동\"}}, inplace=True)\n",
    "data.replace({\"시도\": {\"장대동\": \"대전광역시 유성구 장대동\"}}, inplace=True)\n",
    "data.replace({\"시도\": {\"대전광역시유성구\": \"대전광역시 유성구\"}}, inplace=True)\n",
    "data.replace({\"시도\": {\"탑립동\": \"대전광역시 유성구 탑립동\"}}, inplace=True)\n",
    "data.replace({\"시도\": {\"신동\": \"대전광역시 유성구 신동\"}}, inplace=True)\n",
    "data.replace({\"시도\": {\"오정동\": \"대전광역시 대덕구 오정동\"}}, inplace=True)"
   ]
  },
  {
   "cell_type": "code",
   "execution_count": 255,
   "metadata": {},
   "outputs": [],
   "source": [
    "data.replace({\"시도\": {\"용당동\": \"경상남도 양산시 용당동\"}}, inplace=True)\n",
    "data.replace({\"시도\": {\"연산동\": \"광주광역시 광산구 연산동\"}}, inplace=True)\n",
    "data.replace({\"시도\": {\"비산동\": \"대구광역시 서구 비산동\"}}, inplace=True)\n",
    "data.replace({\"시도\": {\"이현동\": \"대구광역시 서구 이현동\"}}, inplace=True)\n",
    "data.replace({\"시도\": {\"대화동\": \"대전광역시 대덕구 대화동\"}}, inplace=True)\n",
    "data.replace({\"시도\": {\"신일동\": \"대전광역시 대덕구 신일동\"}}, inplace=True)\n",
    "data.replace({\"시도\": {\"황성동\": \"울산광역시 남구 황성동\"}}, inplace=True)\n",
    "data.replace({\"시도\": {\"달천동\": \"울산광역시 북구 달천동\"}}, inplace=True)\n",
    "data.replace({\"시도\": {\"청량읍\": \"울산광역시 울주군 청량읍\"}}, inplace=True)\n",
    "data.replace({\"시도\": {\"집현동\": \"세종특별자치시 집현동\"}}, inplace=True)\n",
    "data.replace({\"시도\": {\"연동면\": \"세종특별자치시 연동면\"}}, inplace=True)\n",
    "data.replace({\"시도\": {\"세종특별자치시부강면\": \"세종특별자치시 부강면\"}}, inplace=True)\n",
    "data.replace({\"시도\": {\"시흥동\": \"경기도 성남시 수정구 시흥동\"}}, inplace=True)\n",
    "data.replace({\"시도\": {\"상대원동\": \"경기도 성남시 중원구 상대원동\"}}, inplace=True)\n",
    "data.replace({\"시도\": {\"안양동\": \"경기도 안양시 만안구 안양동\"}}, inplace=True)\n",
    "data.replace({\"시도\": {\"춘의동\": \"경기도 부천시 원미구 춘의동\"}}, inplace=True)\n",
    "data.replace({\"시도\": {\"도당동\": \"경기도 부천시 원미구 도당동\"}}, inplace=True)\n",
    "data.replace({\"시도\": {\"역곡동\": \"경기도 부천시 원미구 역곡동\"}}, inplace=True)\n",
    "data.replace({\"시도\": {\"삼정동\": \"경기도 부천시 오정구 삼정동\"}}, inplace=True)\n",
    "data.replace({\"시도\": {\"내동\": \"경기도 부천시 오정구 내동\"}}, inplace=True)\n",
    "data.replace({\"시도\": {\"세교동\": \"경기도 평택시 세교동\"}}, inplace=True)\n",
    "data.replace({\"시도\": {\"청북읍\": \"경기도 평택시 청북읍\"}}, inplace=True)\n",
    "data.replace({\"시도\": {\"진위면\": \"경기도 평택시 진위면\"}}, inplace=True)\n",
    "data.replace({\"시도\": {\"지행동\": \"경기도 동두천시 지행동\"}}, inplace=True)\n",
    "data.replace({\"시도\": {\"경기도안산시\": \"경기도 안산시\"}}, inplace=True)\n",
    "data.replace({\"시도\": {\"팔곡이동\": \"경기도 안산시 상록구 팔곡이동\"}}, inplace=True)\n",
    "data.replace({\"시도\": {\"성곡동\": \"경기도 안산시 단원구 성곡동\"}}, inplace=True)"
   ]
  },
  {
   "cell_type": "code",
   "execution_count": 259,
   "metadata": {},
   "outputs": [],
   "source": [
    "data.replace({\"시도\": {\"원시동\": \"경기도 안산시 단원구 원시동\"}}, inplace=True)\n",
    "data.replace({\"시도\": {\"목내동\": \"경기도 안산시 단원구 목내동\"}}, inplace=True)\n",
    "data.replace({\"시도\": {\"갈매동\": \"경기도 구리시 갈매동\"}}, inplace=True)\n",
    "data.replace({\"시도\": {\"인창동\": \"경기도 구리시 인창동\"}}, inplace=True)\n",
    "data.replace({\"시도\": {\"오남읍\": \"경기도 남양주시 오남읍\"}}, inplace=True)\n",
    "data.replace({\"시도\": {\"양산동\": \"경기도 오산시 양산동\"}}, inplace=True)\n",
    "data.replace({\"시도\": {\"은행동\": \"경기도 시흥시 은행동\"}}, inplace=True)\n",
    "data.replace({\"시도\": {\"매화동\": \"경기도 시흥시 매화동\"}}, inplace=True)\n",
    "data.replace({\"시도\": {\"도창동\": \"경기도 시흥시 도창동\"}}, inplace=True)\n",
    "data.replace({\"시도\": {\"정왕동\": \"경기도 시흥시 정왕동\"}}, inplace=True)\n",
    "data.replace({\"시도\": {\"배곧동\": \"경기도 시흥시 배곧동\"}}, inplace=True)\n",
    "data.replace({\"시도\": {\"당동\": \"경기도 군포시 당동\"}}, inplace=True)\n",
    "data.replace({\"시도\": {\"경기도군포시\": \"경기도 군포시\"}}, inplace=True)\n",
    "data.replace({\"시도\": {\"당정동\": \"경기도 군포시 당정동\"}}, inplace=True)\n",
    "data.replace({\"시도\": {\"산본동\": \"경기도 군포시 산본동\"}}, inplace=True)\n",
    "data.replace({\"시도\": {\"삼동\": \"경기도 의왕시 삼동\"}}, inplace=True)\n",
    "data.replace({\"시도\": {\"경기도의왕시\": \"경기도 의왕시\"}}, inplace=True)\n",
    "data.replace({\"시도\": {\"이동읍\": \"경기도 용인시 처인구 이동읍\"}}, inplace=True)\n",
    "data.replace({\"시도\": {\"양지면\": \"경기도 용인시 처인구 양지면\"}}, inplace=True)\n",
    "data.replace({\"시도\": {\"신갈동\": \"경기도 용인시 기흥구 신갈동\"}}, inplace=True)\n",
    "data.replace({\"시도\": {\"영덕동\": \"경기도 용인시 기흥구 영덕동\"}}, inplace=True)\n",
    "data.replace({\"시도\": {\"풍덕천동\": \"경기도 용인시 수지구 풍덕천동\"}}, inplace=True)\n",
    "data.replace({\"시도\": {\"검산동\": \"경기도 파주시 검산동\"}}, inplace=True)\n",
    "data.replace({\"시도\": {\"신촌동\": \"경기도 파주시 신촌동\"}}, inplace=True)\n",
    "data.replace({\"시도\": {\"법원읍\": \"경기도 파주시 법원읍\"}}, inplace=True)\n",
    "data.replace({\"시도\": {\"월롱면\": \"경기도 파주시 월롱면\"}}, inplace=True)"
   ]
  },
  {
   "cell_type": "code",
   "execution_count": 262,
   "metadata": {},
   "outputs": [],
   "source": [
    "data.replace({\"시도\": {\"탄현면\": \"경기도 파주시 탄현면\"}}, inplace=True)\n",
    "data.replace({\"시도\": {\"운양동\": \"경기도 김포시 운양동\"}}, inplace=True)\n",
    "data.replace({\"시도\": {\"구래동\": \"경기도 김포시 구래동\"}}, inplace=True)\n",
    "data.replace({\"시도\": {\"통진읍\": \"경기도 김포시 통진읍\"}}, inplace=True)\n",
    "data.replace({\"시도\": {\"양촌읍\": \"경기도 김포시 양촌읍\"}}, inplace=True)\n",
    "data.replace({\"시도\": {\"대곶면\": \"경기도 김포시 대곶면\"}}, inplace=True)\n",
    "data.replace({\"시도\": {\"월곶면\": \"경기도 김포시 월곶면\"}}, inplace=True)\n",
    "data.replace({\"시도\": {\"영천동\": \"경기도 화성시 영천동\"}}, inplace=True)\n",
    "data.replace({\"시도\": {\"새솔동\": \"경기도 화성시 새솔동\"}}, inplace=True)\n",
    "data.replace({\"시도\": {\"우정읍\": \"경기도 화성시 우정읍\"}}, inplace=True)\n",
    "data.replace({\"시도\": {\"매송면\": \"경기도 화성시 매송면\"}}, inplace=True)\n",
    "data.replace({\"시도\": {\"마도면\": \"경기도 화성시 마도면\"}}, inplace=True)\n",
    "data.replace({\"시도\": {\"서신면\": \"경기도 화성시 서신면\"}}, inplace=True)\n",
    "data.replace({\"시도\": {\"정남면\": \"경기도 화성시 정남면\"}}, inplace=True)\n",
    "data.replace({\"시도\": {\"초월읍\": \"경기도 광주시 초월읍\"}}, inplace=True)\n",
    "data.replace({\"시도\": {\"남면\": \"경기도 양주시 남면\"}}, inplace=True)\n",
    "data.replace({\"시도\": {\"자작동\": \"경기도 포천시 자작동\"}}, inplace=True)\n",
    "data.replace({\"시도\": {\"가산면\": \"경기도 포천시 가산면\"}}, inplace=True)\n",
    "data.replace({\"시도\": {\"화현면\": \"경기도 포천시 화현면\"}}, inplace=True)\n",
    "data.replace({\"시도\": {\"현도면\": \"충청북도 청주시 서원구 현도면\"}}, inplace=True)\n",
    "data.replace({\"시도\": {\"내수읍\": \"충청북도 청주시 청원구 내수읍\"}}, inplace=True)\n",
    "data.replace({\"시도\": {\"오창읍\": \"충청북도 청주시 청원구 오창읍\"}}, inplace=True)\n",
    "data.replace({\"시도\": {\"금성면\": \"충청북도 제천시 금성면\"}}, inplace=True)\n",
    "data.replace({\"시도\": {\"충청북도영동군\": \"충청북도 영동군\"}}, inplace=True)\n",
    "data.replace({\"시도\": {\"이월면\": \"충청북도 진천군 이월면\"}}, inplace=True)\n",
    "data.replace({\"시도\": {\"안서동\": \"충청남도 천안시 동남구 안서동\"}}, inplace=True)\n",
    "data.replace({\"시도\": {\"충청남도천안시\": \"충청남도 천안시\"}}, inplace=True)"
   ]
  },
  {
   "cell_type": "code",
   "execution_count": 265,
   "metadata": {},
   "outputs": [],
   "source": [
    "data.replace({\"시도\": {\"성거읍\": \"충청남도 천안시 서북구 성거읍\"}}, inplace=True)\n",
    "data.replace({\"시도\": {\"둔포면\": \"충청남도 아산시 둔포면\"}}, inplace=True)\n",
    "data.replace({\"시도\": {\"성동면\": \"충청남도 논산시 성동면\"}}, inplace=True)\n",
    "data.replace({\"시도\": {\"벌곡면\": \"충청남도 논산시 벌곡면\"}}, inplace=True)\n",
    "data.replace({\"시도\": {\"면천면\": \"충청남도 당진시 면천면\"}}, inplace=True)\n",
    "data.replace({\"시도\": {\"장항읍\": \"충청남도 서천군 장항읍\"}}, inplace=True)\n",
    "data.replace({\"시도\": {\"종천면\": \"충청남도 서천군 종천면\"}}, inplace=True)\n",
    "data.replace({\"시도\": {\"오가면\": \"충청남도 예산군 오가면\"}}, inplace=True)\n",
    "data.replace({\"시도\": {\"평여동\": \"전라남도 여수시 평여동\"}}, inplace=True)\n",
    "data.replace({\"시도\": {\"전라남도순천시\": \"전라남도 순천시\"}}, inplace=True)\n",
    "data.replace({\"시도\": {\"대전면\": \"전라남도 담양군 대전면\"}}, inplace=True)\n",
    "data.replace({\"시도\": {\"전라남도고흥군\": \"전라남도 고흥군\"}}, inplace=True)\n",
    "data.replace({\"시도\": {\"장흥읍\": \"전라남도 장흥군 장흥읍\"}}, inplace=True)\n",
    "data.replace({\"시도\": {\"화원면\": \"전라남도 해남군 화원면\"}}, inplace=True)\n",
    "data.replace({\"시도\": {\"삼호읍\": \"전라남도 영암군 삼호읍\"}}, inplace=True)\n",
    "data.replace({\"시도\": {\"전라남도영암군\": \"전라남도 영암군\"}}, inplace=True)\n",
    "data.replace({\"시도\": {\"전라남도장성군\": \"전라남도 장성군\"}}, inplace=True)\n",
    "data.replace({\"시도\": {\"경상북도김천시\": \"경상북도 김천시\"}}, inplace=True)\n",
    "data.replace({\"시도\": {\"개령면\": \"경상북도 김천시 개령면\"}}, inplace=True)\n",
    "data.replace({\"시도\": {\"공단동\": \"경상북도 구미시 공단동\"}}, inplace=True)\n",
    "data.replace({\"시도\": {\"산동읍\": \"경상북도 구미시 산동읍\"}}, inplace=True)\n",
    "data.replace({\"시도\": {\"상줄동\": \"경상북도 영주시 상줄동\"}}, inplace=True)\n",
    "data.replace({\"시도\": {\"금호읍\": \"경상북도 영천시 금호읍\"}}, inplace=True)\n",
    "data.replace({\"시도\": {\"성산면\": \"경상북도 고령군 성산면\"}}, inplace=True)\n",
    "data.replace({\"시도\": {\"경상북도성주군\": \"경상북도 성주군\"}}, inplace=True)\n",
    "data.replace({\"시도\": {\"선남면\": \"경상북도 성주군 선남면\"}}, inplace=True)\n",
    "data.replace({\"시도\": {\"호명읍\": \"경상북도 예천군 호명읍\"}}, inplace=True)"
   ]
  },
  {
   "cell_type": "code",
   "execution_count": 268,
   "metadata": {},
   "outputs": [],
   "source": [
    "data.replace({\"시도\": {\"평해읍\": \"경상북도 울진군 평해읍\"}}, inplace=True)\n",
    "data.replace({\"시도\": {\"죽변면\": \"경상북도 울진군 죽변면\"}}, inplace=True)\n",
    "data.replace({\"시도\": {\"봉암동\": \"경상남도 창원시 마산회원구 봉암동\"}}, inplace=True)\n",
    "data.replace({\"시도\": {\"내서읍\": \"경상남도 창원시 마산회원구 내서읍\"}}, inplace=True)\n",
    "data.replace({\"시도\": {\"진성면\": \"경상남도 진주시 진성면\"}}, inplace=True)\n",
    "data.replace({\"시도\": {\"도산면\": \"경상남도 통영시 도산면\"}}, inplace=True)\n",
    "data.replace({\"시도\": {\"풍유동\": \"경상남도 김해시 풍유동\"}}, inplace=True)\n",
    "data.replace({\"시도\": {\"주촌면\": \"경상남도 김해시 주촌면\"}}, inplace=True)\n",
    "data.replace({\"시도\": {\"진례면\": \"경상남도 김해시 진례면\"}}, inplace=True)\n",
    "data.replace({\"시도\": {\"한림면\": \"경상남도 김해시 한림면\"}}, inplace=True)\n",
    "data.replace({\"시도\": {\"대동면\": \"경상남도 김해시 대동면\"}}, inplace=True)\n",
    "data.replace({\"시도\": {\"사등면\": \"경상남도 거제시 사등면\"}}, inplace=True)\n",
    "data.replace({\"시도\": {\"북정동\": \"경상남도 양산시 북정동\"}}, inplace=True)\n",
    "data.replace({\"시도\": {\"경상남도양산시\": \"경상남도 양산시\"}}, inplace=True)\n",
    "data.replace({\"시도\": {\"호계동\": \"경상남도 양산시 호계동\"}}, inplace=True)\n",
    "data.replace({\"시도\": {\"명동\": \"경상남도 양산시 명동\"}}, inplace=True)\n",
    "data.replace({\"시도\": {\"가야읍\": \"경상남도 함안군 가야읍\"}}, inplace=True)\n",
    "data.replace({\"시도\": {\"칠서면\": \"경상남도 함안군 칠서면\"}}, inplace=True)\n",
    "data.replace({\"시도\": {\"대지면\": \"경상남도 창녕군 대지면\"}}, inplace=True)\n",
    "data.replace({\"시도\": {\"생비량면\": \"경상남도 산청군 생비량면\"}}, inplace=True)\n",
    "data.replace({\"시도\": {\"제주도\": \"제주특별자치도\"}}, inplace=True)\n",
    "data.replace({\"시도\": {\"제주특별자치\": \"제주특별자치도\"}}, inplace=True)\n",
    "data.replace({\"시도\": {\"제주특별자치도서귀포시\": \"제주특별자치도 서귀포시\"}}, inplace=True)\n",
    "data.replace({\"시도\": {\"단구동\": \"강원특별자치도 원주시 단구동\"}}, inplace=True)\n",
    "data.replace({\"시도\": {\"대전동\": \"강원특별자치도 강릉시 대전동\"}}, inplace=True)\n",
    "data.replace({\"시도\": {\"강원특별자치도강릉시\": \"강원특별자치도 강릉시\"}}, inplace=True)\n",
    "data.replace({\"시도\": {\"강원특별자치도동해시\": \"강원특별자치도 동해시\"}}, inplace=True)"
   ]
  },
  {
   "cell_type": "code",
   "execution_count": 271,
   "metadata": {},
   "outputs": [],
   "source": [
    "data.replace({\"시도\": {\"강원특별자치도태백시\": \"강원특별자치도 태백시\"}}, inplace=True)\n",
    "data.replace({\"시도\": {\"오식도동\": \"전북특별자치도 군산시 오식도동\"}}, inplace=True)\n",
    "data.replace({\"시도\": {\"옥산면\": \"전북특별자치도 군산시 오식도동\"}}, inplace=True)\n",
    "data.replace({\"시도\": {\"하북동\": \"전북특별자치도 정읍시 하북동\"}}, inplace=True)\n",
    "data.replace({\"시도\": {\"고부면\": \"전북특별자치도 정읍시 고부면\"}}, inplace=True)\n",
    "data.replace({\"시도\": {\"노암동\": \"전북특별자치도 남원시 노암동\"}}, inplace=True)\n",
    "data.replace({\"시도\": {\"봉동읍\": \"전북특별자치도 완주군 봉동읍\"}}, inplace=True)\n",
    "data.replace({\"시도\": {\"고수면\": \"전북특별자치도 고창군 고수면\"}}, inplace=True)\n"
   ]
  },
  {
   "cell_type": "code",
   "execution_count": 272,
   "metadata": {},
   "outputs": [],
   "source": [
    "data[\"전체주소\"]=data[\"시도\"]+\" \"+data[\"시군구\"]+\" \"+data[\"읍면동\"].fillna(\"\")+\" \"+data[\"상세주소\"].fillna(\"\")\n",
    "data[[\"시도\", \"시군구\", \"읍면동\", \"상세주소\"]] = data[\"전체주소\"].apply(split_full_address)"
   ]
  },
  {
   "cell_type": "code",
   "execution_count": 273,
   "metadata": {},
   "outputs": [
    {
     "data": {
      "text/plain": [
       "array(['서울특별시', '인천광역시', '부산광역시', '경상남도', '광주광역시', '대구광역시', '대전광역시',\n",
       "       '울산광역시', '세종특별자치시', '충청남도', '경기도', '풍산동', '충청북도', '전라남도', '경상북도',\n",
       "       '제주특별자치도', '강원특별자치도', '전북특별자치도', '용정동'], dtype=object)"
      ]
     },
     "execution_count": 273,
     "metadata": {},
     "output_type": "execute_result"
    }
   ],
   "source": [
    "data.시도.unique()"
   ]
  },
  {
   "cell_type": "markdown",
   "metadata": {},
   "source": [
    "전처리 하지 못한 주소는 제거"
   ]
  },
  {
   "cell_type": "code",
   "execution_count": 280,
   "metadata": {},
   "outputs": [],
   "source": [
    "data=data.loc[~data[\"시도\"].isin([\"풍산동\", \"용정동\"])]"
   ]
  },
  {
   "cell_type": "code",
   "execution_count": 281,
   "metadata": {},
   "outputs": [
    {
     "data": {
      "text/plain": [
       "array(['서울특별시', '인천광역시', '부산광역시', '경상남도', '광주광역시', '대구광역시', '대전광역시',\n",
       "       '울산광역시', '세종특별자치시', '충청남도', '경기도', '충청북도', '전라남도', '경상북도',\n",
       "       '제주특별자치도', '강원특별자치도', '전북특별자치도'], dtype=object)"
      ]
     },
     "execution_count": 281,
     "metadata": {},
     "output_type": "execute_result"
    }
   ],
   "source": [
    "data.시도.unique()"
   ]
  },
  {
   "cell_type": "code",
   "execution_count": 285,
   "metadata": {},
   "outputs": [
    {
     "data": {
      "text/plain": [
       "시도        0\n",
       "시군구       0\n",
       "읍면동       0\n",
       "상세주소    571\n",
       "회사명       0\n",
       "공장규모      0\n",
       "업종명       0\n",
       "전체주소      0\n",
       "dtype: int64"
      ]
     },
     "execution_count": 285,
     "metadata": {},
     "output_type": "execute_result"
    }
   ],
   "source": [
    "data.isna().sum()"
   ]
  },
  {
   "cell_type": "markdown",
   "metadata": {},
   "source": [
    "## 네이버 지도 API 좌표"
   ]
  },
  {
   "cell_type": "code",
   "execution_count": 283,
   "metadata": {},
   "outputs": [],
   "source": [
    "data=data[[\"시도\",\"시군구\",\"읍면동\",\"상세주소\",\"회사명\",\"공장규모\",\"업종명\",\"전체주소\"]]"
   ]
  },
  {
   "cell_type": "code",
   "execution_count": 284,
   "metadata": {},
   "outputs": [
    {
     "name": "stdout",
     "output_type": "stream",
     "text": [
      "             시도  시군구  읍면동          상세주소          회사명 공장규모  \\\n",
      "0         서울특별시  종로구  창성동        87-1번지     남일문화 (주)  소기업   \n",
      "1         서울특별시  종로구  통의동       35-69번지    (주)에취.알.디  소기업   \n",
      "2         서울특별시  종로구  통의동        35-6번지  (주)코리아쉬핑가제트  소기업   \n",
      "3         서울특별시  종로구  적선동       107-1번지         삼영DP  소기업   \n",
      "4         서울특별시  종로구  적선동        20-0번지        중앙인쇄사  소기업   \n",
      "...         ...  ...  ...           ...          ...  ...   \n",
      "217103  전북특별자치도  부안군  줄포면  장동리 741-15번지   제이페이퍼 주식회사  소기업   \n",
      "217104  전북특별자치도  부안군  줄포면  신리 352-59 번지  유한회사 줄포하늘수산  소기업   \n",
      "217105  전북특별자치도  부안군  줄포면   파산리 756-6번지    남부안농업협동조합  소기업   \n",
      "217106  전북특별자치도  부안군  줄포면   대동리 10-14번지        지산정미소  소기업   \n",
      "217107  전북특별자치도  부안군  위도면    식도리 1-24번지         금영수산  소기업   \n",
      "\n",
      "                             업종명                          전체주소    Latitude  \\\n",
      "0                    경 인쇄업 외 2 종          서울특별시 종로구 창성동 87-1번지  37.5814832   \n",
      "1                     전시용 모형 제조업         서울특별시 종로구 통의동 35-69번지  37.5780443   \n",
      "2                일반 서적 출판업 외 3 종          서울특별시 종로구 통의동 35-6번지  37.5766918   \n",
      "3                    경 인쇄업 외 2 종         서울특별시 종로구 적선동 107-1번지  37.5761706   \n",
      "4                   기타 인쇄업 외 1 종          서울특별시 종로구 적선동 20-0번지  37.5763827   \n",
      "...                          ...                           ...         ...   \n",
      "217103      기타 종이 및 판지 제조업 외 2 종  전북특별자치도 부안군 줄포면 장동리 741-15번지  35.6011356   \n",
      "217104              수산동물 냉동품 제조업  전북특별자치도 부안군 줄포면 신리 352-59 번지  35.5904010   \n",
      "217105  복합비료 및 기타 화학비료 제조업 외 1 종   전북특별자치도 부안군 줄포면 파산리 756-6번지  35.5946580   \n",
      "217106                    곡물 도정업   전북특별자치도 부안군 줄포면 대동리 10-14번지  35.6154107   \n",
      "217107         수산동물 건조 및 염장품 제조업    전북특별자치도 부안군 위도면 식도리 1-24번지  35.6265089   \n",
      "\n",
      "          Longitude  \n",
      "0       126.9719006  \n",
      "1       126.9728080  \n",
      "2       126.9733081  \n",
      "3       126.9728717  \n",
      "4       126.9736793  \n",
      "...             ...  \n",
      "217103  126.6732609  \n",
      "217104  126.7055662  \n",
      "217105  126.7037491  \n",
      "217106  126.7207811  \n",
      "217107  126.2891135  \n",
      "\n",
      "[217108 rows x 10 columns]\n"
     ]
    }
   ],
   "source": [
    "# 기존 DataFrame의 '전체주소' 컬럼을 리스트로 변환\n",
    "addresses = data['전체주소'].tolist()\n",
    "\n",
    "# ThreadPoolExecutor를 이용해 동시 실행\n",
    "with ThreadPoolExecutor(max_workers=100) as executor:\n",
    "    results = list(executor.map(get_coordinates_from_address, addresses))\n",
    "\n",
    "# 결과를 DataFrame으로 변환 후 기존 DataFrame과 결합\n",
    "df_coordinates = pd.DataFrame(results)\n",
    "df_final = pd.concat([data.reset_index(drop=True), df_coordinates], axis=1)\n",
    "print(df_final)"
   ]
  },
  {
   "cell_type": "code",
   "execution_count": 286,
   "metadata": {},
   "outputs": [
    {
     "data": {
      "text/plain": [
       "시도              0\n",
       "시군구             0\n",
       "읍면동             0\n",
       "상세주소          571\n",
       "회사명             0\n",
       "공장규모            0\n",
       "업종명             0\n",
       "전체주소            0\n",
       "Latitude     1744\n",
       "Longitude    1744\n",
       "dtype: int64"
      ]
     },
     "execution_count": 286,
     "metadata": {},
     "output_type": "execute_result"
    }
   ],
   "source": [
    "df_final.isna().sum()"
   ]
  },
  {
   "cell_type": "markdown",
   "metadata": {},
   "source": [
    "결측치가 생긴 좌표는 제거하자"
   ]
  },
  {
   "cell_type": "code",
   "execution_count": 287,
   "metadata": {},
   "outputs": [],
   "source": [
    "df_final.dropna(subset=[\"Latitude\"], inplace=True)"
   ]
  },
  {
   "cell_type": "code",
   "execution_count": 288,
   "metadata": {},
   "outputs": [
    {
     "data": {
      "text/plain": [
       "시도             0\n",
       "시군구            0\n",
       "읍면동            0\n",
       "상세주소         569\n",
       "회사명            0\n",
       "공장규모           0\n",
       "업종명            0\n",
       "전체주소           0\n",
       "Latitude       0\n",
       "Longitude      0\n",
       "dtype: int64"
      ]
     },
     "execution_count": 288,
     "metadata": {},
     "output_type": "execute_result"
    }
   ],
   "source": [
    "df_final.isna().sum()"
   ]
  },
  {
   "cell_type": "markdown",
   "metadata": {},
   "source": [
    "## 전처리 마무리"
   ]
  },
  {
   "cell_type": "code",
   "execution_count": 289,
   "metadata": {},
   "outputs": [],
   "source": [
    "df_final[[\"Latitude\",\"Longitude\"]]=df_final[[\"Latitude\",\"Longitude\"]].apply(pd.to_numeric, errors='coerce')"
   ]
  },
  {
   "cell_type": "code",
   "execution_count": 290,
   "metadata": {},
   "outputs": [],
   "source": [
    "df_final.drop(columns=[\"전체주소\"], axis=1, inplace=True)"
   ]
  },
  {
   "cell_type": "code",
   "execution_count": 291,
   "metadata": {},
   "outputs": [],
   "source": [
    "df_final.columns=[\"County\",\"City\",\"Town\",\"Address\",\"Factory_Name\",\"Factory_Size\",\"Industry_Type\",\"Latitude\",\"Longitude\"]"
   ]
  },
  {
   "cell_type": "code",
   "execution_count": null,
   "metadata": {},
   "outputs": [],
   "source": [
    "df_final.to_csv(\"결과데이터/전국공장정보_2025.csv\", index=False, encoding=\"utf-8-sig\")"
   ]
  },
  {
   "cell_type": "markdown",
   "metadata": {},
   "source": [
    "# 18. 전국 농산물 직거래 판매장 정보"
   ]
  },
  {
   "cell_type": "code",
   "execution_count": null,
   "metadata": {},
   "outputs": [
    {
     "data": {
      "text/html": [
       "<div>\n",
       "<style scoped>\n",
       "    .dataframe tbody tr th:only-of-type {\n",
       "        vertical-align: middle;\n",
       "    }\n",
       "\n",
       "    .dataframe tbody tr th {\n",
       "        vertical-align: top;\n",
       "    }\n",
       "\n",
       "    .dataframe thead th {\n",
       "        text-align: right;\n",
       "    }\n",
       "</style>\n",
       "<table border=\"1\" class=\"dataframe\">\n",
       "  <thead>\n",
       "    <tr style=\"text-align: right;\">\n",
       "      <th></th>\n",
       "      <th>판매장 이름</th>\n",
       "      <th>주소</th>\n",
       "    </tr>\n",
       "  </thead>\n",
       "  <tbody>\n",
       "    <tr>\n",
       "      <th>0</th>\n",
       "      <td>대전로컬푸드라온아띠협동조합</td>\n",
       "      <td>대전 서구 남선로 66</td>\n",
       "    </tr>\n",
       "  </tbody>\n",
       "</table>\n",
       "</div>"
      ],
      "text/plain": [
       "           판매장 이름            주소\n",
       "0  대전로컬푸드라온아띠협동조합  대전 서구 남선로 66"
      ]
     },
     "execution_count": 44,
     "metadata": {},
     "output_type": "execute_result"
    }
   ],
   "source": [
    "data=pd.read_csv(\"원본데이터/한국농수산식품유통공사_농산물 직거래 판매장 정보_20240812.csv\", encoding=\"cp949\")\n",
    "data=data[[\"판매장 이름\", \"주소\"]]\n",
    "data.head(1)"
   ]
  },
  {
   "cell_type": "markdown",
   "metadata": {},
   "source": [
    "## 주소 분할"
   ]
  },
  {
   "cell_type": "code",
   "execution_count": 45,
   "metadata": {},
   "outputs": [
    {
     "data": {
      "text/plain": [
       "array(['대전', '전북', '경남', '광주', '경기도남양주시', '경기도', '충남', '전남', '경북', '강원도',\n",
       "       '청주시', '제주특별자치도', '강원', '충북', '경기', '전라남도', '충청북도', '대구', '진주시',\n",
       "       '경상북도', '안성시', '서울', '부산', '울산', '세종특별자치시', '대구광역시', '전라북도',\n",
       "       '울산광역시', '목포시', '인천광역시'], dtype=object)"
      ]
     },
     "execution_count": 45,
     "metadata": {},
     "output_type": "execute_result"
    }
   ],
   "source": [
    "data[[\"County\", \"City\", \"Address\"]] = data[\"주소\"].apply(split_full_address_3)\n",
    "data.County.unique()"
   ]
  },
  {
   "cell_type": "code",
   "execution_count": 46,
   "metadata": {},
   "outputs": [
    {
     "data": {
      "text/plain": [
       "판매장 이름     0\n",
       "주소         0\n",
       "County     0\n",
       "City       0\n",
       "Address    0\n",
       "dtype: int64"
      ]
     },
     "execution_count": 46,
     "metadata": {},
     "output_type": "execute_result"
    }
   ],
   "source": [
    "data.isna().sum()"
   ]
  },
  {
   "cell_type": "markdown",
   "metadata": {},
   "source": [
    "주소에 오류가 있는 것을 고치자"
   ]
  },
  {
   "cell_type": "code",
   "execution_count": 48,
   "metadata": {},
   "outputs": [],
   "source": [
    "data.replace({\"County\": {\"대전\": \"대전광역시\"}}, inplace=True)\n",
    "data.replace({\"County\": {\"전북\": \"전라북도\"}}, inplace=True)\n",
    "data.replace({\"County\": {\"경남\": \"경상남도\"}}, inplace=True)\n",
    "data.replace({\"County\": {\"광주\": \"광주광역시\"}}, inplace=True)\n",
    "data.replace({\"County\": {\"경기도남양주시\": \"경기도 남양주시\"}}, inplace=True)\n",
    "data.replace({\"County\": {\"충남\": \"충청남도\"}}, inplace=True)\n",
    "data.replace({\"County\": {\"전남\": \"전라남도\"}}, inplace=True)\n",
    "data.replace({\"County\": {\"경북\": \"경상북도\"}}, inplace=True)\n",
    "data.replace({\"County\": {\"청주시\": \"충청북도 청주시\"}}, inplace=True)\n",
    "data.replace({\"County\": {\"강원\": \"강원도\"}}, inplace=True)\n",
    "data.replace({\"County\": {\"충북\": \"충청북도\"}}, inplace=True)\n",
    "data.replace({\"County\": {\"경기\": \"경기도\"}}, inplace=True)\n",
    "data.replace({\"County\": {\"대구\": \"대구광역시\"}}, inplace=True)\n",
    "data.replace({\"County\": {\"진주시\": \"경상남도 진주시\"}}, inplace=True)\n",
    "data.replace({\"County\": {\"안성시\": \"경기도 안성시\"}}, inplace=True)\n",
    "data.replace({\"County\": {\"서울\": \"서울특별시\"}}, inplace=True)\n",
    "data.replace({\"County\": {\"부산\": \"부산광역시\"}}, inplace=True)\n",
    "data.replace({\"County\": {\"울산\": \"울산광역시\"}}, inplace=True)\n",
    "data.replace({\"County\": {\"목포시\": \"전라남도 목포시\"}}, inplace=True)"
   ]
  },
  {
   "cell_type": "markdown",
   "metadata": {},
   "source": [
    "다시 합치고 재분할"
   ]
  },
  {
   "cell_type": "code",
   "execution_count": 49,
   "metadata": {},
   "outputs": [],
   "source": [
    "data[\"주소\"]=data[\"County\"]+\" \"+data[\"City\"]+\" \"+data[\"Address\"].fillna(\"\")\n",
    "data[[\"County\", \"City\", \"Address\"]] = data[\"주소\"].apply(split_full_address_3)"
   ]
  },
  {
   "cell_type": "code",
   "execution_count": 50,
   "metadata": {},
   "outputs": [
    {
     "data": {
      "text/plain": [
       "array(['대전광역시', '전라북도', '경상남도', '광주광역시', '경기도', '충청남도', '전라남도', '경상북도',\n",
       "       '강원도', '충청북도', '제주특별자치도', '대구광역시', '서울특별시', '부산광역시', '울산광역시',\n",
       "       '세종특별자치시', '인천광역시'], dtype=object)"
      ]
     },
     "execution_count": 50,
     "metadata": {},
     "output_type": "execute_result"
    }
   ],
   "source": [
    "data.County.unique()"
   ]
  },
  {
   "cell_type": "code",
   "execution_count": 51,
   "metadata": {},
   "outputs": [
    {
     "data": {
      "text/plain": [
       "판매장 이름     0\n",
       "주소         0\n",
       "County     0\n",
       "City       0\n",
       "Address    0\n",
       "dtype: int64"
      ]
     },
     "execution_count": 51,
     "metadata": {},
     "output_type": "execute_result"
    }
   ],
   "source": [
    "data.isna().sum()"
   ]
  },
  {
   "cell_type": "markdown",
   "metadata": {},
   "source": [
    "## 네이버 지도 API 좌표"
   ]
  },
  {
   "cell_type": "code",
   "execution_count": 52,
   "metadata": {},
   "outputs": [
    {
     "name": "stdout",
     "output_type": "stream",
     "text": [
      "                    판매장 이름                         주소   County  City  \\\n",
      "0           대전로컬푸드라온아띠협동조합            대전광역시 서구 남선로 66    대전광역시    서구   \n",
      "1             고모네장터로컬푸드직매장       전라북도 정읍시 북면 정읍북로 603     전라북도   정읍시   \n",
      "2    진주우리먹거리협동조합 진주텃밭(금산점)      경상남도 진주시 금산면 금산순환로 61     경상남도   진주시   \n",
      "3         광주농협 로컬푸드직매장 매곡점            광주광역시 북구 매곡로 50    광주광역시    북구   \n",
      "4            진접농협 로컬푸드 직매장      경기도 남양주시 진접읍 해밀예당1로 8      경기도  남양주시   \n",
      "..                     ...                        ...      ...   ...   \n",
      "237                올바른농민상회  제주특별자치도 제주시 애월읍 일주서로 6585  제주특별자치도   제주시   \n",
      "238       양남농협하나로마트로컬푸드판매장     경상북도 경주시 양남면 해변공원길 103     경상북도   경주시   \n",
      "239    대전 충청 한밭가득 로컬푸드 직매장           대전광역시 서구 계룡로 598    대전광역시    서구   \n",
      "240           반월농협 로컬푸드직매장     경기도 안산시 상록구 해안로 1190-1      경기도   안산시   \n",
      "241         봉산농협 쌍교로컬푸드직매장      전라남도 담양군 봉산면 송강정로 208     전라남도   담양군   \n",
      "\n",
      "            Address    Latitude    Longitude  \n",
      "0            남선로 66  36.3452575  127.3966837  \n",
      "1       북면 정읍북로 603  35.6118256  126.8920163  \n",
      "2      금산면 금산순환로 61  35.2194250  128.1493373  \n",
      "3            매곡로 50  35.1893477  126.8939953  \n",
      "4      진접읍 해밀예당1로 8  37.7097670  127.1850570  \n",
      "..              ...         ...          ...  \n",
      "237   애월읍 일주서로 6585  33.4676617  126.3565539  \n",
      "238   양남면 해변공원길 103  35.6772948  129.4624461  \n",
      "239         계룡로 598  36.3406299  127.3895541  \n",
      "240  상록구 해안로 1190-1  37.2892477  126.8735530  \n",
      "241    봉산면 송강정로 208  35.2531392  126.9517878  \n",
      "\n",
      "[242 rows x 7 columns]\n"
     ]
    }
   ],
   "source": [
    "#주소 칼럼 입력\n",
    "addresses = data['주소'].tolist()\n",
    "\n",
    "# ThreadPoolExecutor를 이용해 동시 실행\n",
    "##하나씩 실행하면 느리다\n",
    "with ThreadPoolExecutor(max_workers=100) as executor: #한번에 100개\n",
    "    results = list(executor.map(get_coordinates_from_address, addresses))\n",
    "\n",
    "# 결과를 DataFrame으로 변환 후 기존 DataFrame과 결합\n",
    "df_coordinates = pd.DataFrame(results)\n",
    "df_final = pd.concat([data.reset_index(drop=True), df_coordinates], axis=1)\n",
    "print(df_final)"
   ]
  },
  {
   "cell_type": "code",
   "execution_count": 53,
   "metadata": {},
   "outputs": [
    {
     "data": {
      "text/plain": [
       "판매장 이름       0\n",
       "주소           0\n",
       "County       0\n",
       "City         0\n",
       "Address      0\n",
       "Latitude     3\n",
       "Longitude    3\n",
       "dtype: int64"
      ]
     },
     "execution_count": 53,
     "metadata": {},
     "output_type": "execute_result"
    }
   ],
   "source": [
    "df_final.isna().sum()"
   ]
  },
  {
   "cell_type": "markdown",
   "metadata": {},
   "source": [
    "좌표에 오류난 건 수작업으로 기입하자"
   ]
  },
  {
   "cell_type": "code",
   "execution_count": 54,
   "metadata": {},
   "outputs": [
    {
     "data": {
      "text/plain": [
       "판매장 이름        object\n",
       "주소            object\n",
       "County        object\n",
       "City          object\n",
       "Address       object\n",
       "Latitude     float64\n",
       "Longitude    float64\n",
       "dtype: object"
      ]
     },
     "execution_count": 54,
     "metadata": {},
     "output_type": "execute_result"
    }
   ],
   "source": [
    "df_final[[\"Latitude\",\"Longitude\"]]=df_final[[\"Latitude\",\"Longitude\"]].apply(pd.to_numeric, errors='coerce')\n",
    "df_final.dtypes"
   ]
  },
  {
   "cell_type": "code",
   "execution_count": 58,
   "metadata": {},
   "outputs": [
    {
     "data": {
      "text/html": [
       "<div>\n",
       "<style scoped>\n",
       "    .dataframe tbody tr th:only-of-type {\n",
       "        vertical-align: middle;\n",
       "    }\n",
       "\n",
       "    .dataframe tbody tr th {\n",
       "        vertical-align: top;\n",
       "    }\n",
       "\n",
       "    .dataframe thead th {\n",
       "        text-align: right;\n",
       "    }\n",
       "</style>\n",
       "<table border=\"1\" class=\"dataframe\">\n",
       "  <thead>\n",
       "    <tr style=\"text-align: right;\">\n",
       "      <th></th>\n",
       "      <th>판매장 이름</th>\n",
       "      <th>주소</th>\n",
       "      <th>County</th>\n",
       "      <th>City</th>\n",
       "      <th>Address</th>\n",
       "      <th>Latitude</th>\n",
       "      <th>Longitude</th>\n",
       "    </tr>\n",
       "  </thead>\n",
       "  <tbody>\n",
       "    <tr>\n",
       "      <th>5</th>\n",
       "      <td>협동조합 함박꽃웃음</td>\n",
       "      <td>경기도 의왕시 651-13</td>\n",
       "      <td>경기도</td>\n",
       "      <td>의왕시</td>\n",
       "      <td>651-13</td>\n",
       "      <td>NaN</td>\n",
       "      <td>NaN</td>\n",
       "    </tr>\n",
       "    <tr>\n",
       "      <th>92</th>\n",
       "      <td>화성로컬푸드직매장 금곡점</td>\n",
       "      <td>경기도 화성시 동탄면 금곡로 203</td>\n",
       "      <td>경기도</td>\n",
       "      <td>화성시</td>\n",
       "      <td>동탄면 금곡로 203</td>\n",
       "      <td>NaN</td>\n",
       "      <td>NaN</td>\n",
       "    </tr>\n",
       "    <tr>\n",
       "      <th>145</th>\n",
       "      <td>경주농특산물판매장 신경주역점</td>\n",
       "      <td>경상북도 경주시 건천읍 신경주역로 80</td>\n",
       "      <td>경상북도</td>\n",
       "      <td>경주시</td>\n",
       "      <td>건천읍 신경주역로 80</td>\n",
       "      <td>NaN</td>\n",
       "      <td>NaN</td>\n",
       "    </tr>\n",
       "  </tbody>\n",
       "</table>\n",
       "</div>"
      ],
      "text/plain": [
       "              판매장 이름                     주소 County City       Address  \\\n",
       "5         협동조합 함박꽃웃음         경기도 의왕시 651-13    경기도  의왕시        651-13   \n",
       "92     화성로컬푸드직매장 금곡점    경기도 화성시 동탄면 금곡로 203    경기도  화성시   동탄면 금곡로 203   \n",
       "145  경주농특산물판매장 신경주역점  경상북도 경주시 건천읍 신경주역로 80   경상북도  경주시  건천읍 신경주역로 80   \n",
       "\n",
       "     Latitude  Longitude  \n",
       "5         NaN        NaN  \n",
       "92        NaN        NaN  \n",
       "145       NaN        NaN  "
      ]
     },
     "execution_count": 58,
     "metadata": {},
     "output_type": "execute_result"
    }
   ],
   "source": [
    "df_final[df_final[\"Latitude\"].isna()|df_final[\"Longitude\"].isna()]"
   ]
  },
  {
   "cell_type": "code",
   "execution_count": 59,
   "metadata": {},
   "outputs": [],
   "source": [
    "df_final.loc[5, [\"Latitude\",\"Longitude\"]]=[37.387711, 126.993689]\n",
    "df_final.loc[92, [\"Latitude\",\"Longitude\"]]=[37.178433, 127.079047]\n",
    "df_final.loc[145, [\"Latitude\",\"Longitude\"]]=[35.799627, 129.140294]\n"
   ]
  },
  {
   "cell_type": "code",
   "execution_count": 60,
   "metadata": {},
   "outputs": [
    {
     "data": {
      "text/plain": [
       "판매장 이름       0\n",
       "주소           0\n",
       "County       0\n",
       "City         0\n",
       "Address      0\n",
       "Latitude     0\n",
       "Longitude    0\n",
       "dtype: int64"
      ]
     },
     "execution_count": 60,
     "metadata": {},
     "output_type": "execute_result"
    }
   ],
   "source": [
    "df_final.isna().sum()"
   ]
  },
  {
   "cell_type": "markdown",
   "metadata": {},
   "source": [
    "## 마무리 전처리 후 저장"
   ]
  },
  {
   "cell_type": "code",
   "execution_count": 61,
   "metadata": {},
   "outputs": [],
   "source": [
    "df_final.rename(columns={\"판매장 이름\":\"Local_Store_Name\"}, inplace=True)\n",
    "df_final.drop(columns=[\"주소\"], axis=1, inplace=True)"
   ]
  },
  {
   "cell_type": "code",
   "execution_count": null,
   "metadata": {},
   "outputs": [],
   "source": [
    "df_final.to_csv(\"결과데이터/전국농산물직거래판매장정보.csv\", index=False, encoding=\"cp949\")"
   ]
  },
  {
   "cell_type": "markdown",
   "metadata": {},
   "source": [
    "# 24. 전국 **공시지가, 실거래가** 정보"
   ]
  },
  {
   "cell_type": "markdown",
   "metadata": {},
   "source": [
    "주소의 최소단위 - 같은 읍면동(리)에서의 공시지가, 실거래가의 평균을 구하자"
   ]
  },
  {
   "cell_type": "markdown",
   "metadata": {},
   "source": [
    "## 1) 공시지가"
   ]
  },
  {
   "cell_type": "code",
   "execution_count": null,
   "metadata": {},
   "outputs": [
    {
     "data": {
      "text/html": [
       "<div>\n",
       "<style scoped>\n",
       "    .dataframe tbody tr th:only-of-type {\n",
       "        vertical-align: middle;\n",
       "    }\n",
       "\n",
       "    .dataframe tbody tr th {\n",
       "        vertical-align: top;\n",
       "    }\n",
       "\n",
       "    .dataframe thead th {\n",
       "        text-align: right;\n",
       "    }\n",
       "</style>\n",
       "<table border=\"1\" class=\"dataframe\">\n",
       "  <thead>\n",
       "    <tr style=\"text-align: right;\">\n",
       "      <th></th>\n",
       "      <th>법정동명</th>\n",
       "      <th>지번</th>\n",
       "      <th>공시지가</th>\n",
       "    </tr>\n",
       "  </thead>\n",
       "  <tbody>\n",
       "    <tr>\n",
       "      <th>0</th>\n",
       "      <td>서울특별시 종로구 청운동</td>\n",
       "      <td>1</td>\n",
       "      <td>5150000</td>\n",
       "    </tr>\n",
       "  </tbody>\n",
       "</table>\n",
       "</div>"
      ],
      "text/plain": [
       "            법정동명 지번     공시지가\n",
       "0  서울특별시 종로구 청운동  1  5150000"
      ]
     },
     "execution_count": 2,
     "metadata": {},
     "output_type": "execute_result"
    }
   ],
   "source": [
    "data1=pd.read_csv(\"원본데이터/appraised_value_of_land.csv\",encoding='EUC-KR')\n",
    "data1.head(1)"
   ]
  },
  {
   "cell_type": "code",
   "execution_count": 3,
   "metadata": {},
   "outputs": [
    {
     "data": {
      "text/plain": [
       "법정동명    0\n",
       "지번      1\n",
       "공시지가    0\n",
       "dtype: int64"
      ]
     },
     "execution_count": 3,
     "metadata": {},
     "output_type": "execute_result"
    }
   ],
   "source": [
    "data1.isna().sum()"
   ]
  },
  {
   "cell_type": "code",
   "execution_count": 4,
   "metadata": {},
   "outputs": [
    {
     "data": {
      "text/plain": [
       "법정동명    object\n",
       "지번      object\n",
       "공시지가     int64\n",
       "dtype: object"
      ]
     },
     "execution_count": 4,
     "metadata": {},
     "output_type": "execute_result"
    }
   ],
   "source": [
    "data1.dtypes"
   ]
  },
  {
   "cell_type": "code",
   "execution_count": 5,
   "metadata": {},
   "outputs": [
    {
     "data": {
      "text/plain": [
       "법정동명                 지번   \n",
       "전라남도 구례군 용방면 신지리     3        4\n",
       "전북특별자치도 진안군 부귀면 수항리  157      4\n",
       "충청남도 부여군 은산면 나령리     14-1     4\n",
       "경기도 하남시 감이동          5-1      4\n",
       "경기도 남양주시 조안면 능내리     12-22    4\n",
       "                             ..\n",
       "경상북도 경산시 내동          211      1\n",
       "                     210      1\n",
       "                     21       1\n",
       "                     209-2    1\n",
       "충청북도 충주시 호암동         999      1\n",
       "Name: count, Length: 34456936, dtype: int64"
      ]
     },
     "execution_count": 5,
     "metadata": {},
     "output_type": "execute_result"
    }
   ],
   "source": [
    "data1[[\"법정동명\",\"지번\"]].value_counts()"
   ]
  },
  {
   "cell_type": "markdown",
   "metadata": {},
   "source": [
    "같은 주소, 번지수가 있는게 있다 (호수는 다를 수 있다)  \n",
    "획일적인 분석을 위해 하나로 통합하자.  \n",
    "이때 공시지가는 평균을 낸다"
   ]
  },
  {
   "cell_type": "code",
   "execution_count": 6,
   "metadata": {},
   "outputs": [],
   "source": [
    "data1=data1.groupby([\"법정동명\", \"지번\"], as_index=False)[\"공시지가\"].mean()"
   ]
  },
  {
   "cell_type": "markdown",
   "metadata": {},
   "source": [
    "## 2) 실거래가"
   ]
  },
  {
   "cell_type": "code",
   "execution_count": null,
   "metadata": {},
   "outputs": [
    {
     "data": {
      "text/html": [
       "<div>\n",
       "<style scoped>\n",
       "    .dataframe tbody tr th:only-of-type {\n",
       "        vertical-align: middle;\n",
       "    }\n",
       "\n",
       "    .dataframe tbody tr th {\n",
       "        vertical-align: top;\n",
       "    }\n",
       "\n",
       "    .dataframe thead th {\n",
       "        text-align: right;\n",
       "    }\n",
       "</style>\n",
       "<table border=\"1\" class=\"dataframe\">\n",
       "  <thead>\n",
       "    <tr style=\"text-align: right;\">\n",
       "      <th></th>\n",
       "      <th>시군구</th>\n",
       "      <th>번지</th>\n",
       "      <th>거래금액(만원)</th>\n",
       "      <th>주택 유형</th>\n",
       "    </tr>\n",
       "  </thead>\n",
       "  <tbody>\n",
       "    <tr>\n",
       "      <th>0</th>\n",
       "      <td>부산광역시 부산진구 양정동</td>\n",
       "      <td>458-20</td>\n",
       "      <td>35,500</td>\n",
       "      <td>아파트</td>\n",
       "    </tr>\n",
       "  </tbody>\n",
       "</table>\n",
       "</div>"
      ],
      "text/plain": [
       "              시군구      번지 거래금액(만원) 주택 유형\n",
       "0  부산광역시 부산진구 양정동  458-20   35,500   아파트"
      ]
     },
     "execution_count": 40,
     "metadata": {},
     "output_type": "execute_result"
    }
   ],
   "source": [
    "data2=pd.read_csv(\"원본데이터/actual_transaction_price.csv\",encoding='EUC-KR')\n",
    "data2.head(1)"
   ]
  },
  {
   "cell_type": "code",
   "execution_count": 41,
   "metadata": {},
   "outputs": [
    {
     "data": {
      "text/plain": [
       "시군구         0\n",
       "번지          2\n",
       "거래금액(만원)    0\n",
       "주택 유형       0\n",
       "dtype: int64"
      ]
     },
     "execution_count": 41,
     "metadata": {},
     "output_type": "execute_result"
    }
   ],
   "source": [
    "data2.isna().sum()"
   ]
  },
  {
   "cell_type": "code",
   "execution_count": 42,
   "metadata": {},
   "outputs": [
    {
     "data": {
      "text/plain": [
       "시군구         object\n",
       "번지          object\n",
       "거래금액(만원)    object\n",
       "주택 유형       object\n",
       "dtype: object"
      ]
     },
     "execution_count": 42,
     "metadata": {},
     "output_type": "execute_result"
    }
   ],
   "source": [
    "data2.dtypes"
   ]
  },
  {
   "cell_type": "markdown",
   "metadata": {},
   "source": [
    "거래금액(만원)이 문자열이므로 이를 숫자형으로 바꿔준다.  \n",
    "이때 쉼표로 인해 전처리 과정이 필요하다"
   ]
  },
  {
   "cell_type": "code",
   "execution_count": 43,
   "metadata": {},
   "outputs": [
    {
     "data": {
      "text/plain": [
       "시군구          object\n",
       "번지           object\n",
       "거래금액(만원)    float64\n",
       "주택 유형        object\n",
       "dtype: object"
      ]
     },
     "execution_count": 43,
     "metadata": {},
     "output_type": "execute_result"
    }
   ],
   "source": [
    "data2[\"거래금액(만원)\"] = data2[\"거래금액(만원)\"].str.replace(\",\", \"\", regex=False).astype(float)\n",
    "data2.dtypes"
   ]
  },
  {
   "cell_type": "markdown",
   "metadata": {},
   "source": [
    "## 3) 공시지가, 실거래가 합치기"
   ]
  },
  {
   "cell_type": "markdown",
   "metadata": {},
   "source": [
    "### i. 주소 분할 (주소의 오류를 줄이기 위해)"
   ]
  },
  {
   "cell_type": "markdown",
   "metadata": {},
   "source": [
    "공시지가"
   ]
  },
  {
   "cell_type": "markdown",
   "metadata": {},
   "source": [
    "기존의 주소 분할 함수를 사용하면 너무 오래 걸린다.  \n",
    "따라서 고정적으로 4개로 분할하는 코드를 사용한다. (상세주소가 없는 경우이므로 가능하다)"
   ]
  },
  {
   "cell_type": "code",
   "execution_count": 11,
   "metadata": {},
   "outputs": [],
   "source": [
    "split_cols = data1[\"법정동명\"].astype(str).str.strip().str.split(n=3, expand=True) #빈칸 세개로 분할\n",
    "\n",
    "#데이터가 두개, 세개로 분할될경우 남는것에 결측치를 넣어줌\n",
    "for i in range(4 - split_cols.shape[1]):\n",
    "    split_cols[split_cols.shape[1] + i] = pd.NA\n",
    "    \n",
    "split_cols.columns = [\"County\", \"City\", \"Town\", \"Village\"]\n",
    "data1[[\"County\", \"City\", \"Town\", \"Village\"]] = split_cols"
   ]
  },
  {
   "cell_type": "code",
   "execution_count": 12,
   "metadata": {},
   "outputs": [
    {
     "data": {
      "text/plain": [
       "법정동명             0\n",
       "지번               0\n",
       "공시지가             0\n",
       "County           0\n",
       "City             0\n",
       "Town          5331\n",
       "Village    6105740\n",
       "dtype: int64"
      ]
     },
     "execution_count": 12,
     "metadata": {},
     "output_type": "execute_result"
    }
   ],
   "source": [
    "data1.isna().sum()"
   ]
  },
  {
   "cell_type": "code",
   "execution_count": 15,
   "metadata": {},
   "outputs": [
    {
     "data": {
      "text/plain": [
       "array(['세종특별자치시', '강원특별자치도', '경기도', '경상남도', '경상북도', '광주광역시', '대구광역시',\n",
       "       '대전광역시', '부산광역시', '서울특별시', '울산광역시', '인천광역시', '전라남도', '전북특별자치도',\n",
       "       '제주특별자치도', '충청남도', '충청북도'], dtype=object)"
      ]
     },
     "execution_count": 15,
     "metadata": {},
     "output_type": "execute_result"
    }
   ],
   "source": [
    "data1.County.unique()"
   ]
  },
  {
   "cell_type": "markdown",
   "metadata": {},
   "source": [
    "문제가 없어 보인다"
   ]
  },
  {
   "cell_type": "markdown",
   "metadata": {},
   "source": [
    "실거래가"
   ]
  },
  {
   "cell_type": "code",
   "execution_count": 44,
   "metadata": {},
   "outputs": [],
   "source": [
    "data2[[\"County\", \"City\", \"Town\", \"Village\"]] = data2[\"시군구\"].apply(split_full_address)"
   ]
  },
  {
   "cell_type": "code",
   "execution_count": 45,
   "metadata": {},
   "outputs": [
    {
     "data": {
      "text/plain": [
       "시군구              0\n",
       "번지               2\n",
       "거래금액(만원)         0\n",
       "주택 유형            0\n",
       "County           0\n",
       "City             0\n",
       "Town          3891\n",
       "Village     380427\n",
       "dtype: int64"
      ]
     },
     "execution_count": 45,
     "metadata": {},
     "output_type": "execute_result"
    }
   ],
   "source": [
    "data2.isna().sum()"
   ]
  },
  {
   "cell_type": "code",
   "execution_count": 46,
   "metadata": {},
   "outputs": [
    {
     "data": {
      "text/plain": [
       "array(['부산광역시', '인천광역시', '대구광역시', '서울특별시', '광주광역시', '경기도', '세종특별자치시',\n",
       "       '대전광역시', '울산광역시', '전북특별자치도', '경상남도', '강원특별자치도', '제주특별자치도', '전라남도',\n",
       "       '충청북도', '경상북도', '충청남도'], dtype=object)"
      ]
     },
     "execution_count": 46,
     "metadata": {},
     "output_type": "execute_result"
    }
   ],
   "source": [
    "data2.County.unique()"
   ]
  },
  {
   "cell_type": "code",
   "execution_count": 47,
   "metadata": {},
   "outputs": [
    {
     "data": {
      "text/html": [
       "<div>\n",
       "<style scoped>\n",
       "    .dataframe tbody tr th:only-of-type {\n",
       "        vertical-align: middle;\n",
       "    }\n",
       "\n",
       "    .dataframe tbody tr th {\n",
       "        vertical-align: top;\n",
       "    }\n",
       "\n",
       "    .dataframe thead th {\n",
       "        text-align: right;\n",
       "    }\n",
       "</style>\n",
       "<table border=\"1\" class=\"dataframe\">\n",
       "  <thead>\n",
       "    <tr style=\"text-align: right;\">\n",
       "      <th></th>\n",
       "      <th>시군구</th>\n",
       "      <th>번지</th>\n",
       "      <th>거래금액(만원)</th>\n",
       "      <th>주택 유형</th>\n",
       "      <th>County</th>\n",
       "      <th>City</th>\n",
       "      <th>Town</th>\n",
       "      <th>Village</th>\n",
       "    </tr>\n",
       "  </thead>\n",
       "  <tbody>\n",
       "    <tr>\n",
       "      <th>314</th>\n",
       "      <td>세종특별자치시  종촌동</td>\n",
       "      <td>697</td>\n",
       "      <td>65000.0</td>\n",
       "      <td>아파트</td>\n",
       "      <td>세종특별자치시</td>\n",
       "      <td>종촌동</td>\n",
       "      <td>&lt;NA&gt;</td>\n",
       "      <td>&lt;NA&gt;</td>\n",
       "    </tr>\n",
       "    <tr>\n",
       "      <th>315</th>\n",
       "      <td>세종특별자치시  종촌동</td>\n",
       "      <td>654</td>\n",
       "      <td>37500.0</td>\n",
       "      <td>아파트</td>\n",
       "      <td>세종특별자치시</td>\n",
       "      <td>종촌동</td>\n",
       "      <td>&lt;NA&gt;</td>\n",
       "      <td>&lt;NA&gt;</td>\n",
       "    </tr>\n",
       "    <tr>\n",
       "      <th>316</th>\n",
       "      <td>세종특별자치시  종촌동</td>\n",
       "      <td>654</td>\n",
       "      <td>37500.0</td>\n",
       "      <td>아파트</td>\n",
       "      <td>세종특별자치시</td>\n",
       "      <td>종촌동</td>\n",
       "      <td>&lt;NA&gt;</td>\n",
       "      <td>&lt;NA&gt;</td>\n",
       "    </tr>\n",
       "    <tr>\n",
       "      <th>319</th>\n",
       "      <td>세종특별자치시  종촌동</td>\n",
       "      <td>690</td>\n",
       "      <td>53000.0</td>\n",
       "      <td>아파트</td>\n",
       "      <td>세종특별자치시</td>\n",
       "      <td>종촌동</td>\n",
       "      <td>&lt;NA&gt;</td>\n",
       "      <td>&lt;NA&gt;</td>\n",
       "    </tr>\n",
       "    <tr>\n",
       "      <th>389</th>\n",
       "      <td>세종특별자치시  아름동</td>\n",
       "      <td>1282</td>\n",
       "      <td>54600.0</td>\n",
       "      <td>아파트</td>\n",
       "      <td>세종특별자치시</td>\n",
       "      <td>아름동</td>\n",
       "      <td>&lt;NA&gt;</td>\n",
       "      <td>&lt;NA&gt;</td>\n",
       "    </tr>\n",
       "  </tbody>\n",
       "</table>\n",
       "</div>"
      ],
      "text/plain": [
       "              시군구    번지  거래금액(만원) 주택 유형   County City  Town Village\n",
       "314  세종특별자치시  종촌동   697   65000.0   아파트  세종특별자치시  종촌동  <NA>    <NA>\n",
       "315  세종특별자치시  종촌동   654   37500.0   아파트  세종특별자치시  종촌동  <NA>    <NA>\n",
       "316  세종특별자치시  종촌동   654   37500.0   아파트  세종특별자치시  종촌동  <NA>    <NA>\n",
       "319  세종특별자치시  종촌동   690   53000.0   아파트  세종특별자치시  종촌동  <NA>    <NA>\n",
       "389  세종특별자치시  아름동  1282   54600.0   아파트  세종특별자치시  아름동  <NA>    <NA>"
      ]
     },
     "execution_count": 47,
     "metadata": {},
     "output_type": "execute_result"
    }
   ],
   "source": [
    "data2[data2.Town.isna()].head()"
   ]
  },
  {
   "cell_type": "markdown",
   "metadata": {},
   "source": [
    "오류가 없는 것 같다"
   ]
  },
  {
   "cell_type": "markdown",
   "metadata": {},
   "source": [
    "### ii. 같은 주소, 번지수끼리 공시지가, 실거래가 결합하기"
   ]
  },
  {
   "cell_type": "code",
   "execution_count": 48,
   "metadata": {},
   "outputs": [
    {
     "data": {
      "text/plain": [
       "array(['아파트', '연립/다세대', '단독/다가구'], dtype=object)"
      ]
     },
     "execution_count": 48,
     "metadata": {},
     "output_type": "execute_result"
    }
   ],
   "source": [
    "data2[\"주택 유형\"].unique()"
   ]
  },
  {
   "cell_type": "markdown",
   "metadata": {},
   "source": [
    "주택 유형이 '단독/다가구'인것의 번지수가 별표(*)로 검열되어있다.  \n",
    "따라서 이것들을 제외한것만 공시지가 데이터랑 결합한다"
   ]
  },
  {
   "cell_type": "code",
   "execution_count": 66,
   "metadata": {},
   "outputs": [],
   "source": [
    "data2_iso=data2[data2[\"주택 유형\"]==\"단독/다가구\"].copy()\n",
    "data2_apt=data2[data2[\"주택 유형\"].isin([\"아파트\",\"연립/다세대\"])].copy()"
   ]
  },
  {
   "cell_type": "code",
   "execution_count": 67,
   "metadata": {},
   "outputs": [
    {
     "name": "stdout",
     "output_type": "stream",
     "text": [
      "(597820, 8)\n",
      "(45062, 8)\n",
      "(552758, 8)\n"
     ]
    }
   ],
   "source": [
    "print(data2.shape)\n",
    "print(data2_iso.shape)\n",
    "print(data2_apt.shape)"
   ]
  },
  {
   "cell_type": "code",
   "execution_count": 68,
   "metadata": {},
   "outputs": [
    {
     "data": {
      "text/html": [
       "<div>\n",
       "<style scoped>\n",
       "    .dataframe tbody tr th:only-of-type {\n",
       "        vertical-align: middle;\n",
       "    }\n",
       "\n",
       "    .dataframe tbody tr th {\n",
       "        vertical-align: top;\n",
       "    }\n",
       "\n",
       "    .dataframe thead th {\n",
       "        text-align: right;\n",
       "    }\n",
       "</style>\n",
       "<table border=\"1\" class=\"dataframe\">\n",
       "  <thead>\n",
       "    <tr style=\"text-align: right;\">\n",
       "      <th></th>\n",
       "      <th>시군구</th>\n",
       "      <th>번지</th>\n",
       "      <th>거래금액(만원)</th>\n",
       "      <th>주택 유형</th>\n",
       "      <th>County</th>\n",
       "      <th>City</th>\n",
       "      <th>Town</th>\n",
       "      <th>Village</th>\n",
       "    </tr>\n",
       "  </thead>\n",
       "  <tbody>\n",
       "    <tr>\n",
       "      <th>552758</th>\n",
       "      <td>전북특별자치도 고창군 신림면 법지리</td>\n",
       "      <td>3**</td>\n",
       "      <td>16300.0</td>\n",
       "      <td>단독/다가구</td>\n",
       "      <td>전북특별자치도</td>\n",
       "      <td>고창군</td>\n",
       "      <td>신림면</td>\n",
       "      <td>법지리</td>\n",
       "    </tr>\n",
       "    <tr>\n",
       "      <th>552759</th>\n",
       "      <td>경상남도 합천군 초계면 대동리</td>\n",
       "      <td>2**</td>\n",
       "      <td>2500.0</td>\n",
       "      <td>단독/다가구</td>\n",
       "      <td>경상남도</td>\n",
       "      <td>합천군</td>\n",
       "      <td>초계면</td>\n",
       "      <td>대동리</td>\n",
       "    </tr>\n",
       "    <tr>\n",
       "      <th>552760</th>\n",
       "      <td>경상남도 창원시 마산회원구 회성동</td>\n",
       "      <td>4**</td>\n",
       "      <td>8800.0</td>\n",
       "      <td>단독/다가구</td>\n",
       "      <td>경상남도</td>\n",
       "      <td>창원시</td>\n",
       "      <td>마산회원구</td>\n",
       "      <td>회성동</td>\n",
       "    </tr>\n",
       "    <tr>\n",
       "      <th>552761</th>\n",
       "      <td>경상북도 영덕군 축산면 경정리</td>\n",
       "      <td>3**</td>\n",
       "      <td>1650.0</td>\n",
       "      <td>단독/다가구</td>\n",
       "      <td>경상북도</td>\n",
       "      <td>영덕군</td>\n",
       "      <td>축산면</td>\n",
       "      <td>경정리</td>\n",
       "    </tr>\n",
       "    <tr>\n",
       "      <th>552762</th>\n",
       "      <td>경상북도 상주시 모동면 신흥리</td>\n",
       "      <td>1**</td>\n",
       "      <td>5800.0</td>\n",
       "      <td>단독/다가구</td>\n",
       "      <td>경상북도</td>\n",
       "      <td>상주시</td>\n",
       "      <td>모동면</td>\n",
       "      <td>신흥리</td>\n",
       "    </tr>\n",
       "  </tbody>\n",
       "</table>\n",
       "</div>"
      ],
      "text/plain": [
       "                        시군구   번지  거래금액(만원)   주택 유형   County City   Town  \\\n",
       "552758  전북특별자치도 고창군 신림면 법지리  3**   16300.0  단독/다가구  전북특별자치도  고창군    신림면   \n",
       "552759     경상남도 합천군 초계면 대동리  2**    2500.0  단독/다가구     경상남도  합천군    초계면   \n",
       "552760   경상남도 창원시 마산회원구 회성동  4**    8800.0  단독/다가구     경상남도  창원시  마산회원구   \n",
       "552761     경상북도 영덕군 축산면 경정리  3**    1650.0  단독/다가구     경상북도  영덕군    축산면   \n",
       "552762     경상북도 상주시 모동면 신흥리  1**    5800.0  단독/다가구     경상북도  상주시    모동면   \n",
       "\n",
       "       Village  \n",
       "552758     법지리  \n",
       "552759     대동리  \n",
       "552760     회성동  \n",
       "552761     경정리  \n",
       "552762     신흥리  "
      ]
     },
     "execution_count": 68,
     "metadata": {},
     "output_type": "execute_result"
    }
   ],
   "source": [
    "data2_iso.head()"
   ]
  },
  {
   "cell_type": "code",
   "execution_count": 70,
   "metadata": {},
   "outputs": [
    {
     "data": {
      "text/plain": [
       "시군구             0\n",
       "번지              0\n",
       "거래금액(만원)        0\n",
       "주택 유형           0\n",
       "County          0\n",
       "City            0\n",
       "Town            5\n",
       "Village     16763\n",
       "dtype: int64"
      ]
     },
     "execution_count": 70,
     "metadata": {},
     "output_type": "execute_result"
    }
   ],
   "source": [
    "data2_iso.isna().sum()"
   ]
  },
  {
   "cell_type": "code",
   "execution_count": 69,
   "metadata": {},
   "outputs": [
    {
     "data": {
      "text/html": [
       "<div>\n",
       "<style scoped>\n",
       "    .dataframe tbody tr th:only-of-type {\n",
       "        vertical-align: middle;\n",
       "    }\n",
       "\n",
       "    .dataframe tbody tr th {\n",
       "        vertical-align: top;\n",
       "    }\n",
       "\n",
       "    .dataframe thead th {\n",
       "        text-align: right;\n",
       "    }\n",
       "</style>\n",
       "<table border=\"1\" class=\"dataframe\">\n",
       "  <thead>\n",
       "    <tr style=\"text-align: right;\">\n",
       "      <th></th>\n",
       "      <th>시군구</th>\n",
       "      <th>번지</th>\n",
       "      <th>거래금액(만원)</th>\n",
       "      <th>주택 유형</th>\n",
       "      <th>County</th>\n",
       "      <th>City</th>\n",
       "      <th>Town</th>\n",
       "      <th>Village</th>\n",
       "    </tr>\n",
       "  </thead>\n",
       "  <tbody>\n",
       "    <tr>\n",
       "      <th>0</th>\n",
       "      <td>부산광역시 부산진구 양정동</td>\n",
       "      <td>458-20</td>\n",
       "      <td>35500.0</td>\n",
       "      <td>아파트</td>\n",
       "      <td>부산광역시</td>\n",
       "      <td>부산진구</td>\n",
       "      <td>양정동</td>\n",
       "      <td>&lt;NA&gt;</td>\n",
       "    </tr>\n",
       "    <tr>\n",
       "      <th>1</th>\n",
       "      <td>인천광역시 미추홀구 용현동</td>\n",
       "      <td>627-79</td>\n",
       "      <td>26900.0</td>\n",
       "      <td>아파트</td>\n",
       "      <td>인천광역시</td>\n",
       "      <td>미추홀구</td>\n",
       "      <td>용현동</td>\n",
       "      <td>&lt;NA&gt;</td>\n",
       "    </tr>\n",
       "    <tr>\n",
       "      <th>2</th>\n",
       "      <td>대구광역시 북구 태전동</td>\n",
       "      <td>1186</td>\n",
       "      <td>33000.0</td>\n",
       "      <td>아파트</td>\n",
       "      <td>대구광역시</td>\n",
       "      <td>북구</td>\n",
       "      <td>태전동</td>\n",
       "      <td>&lt;NA&gt;</td>\n",
       "    </tr>\n",
       "    <tr>\n",
       "      <th>3</th>\n",
       "      <td>서울특별시 서대문구 남가좌동</td>\n",
       "      <td>385</td>\n",
       "      <td>118000.0</td>\n",
       "      <td>아파트</td>\n",
       "      <td>서울특별시</td>\n",
       "      <td>서대문구</td>\n",
       "      <td>남가좌동</td>\n",
       "      <td>&lt;NA&gt;</td>\n",
       "    </tr>\n",
       "    <tr>\n",
       "      <th>4</th>\n",
       "      <td>인천광역시 연수구 연수동</td>\n",
       "      <td>536</td>\n",
       "      <td>39000.0</td>\n",
       "      <td>아파트</td>\n",
       "      <td>인천광역시</td>\n",
       "      <td>연수구</td>\n",
       "      <td>연수동</td>\n",
       "      <td>&lt;NA&gt;</td>\n",
       "    </tr>\n",
       "  </tbody>\n",
       "</table>\n",
       "</div>"
      ],
      "text/plain": [
       "               시군구      번지  거래금액(만원) 주택 유형 County  City  Town Village\n",
       "0   부산광역시 부산진구 양정동  458-20   35500.0   아파트  부산광역시  부산진구   양정동    <NA>\n",
       "1   인천광역시 미추홀구 용현동  627-79   26900.0   아파트  인천광역시  미추홀구   용현동    <NA>\n",
       "2     대구광역시 북구 태전동    1186   33000.0   아파트  대구광역시    북구   태전동    <NA>\n",
       "3  서울특별시 서대문구 남가좌동     385  118000.0   아파트  서울특별시  서대문구  남가좌동    <NA>\n",
       "4    인천광역시 연수구 연수동     536   39000.0   아파트  인천광역시   연수구   연수동    <NA>"
      ]
     },
     "execution_count": 69,
     "metadata": {},
     "output_type": "execute_result"
    }
   ],
   "source": [
    "data2_apt.head()"
   ]
  },
  {
   "cell_type": "code",
   "execution_count": 71,
   "metadata": {},
   "outputs": [
    {
     "data": {
      "text/plain": [
       "시군구              0\n",
       "번지               2\n",
       "거래금액(만원)         0\n",
       "주택 유형            0\n",
       "County           0\n",
       "City             0\n",
       "Town          3886\n",
       "Village     363664\n",
       "dtype: int64"
      ]
     },
     "execution_count": 71,
     "metadata": {},
     "output_type": "execute_result"
    }
   ],
   "source": [
    "data2_apt.isna().sum()"
   ]
  },
  {
   "cell_type": "markdown",
   "metadata": {},
   "source": [
    "실거래가도 같은 주소, 번지끼리 중복된게 있으므로 평균내주자"
   ]
  },
  {
   "cell_type": "code",
   "execution_count": 57,
   "metadata": {},
   "outputs": [
    {
     "data": {
      "text/plain": [
       "County  City  Town   Village  번지      주택 유형 \n",
       "충청남도    아산시   배방읍    공수리      1730    아파트       398\n",
       "        천안시   서북구    두정동      2078    아파트       333\n",
       "              동남구    신방동      920     아파트       297\n",
       "경기도     안양시   만안구    안양동      1393    아파트       286\n",
       "경상남도    창원시   마산합포구  월영동      738     아파트       281\n",
       "                                               ... \n",
       "경기도     화성시   봉담읍    동화리      431-4   아파트         1\n",
       "                              441-8   연립/다세대      1\n",
       "                              473-4   연립/다세대      1\n",
       "        부천시   오정구    고강동      359-15  아파트         1\n",
       "경상남도    진주시   명석면    우수리      102-1   아파트         1\n",
       "Name: count, Length: 26369, dtype: int64"
      ]
     },
     "execution_count": 57,
     "metadata": {},
     "output_type": "execute_result"
    }
   ],
   "source": [
    "data2_apt[[\"County\", \"City\", \"Town\", \"Village\", \"번지\", \"주택 유형\"]].value_counts()"
   ]
  },
  {
   "cell_type": "code",
   "execution_count": 56,
   "metadata": {},
   "outputs": [
    {
     "data": {
      "text/plain": [
       "County   City  Town  Village  번지    주택 유형 \n",
       "경상북도     포항시   북구    장성동      1***  단독/다가구    44\n",
       "경기도      안산시   단원구   선부동      1***  단독/다가구    43\n",
       "전북특별자치도  전주시   완산구   효자동3가    1***  단독/다가구    40\n",
       "경상북도     포항시   남구    송도동      4**   단독/다가구    37\n",
       "충청북도     청주시   흥덕구   가경동      6**   단독/다가구    36\n",
       "                                              ..\n",
       "경상북도     봉화군   봉화읍   유곡리      5*    단독/다가구     1\n",
       "                     해저리      7*    단독/다가구     1\n",
       "                     화천리      1**   단독/다가구     1\n",
       "               상운면   가곡리      1***  단독/다가구     1\n",
       "충청북도     충주시   중앙탑면  하구암리     7*    단독/다가구     1\n",
       "Name: count, Length: 17793, dtype: int64"
      ]
     },
     "execution_count": 56,
     "metadata": {},
     "output_type": "execute_result"
    }
   ],
   "source": [
    "data2_iso[[\"County\", \"City\", \"Town\", \"Village\", \"번지\", \"주택 유형\"]].value_counts()"
   ]
  },
  {
   "cell_type": "markdown",
   "metadata": {},
   "source": [
    "그룹핑하기 전, 결측치를 다른 값으로 채우기 (결측치가 있으면 이것을 무시하기 때문에)"
   ]
  },
  {
   "cell_type": "code",
   "execution_count": null,
   "metadata": {},
   "outputs": [],
   "source": [
    "data2_iso[[\"Town\", \"Village\"]] = data2_iso[[\"Town\", \"Village\"]].fillna(\"None\")\n",
    "data2_apt[[\"Town\", \"Village\"]] = data2_apt[[\"Town\", \"Village\"]].fillna(\"None\")\n"
   ]
  },
  {
   "cell_type": "code",
   "execution_count": 73,
   "metadata": {},
   "outputs": [
    {
     "data": {
      "text/plain": [
       "시군구         0\n",
       "번지          0\n",
       "거래금액(만원)    0\n",
       "주택 유형       0\n",
       "County      0\n",
       "City        0\n",
       "Town        0\n",
       "Village     0\n",
       "dtype: int64"
      ]
     },
     "execution_count": 73,
     "metadata": {},
     "output_type": "execute_result"
    }
   ],
   "source": [
    "data2_iso.isna().sum()"
   ]
  },
  {
   "cell_type": "code",
   "execution_count": 74,
   "metadata": {},
   "outputs": [],
   "source": [
    "data2_iso = data2_iso.groupby([\"County\", \"City\", \"Town\", \"Village\", \"번지\", \"주택 유형\"], as_index=False)[\"거래금액(만원)\"].mean()\n",
    "data2_apt = data2_apt.groupby([\"County\", \"City\", \"Town\", \"Village\", \"번지\", \"주택 유형\"], as_index=False)[\"거래금액(만원)\"].mean()"
   ]
  },
  {
   "cell_type": "code",
   "execution_count": 75,
   "metadata": {},
   "outputs": [
    {
     "data": {
      "text/html": [
       "<div>\n",
       "<style scoped>\n",
       "    .dataframe tbody tr th:only-of-type {\n",
       "        vertical-align: middle;\n",
       "    }\n",
       "\n",
       "    .dataframe tbody tr th {\n",
       "        vertical-align: top;\n",
       "    }\n",
       "\n",
       "    .dataframe thead th {\n",
       "        text-align: right;\n",
       "    }\n",
       "</style>\n",
       "<table border=\"1\" class=\"dataframe\">\n",
       "  <thead>\n",
       "    <tr style=\"text-align: right;\">\n",
       "      <th></th>\n",
       "      <th>County</th>\n",
       "      <th>City</th>\n",
       "      <th>Town</th>\n",
       "      <th>Village</th>\n",
       "      <th>번지</th>\n",
       "      <th>주택 유형</th>\n",
       "      <th>거래금액(만원)</th>\n",
       "    </tr>\n",
       "  </thead>\n",
       "  <tbody>\n",
       "    <tr>\n",
       "      <th>0</th>\n",
       "      <td>강원특별자치도</td>\n",
       "      <td>강릉시</td>\n",
       "      <td>견소동</td>\n",
       "      <td>None</td>\n",
       "      <td>202</td>\n",
       "      <td>아파트</td>\n",
       "      <td>19770.454545</td>\n",
       "    </tr>\n",
       "    <tr>\n",
       "      <th>1</th>\n",
       "      <td>강원특별자치도</td>\n",
       "      <td>강릉시</td>\n",
       "      <td>견소동</td>\n",
       "      <td>None</td>\n",
       "      <td>289</td>\n",
       "      <td>아파트</td>\n",
       "      <td>25819.354839</td>\n",
       "    </tr>\n",
       "    <tr>\n",
       "      <th>2</th>\n",
       "      <td>강원특별자치도</td>\n",
       "      <td>강릉시</td>\n",
       "      <td>교동</td>\n",
       "      <td>None</td>\n",
       "      <td>1034</td>\n",
       "      <td>아파트</td>\n",
       "      <td>15260.000000</td>\n",
       "    </tr>\n",
       "    <tr>\n",
       "      <th>3</th>\n",
       "      <td>강원특별자치도</td>\n",
       "      <td>강릉시</td>\n",
       "      <td>교동</td>\n",
       "      <td>None</td>\n",
       "      <td>1035-1</td>\n",
       "      <td>아파트</td>\n",
       "      <td>30500.000000</td>\n",
       "    </tr>\n",
       "    <tr>\n",
       "      <th>4</th>\n",
       "      <td>강원특별자치도</td>\n",
       "      <td>강릉시</td>\n",
       "      <td>교동</td>\n",
       "      <td>None</td>\n",
       "      <td>1429-1</td>\n",
       "      <td>아파트</td>\n",
       "      <td>8800.000000</td>\n",
       "    </tr>\n",
       "  </tbody>\n",
       "</table>\n",
       "</div>"
      ],
      "text/plain": [
       "    County City Town Village      번지 주택 유형      거래금액(만원)\n",
       "0  강원특별자치도  강릉시  견소동    None     202   아파트  19770.454545\n",
       "1  강원특별자치도  강릉시  견소동    None     289   아파트  25819.354839\n",
       "2  강원특별자치도  강릉시   교동    None    1034   아파트  15260.000000\n",
       "3  강원특별자치도  강릉시   교동    None  1035-1   아파트  30500.000000\n",
       "4  강원특별자치도  강릉시   교동    None  1429-1   아파트   8800.000000"
      ]
     },
     "execution_count": 75,
     "metadata": {},
     "output_type": "execute_result"
    }
   ],
   "source": [
    "data2_apt.head()"
   ]
  },
  {
   "cell_type": "code",
   "execution_count": 78,
   "metadata": {},
   "outputs": [
    {
     "data": {
      "text/html": [
       "<div>\n",
       "<style scoped>\n",
       "    .dataframe tbody tr th:only-of-type {\n",
       "        vertical-align: middle;\n",
       "    }\n",
       "\n",
       "    .dataframe tbody tr th {\n",
       "        vertical-align: top;\n",
       "    }\n",
       "\n",
       "    .dataframe thead th {\n",
       "        text-align: right;\n",
       "    }\n",
       "</style>\n",
       "<table border=\"1\" class=\"dataframe\">\n",
       "  <thead>\n",
       "    <tr style=\"text-align: right;\">\n",
       "      <th></th>\n",
       "      <th>County</th>\n",
       "      <th>City</th>\n",
       "      <th>Town</th>\n",
       "      <th>Village</th>\n",
       "      <th>번지</th>\n",
       "      <th>주택 유형</th>\n",
       "      <th>거래금액(만원)</th>\n",
       "    </tr>\n",
       "  </thead>\n",
       "  <tbody>\n",
       "    <tr>\n",
       "      <th>0</th>\n",
       "      <td>강원특별자치도</td>\n",
       "      <td>강릉시</td>\n",
       "      <td>강동면</td>\n",
       "      <td>모전리</td>\n",
       "      <td>1**</td>\n",
       "      <td>단독/다가구</td>\n",
       "      <td>7440.0</td>\n",
       "    </tr>\n",
       "    <tr>\n",
       "      <th>1</th>\n",
       "      <td>강원특별자치도</td>\n",
       "      <td>강릉시</td>\n",
       "      <td>강동면</td>\n",
       "      <td>모전리</td>\n",
       "      <td>2**</td>\n",
       "      <td>단독/다가구</td>\n",
       "      <td>7100.0</td>\n",
       "    </tr>\n",
       "    <tr>\n",
       "      <th>2</th>\n",
       "      <td>강원특별자치도</td>\n",
       "      <td>강릉시</td>\n",
       "      <td>강동면</td>\n",
       "      <td>모전리</td>\n",
       "      <td>3**</td>\n",
       "      <td>단독/다가구</td>\n",
       "      <td>11000.0</td>\n",
       "    </tr>\n",
       "    <tr>\n",
       "      <th>3</th>\n",
       "      <td>강원특별자치도</td>\n",
       "      <td>강릉시</td>\n",
       "      <td>강동면</td>\n",
       "      <td>상시동리</td>\n",
       "      <td>1**</td>\n",
       "      <td>단독/다가구</td>\n",
       "      <td>33778.0</td>\n",
       "    </tr>\n",
       "    <tr>\n",
       "      <th>4</th>\n",
       "      <td>강원특별자치도</td>\n",
       "      <td>강릉시</td>\n",
       "      <td>강동면</td>\n",
       "      <td>상시동리</td>\n",
       "      <td>2**</td>\n",
       "      <td>단독/다가구</td>\n",
       "      <td>15000.0</td>\n",
       "    </tr>\n",
       "  </tbody>\n",
       "</table>\n",
       "</div>"
      ],
      "text/plain": [
       "    County City Town Village   번지   주택 유형  거래금액(만원)\n",
       "0  강원특별자치도  강릉시  강동면     모전리  1**  단독/다가구    7440.0\n",
       "1  강원특별자치도  강릉시  강동면     모전리  2**  단독/다가구    7100.0\n",
       "2  강원특별자치도  강릉시  강동면     모전리  3**  단독/다가구   11000.0\n",
       "3  강원특별자치도  강릉시  강동면    상시동리  1**  단독/다가구   33778.0\n",
       "4  강원특별자치도  강릉시  강동면    상시동리  2**  단독/다가구   15000.0"
      ]
     },
     "execution_count": 78,
     "metadata": {},
     "output_type": "execute_result"
    }
   ],
   "source": [
    "data2_iso.head()"
   ]
  },
  {
   "cell_type": "markdown",
   "metadata": {},
   "source": [
    "먼저 단독주택을 제외한 실거래가랑 공시지가랑 결합하자"
   ]
  },
  {
   "cell_type": "code",
   "execution_count": null,
   "metadata": {},
   "outputs": [
    {
     "data": {
      "text/plain": [
       "Index(['법정동명', '번지', '공시지가', 'County', 'City', 'Town', 'Village'], dtype='object')"
      ]
     },
     "execution_count": 32,
     "metadata": {},
     "output_type": "execute_result"
    }
   ],
   "source": [
    "#데이터 결합의 획일성을 위해\n",
    "data1.rename(columns={\"지번\":\"번지\"}, inplace=True)\n",
    "data1.columns"
   ]
  },
  {
   "cell_type": "code",
   "execution_count": 80,
   "metadata": {},
   "outputs": [
    {
     "data": {
      "text/plain": [
       "법정동명             0\n",
       "번지               0\n",
       "공시지가             0\n",
       "County           0\n",
       "City             0\n",
       "Town          5331\n",
       "Village    6105740\n",
       "dtype: int64"
      ]
     },
     "execution_count": 80,
     "metadata": {},
     "output_type": "execute_result"
    }
   ],
   "source": [
    "data1.isna().sum()"
   ]
  },
  {
   "cell_type": "markdown",
   "metadata": {},
   "source": [
    "결측치가 있으면 결합이 안되기 때문에 다른 값으로 변환 후 진행"
   ]
  },
  {
   "cell_type": "code",
   "execution_count": 81,
   "metadata": {},
   "outputs": [],
   "source": [
    "data1[[\"Town\", \"Village\"]] = data1[[\"Town\", \"Village\"]].fillna(\"None\")"
   ]
  },
  {
   "cell_type": "markdown",
   "metadata": {},
   "source": [
    "결합"
   ]
  },
  {
   "cell_type": "code",
   "execution_count": 87,
   "metadata": {},
   "outputs": [],
   "source": [
    "temp=pd.merge(data1, data2_apt, how=\"inner\", on=[\"County\", \"City\", \"Town\", \"Village\", \"번지\"])"
   ]
  },
  {
   "cell_type": "code",
   "execution_count": 88,
   "metadata": {},
   "outputs": [
    {
     "name": "stdout",
     "output_type": "stream",
     "text": [
      "(34456936, 7)\n",
      "(83366, 7)\n",
      "(83014, 9)\n"
     ]
    }
   ],
   "source": [
    "print(data1.shape)\n",
    "print(data2_apt.shape)\n",
    "print(temp.shape)"
   ]
  },
  {
   "cell_type": "markdown",
   "metadata": {},
   "source": [
    "잘 되었다"
   ]
  },
  {
   "cell_type": "code",
   "execution_count": 89,
   "metadata": {},
   "outputs": [
    {
     "data": {
      "text/html": [
       "<div>\n",
       "<style scoped>\n",
       "    .dataframe tbody tr th:only-of-type {\n",
       "        vertical-align: middle;\n",
       "    }\n",
       "\n",
       "    .dataframe tbody tr th {\n",
       "        vertical-align: top;\n",
       "    }\n",
       "\n",
       "    .dataframe thead th {\n",
       "        text-align: right;\n",
       "    }\n",
       "</style>\n",
       "<table border=\"1\" class=\"dataframe\">\n",
       "  <thead>\n",
       "    <tr style=\"text-align: right;\">\n",
       "      <th></th>\n",
       "      <th>법정동명</th>\n",
       "      <th>번지</th>\n",
       "      <th>공시지가</th>\n",
       "      <th>County</th>\n",
       "      <th>City</th>\n",
       "      <th>Town</th>\n",
       "      <th>Village</th>\n",
       "      <th>주택 유형</th>\n",
       "      <th>거래금액(만원)</th>\n",
       "    </tr>\n",
       "  </thead>\n",
       "  <tbody>\n",
       "    <tr>\n",
       "      <th>0</th>\n",
       "      <td>세종특별자치시  반곡동</td>\n",
       "      <td>1035</td>\n",
       "      <td>1460000.0</td>\n",
       "      <td>세종특별자치시</td>\n",
       "      <td>반곡동</td>\n",
       "      <td>None</td>\n",
       "      <td>None</td>\n",
       "      <td>아파트</td>\n",
       "      <td>38954.545455</td>\n",
       "    </tr>\n",
       "    <tr>\n",
       "      <th>1</th>\n",
       "      <td>세종특별자치시  반곡동</td>\n",
       "      <td>841</td>\n",
       "      <td>4198000.0</td>\n",
       "      <td>세종특별자치시</td>\n",
       "      <td>반곡동</td>\n",
       "      <td>None</td>\n",
       "      <td>None</td>\n",
       "      <td>연립/다세대</td>\n",
       "      <td>13000.000000</td>\n",
       "    </tr>\n",
       "    <tr>\n",
       "      <th>2</th>\n",
       "      <td>세종특별자치시  반곡동</td>\n",
       "      <td>851</td>\n",
       "      <td>1656000.0</td>\n",
       "      <td>세종특별자치시</td>\n",
       "      <td>반곡동</td>\n",
       "      <td>None</td>\n",
       "      <td>None</td>\n",
       "      <td>아파트</td>\n",
       "      <td>72790.476190</td>\n",
       "    </tr>\n",
       "    <tr>\n",
       "      <th>3</th>\n",
       "      <td>세종특별자치시  반곡동</td>\n",
       "      <td>852</td>\n",
       "      <td>1672000.0</td>\n",
       "      <td>세종특별자치시</td>\n",
       "      <td>반곡동</td>\n",
       "      <td>None</td>\n",
       "      <td>None</td>\n",
       "      <td>아파트</td>\n",
       "      <td>67078.787879</td>\n",
       "    </tr>\n",
       "    <tr>\n",
       "      <th>4</th>\n",
       "      <td>세종특별자치시  반곡동</td>\n",
       "      <td>857</td>\n",
       "      <td>1821000.0</td>\n",
       "      <td>세종특별자치시</td>\n",
       "      <td>반곡동</td>\n",
       "      <td>None</td>\n",
       "      <td>None</td>\n",
       "      <td>아파트</td>\n",
       "      <td>58656.875000</td>\n",
       "    </tr>\n",
       "  </tbody>\n",
       "</table>\n",
       "</div>"
      ],
      "text/plain": [
       "            법정동명    번지       공시지가   County City  Town Village   주택 유형  \\\n",
       "0   세종특별자치시  반곡동  1035  1460000.0  세종특별자치시  반곡동  None    None     아파트   \n",
       "1   세종특별자치시  반곡동   841  4198000.0  세종특별자치시  반곡동  None    None  연립/다세대   \n",
       "2   세종특별자치시  반곡동   851  1656000.0  세종특별자치시  반곡동  None    None     아파트   \n",
       "3   세종특별자치시  반곡동   852  1672000.0  세종특별자치시  반곡동  None    None     아파트   \n",
       "4   세종특별자치시  반곡동   857  1821000.0  세종특별자치시  반곡동  None    None     아파트   \n",
       "\n",
       "       거래금액(만원)  \n",
       "0  38954.545455  \n",
       "1  13000.000000  \n",
       "2  72790.476190  \n",
       "3  67078.787879  \n",
       "4  58656.875000  "
      ]
     },
     "execution_count": 89,
     "metadata": {},
     "output_type": "execute_result"
    }
   ],
   "source": [
    "temp.head()"
   ]
  },
  {
   "cell_type": "markdown",
   "metadata": {},
   "source": [
    "### iii. 읍면동(리)단위, 주택유형별로 공시지가, 실거래가 평균내기"
   ]
  },
  {
   "cell_type": "markdown",
   "metadata": {},
   "source": [
    "위의 단독주택의 경우 따로 평균 낸 다음에 concat하기"
   ]
  },
  {
   "cell_type": "code",
   "execution_count": 90,
   "metadata": {},
   "outputs": [
    {
     "data": {
      "text/plain": [
       "법정동명        0\n",
       "번지          0\n",
       "공시지가        0\n",
       "County      0\n",
       "City        0\n",
       "Town        0\n",
       "Village     0\n",
       "주택 유형       0\n",
       "거래금액(만원)    0\n",
       "dtype: int64"
      ]
     },
     "execution_count": 90,
     "metadata": {},
     "output_type": "execute_result"
    }
   ],
   "source": [
    "temp.isna().sum()"
   ]
  },
  {
   "cell_type": "code",
   "execution_count": null,
   "metadata": {},
   "outputs": [
    {
     "data": {
      "text/html": [
       "<div>\n",
       "<style scoped>\n",
       "    .dataframe tbody tr th:only-of-type {\n",
       "        vertical-align: middle;\n",
       "    }\n",
       "\n",
       "    .dataframe tbody tr th {\n",
       "        vertical-align: top;\n",
       "    }\n",
       "\n",
       "    .dataframe thead th {\n",
       "        text-align: right;\n",
       "    }\n",
       "</style>\n",
       "<table border=\"1\" class=\"dataframe\">\n",
       "  <thead>\n",
       "    <tr style=\"text-align: right;\">\n",
       "      <th></th>\n",
       "      <th>County</th>\n",
       "      <th>City</th>\n",
       "      <th>Town</th>\n",
       "      <th>Village</th>\n",
       "      <th>주택 유형</th>\n",
       "      <th>공시지가</th>\n",
       "      <th>거래금액(만원)</th>\n",
       "    </tr>\n",
       "  </thead>\n",
       "  <tbody>\n",
       "    <tr>\n",
       "      <th>0</th>\n",
       "      <td>강원특별자치도</td>\n",
       "      <td>강릉시</td>\n",
       "      <td>견소동</td>\n",
       "      <td>None</td>\n",
       "      <td>아파트</td>\n",
       "      <td>629050.000000</td>\n",
       "      <td>22794.904692</td>\n",
       "    </tr>\n",
       "    <tr>\n",
       "      <th>1</th>\n",
       "      <td>강원특별자치도</td>\n",
       "      <td>강릉시</td>\n",
       "      <td>교동</td>\n",
       "      <td>None</td>\n",
       "      <td>아파트</td>\n",
       "      <td>498478.333333</td>\n",
       "      <td>20658.683003</td>\n",
       "    </tr>\n",
       "    <tr>\n",
       "      <th>2</th>\n",
       "      <td>강원특별자치도</td>\n",
       "      <td>강릉시</td>\n",
       "      <td>교동</td>\n",
       "      <td>None</td>\n",
       "      <td>연립/다세대</td>\n",
       "      <td>365216.666667</td>\n",
       "      <td>14333.333333</td>\n",
       "    </tr>\n",
       "    <tr>\n",
       "      <th>3</th>\n",
       "      <td>강원특별자치도</td>\n",
       "      <td>강릉시</td>\n",
       "      <td>남문동</td>\n",
       "      <td>None</td>\n",
       "      <td>아파트</td>\n",
       "      <td>546700.000000</td>\n",
       "      <td>17100.000000</td>\n",
       "    </tr>\n",
       "    <tr>\n",
       "      <th>4</th>\n",
       "      <td>강원특별자치도</td>\n",
       "      <td>강릉시</td>\n",
       "      <td>내곡동</td>\n",
       "      <td>None</td>\n",
       "      <td>아파트</td>\n",
       "      <td>475427.272727</td>\n",
       "      <td>14772.485871</td>\n",
       "    </tr>\n",
       "    <tr>\n",
       "      <th>...</th>\n",
       "      <td>...</td>\n",
       "      <td>...</td>\n",
       "      <td>...</td>\n",
       "      <td>...</td>\n",
       "      <td>...</td>\n",
       "      <td>...</td>\n",
       "      <td>...</td>\n",
       "    </tr>\n",
       "    <tr>\n",
       "      <th>6781</th>\n",
       "      <td>충청북도</td>\n",
       "      <td>충주시</td>\n",
       "      <td>칠금동</td>\n",
       "      <td>None</td>\n",
       "      <td>아파트</td>\n",
       "      <td>473450.000000</td>\n",
       "      <td>18221.948288</td>\n",
       "    </tr>\n",
       "    <tr>\n",
       "      <th>6782</th>\n",
       "      <td>충청북도</td>\n",
       "      <td>충주시</td>\n",
       "      <td>칠금동</td>\n",
       "      <td>None</td>\n",
       "      <td>연립/다세대</td>\n",
       "      <td>411900.000000</td>\n",
       "      <td>6500.000000</td>\n",
       "    </tr>\n",
       "    <tr>\n",
       "      <th>6783</th>\n",
       "      <td>충청북도</td>\n",
       "      <td>충주시</td>\n",
       "      <td>풍동</td>\n",
       "      <td>None</td>\n",
       "      <td>아파트</td>\n",
       "      <td>148100.000000</td>\n",
       "      <td>3596.607143</td>\n",
       "    </tr>\n",
       "    <tr>\n",
       "      <th>6784</th>\n",
       "      <td>충청북도</td>\n",
       "      <td>충주시</td>\n",
       "      <td>호암동</td>\n",
       "      <td>None</td>\n",
       "      <td>아파트</td>\n",
       "      <td>469061.538462</td>\n",
       "      <td>21754.533597</td>\n",
       "    </tr>\n",
       "    <tr>\n",
       "      <th>6785</th>\n",
       "      <td>충청북도</td>\n",
       "      <td>충주시</td>\n",
       "      <td>호암동</td>\n",
       "      <td>None</td>\n",
       "      <td>연립/다세대</td>\n",
       "      <td>427314.285714</td>\n",
       "      <td>9228.571429</td>\n",
       "    </tr>\n",
       "  </tbody>\n",
       "</table>\n",
       "<p>6786 rows × 7 columns</p>\n",
       "</div>"
      ],
      "text/plain": [
       "       County City Town Village   주택 유형           공시지가      거래금액(만원)\n",
       "0     강원특별자치도  강릉시  견소동    None     아파트  629050.000000  22794.904692\n",
       "1     강원특별자치도  강릉시   교동    None     아파트  498478.333333  20658.683003\n",
       "2     강원특별자치도  강릉시   교동    None  연립/다세대  365216.666667  14333.333333\n",
       "3     강원특별자치도  강릉시  남문동    None     아파트  546700.000000  17100.000000\n",
       "4     강원특별자치도  강릉시  내곡동    None     아파트  475427.272727  14772.485871\n",
       "...       ...  ...  ...     ...     ...            ...           ...\n",
       "6781     충청북도  충주시  칠금동    None     아파트  473450.000000  18221.948288\n",
       "6782     충청북도  충주시  칠금동    None  연립/다세대  411900.000000   6500.000000\n",
       "6783     충청북도  충주시   풍동    None     아파트  148100.000000   3596.607143\n",
       "6784     충청북도  충주시  호암동    None     아파트  469061.538462  21754.533597\n",
       "6785     충청북도  충주시  호암동    None  연립/다세대  427314.285714   9228.571429\n",
       "\n",
       "[6786 rows x 7 columns]"
      ]
     },
     "execution_count": 93,
     "metadata": {},
     "output_type": "execute_result"
    }
   ],
   "source": [
    "temp=temp.groupby([\"County\", \"City\", \"Town\", \"Village\", \"주택 유형\"], as_index=False)[[\"공시지가\", \"거래금액(만원)\"]].mean()\n",
    "temp.head()"
   ]
  },
  {
   "cell_type": "code",
   "execution_count": 96,
   "metadata": {},
   "outputs": [
    {
     "data": {
      "text/html": [
       "<div>\n",
       "<style scoped>\n",
       "    .dataframe tbody tr th:only-of-type {\n",
       "        vertical-align: middle;\n",
       "    }\n",
       "\n",
       "    .dataframe tbody tr th {\n",
       "        vertical-align: top;\n",
       "    }\n",
       "\n",
       "    .dataframe thead th {\n",
       "        text-align: right;\n",
       "    }\n",
       "</style>\n",
       "<table border=\"1\" class=\"dataframe\">\n",
       "  <thead>\n",
       "    <tr style=\"text-align: right;\">\n",
       "      <th></th>\n",
       "      <th>County</th>\n",
       "      <th>City</th>\n",
       "      <th>Town</th>\n",
       "      <th>Village</th>\n",
       "      <th>주택 유형</th>\n",
       "      <th>거래금액(만원)</th>\n",
       "    </tr>\n",
       "  </thead>\n",
       "  <tbody>\n",
       "    <tr>\n",
       "      <th>0</th>\n",
       "      <td>강원특별자치도</td>\n",
       "      <td>강릉시</td>\n",
       "      <td>강동면</td>\n",
       "      <td>모전리</td>\n",
       "      <td>단독/다가구</td>\n",
       "      <td>8513.333333</td>\n",
       "    </tr>\n",
       "    <tr>\n",
       "      <th>1</th>\n",
       "      <td>강원특별자치도</td>\n",
       "      <td>강릉시</td>\n",
       "      <td>강동면</td>\n",
       "      <td>상시동리</td>\n",
       "      <td>단독/다가구</td>\n",
       "      <td>18194.500000</td>\n",
       "    </tr>\n",
       "    <tr>\n",
       "      <th>2</th>\n",
       "      <td>강원특별자치도</td>\n",
       "      <td>강릉시</td>\n",
       "      <td>강동면</td>\n",
       "      <td>심곡리</td>\n",
       "      <td>단독/다가구</td>\n",
       "      <td>11975.250000</td>\n",
       "    </tr>\n",
       "    <tr>\n",
       "      <th>3</th>\n",
       "      <td>강원특별자치도</td>\n",
       "      <td>강릉시</td>\n",
       "      <td>강동면</td>\n",
       "      <td>안인리</td>\n",
       "      <td>단독/다가구</td>\n",
       "      <td>15100.000000</td>\n",
       "    </tr>\n",
       "    <tr>\n",
       "      <th>4</th>\n",
       "      <td>강원특별자치도</td>\n",
       "      <td>강릉시</td>\n",
       "      <td>강동면</td>\n",
       "      <td>안인진리</td>\n",
       "      <td>단독/다가구</td>\n",
       "      <td>55000.000000</td>\n",
       "    </tr>\n",
       "  </tbody>\n",
       "</table>\n",
       "</div>"
      ],
      "text/plain": [
       "    County City Town Village   주택 유형      거래금액(만원)\n",
       "0  강원특별자치도  강릉시  강동면     모전리  단독/다가구   8513.333333\n",
       "1  강원특별자치도  강릉시  강동면    상시동리  단독/다가구  18194.500000\n",
       "2  강원특별자치도  강릉시  강동면     심곡리  단독/다가구  11975.250000\n",
       "3  강원특별자치도  강릉시  강동면     안인리  단독/다가구  15100.000000\n",
       "4  강원특별자치도  강릉시  강동면    안인진리  단독/다가구  55000.000000"
      ]
     },
     "execution_count": 96,
     "metadata": {},
     "output_type": "execute_result"
    }
   ],
   "source": [
    "data2_iso=data2_iso.groupby([\"County\", \"City\", \"Town\", \"Village\", \"주택 유형\"], as_index=False)[\"거래금액(만원)\"].mean()\n",
    "data2_iso.head()"
   ]
  },
  {
   "cell_type": "markdown",
   "metadata": {},
   "source": [
    "두 데이터를 concat"
   ]
  },
  {
   "cell_type": "code",
   "execution_count": 100,
   "metadata": {},
   "outputs": [],
   "source": [
    "final_df=pd.concat([temp, data2_iso], axis=0)"
   ]
  },
  {
   "cell_type": "code",
   "execution_count": 102,
   "metadata": {},
   "outputs": [
    {
     "data": {
      "text/plain": [
       "County          0\n",
       "City            0\n",
       "Town            0\n",
       "Village         0\n",
       "주택 유형           0\n",
       "공시지가        11558\n",
       "거래금액(만원)        0\n",
       "dtype: int64"
      ]
     },
     "execution_count": 102,
     "metadata": {},
     "output_type": "execute_result"
    }
   ],
   "source": [
    "final_df.isna().sum()"
   ]
  },
  {
   "cell_type": "markdown",
   "metadata": {},
   "source": [
    "위에서 Town, Village의 결측치를 \"None\"으로 바꾼 것을 다시 결측치로 바꾸기"
   ]
  },
  {
   "cell_type": "code",
   "execution_count": 104,
   "metadata": {},
   "outputs": [
    {
     "data": {
      "text/plain": [
       "County          0\n",
       "City            0\n",
       "Town           20\n",
       "Village      5246\n",
       "주택 유형           0\n",
       "공시지가        11558\n",
       "거래금액(만원)        0\n",
       "dtype: int64"
      ]
     },
     "execution_count": 104,
     "metadata": {},
     "output_type": "execute_result"
    }
   ],
   "source": [
    "final_df.replace({\"Town\": {\"None\": pd.NA}}, inplace=True)\n",
    "final_df.replace({\"Village\": {\"None\": pd.NA}}, inplace=True)\n",
    "final_df.isna().sum()"
   ]
  },
  {
   "cell_type": "markdown",
   "metadata": {},
   "source": [
    "### iv. 마무리 전처리"
   ]
  },
  {
   "cell_type": "markdown",
   "metadata": {},
   "source": [
    "금액의 소숫점 아래 자리가 너무 길다"
   ]
  },
  {
   "cell_type": "code",
   "execution_count": 109,
   "metadata": {},
   "outputs": [],
   "source": [
    "final_df[\"공시지가\"]=final_df[\"공시지가\"].round()\n",
    "final_df[\"거래금액(만원)\"]=final_df[\"거래금액(만원)\"].round()"
   ]
  },
  {
   "cell_type": "markdown",
   "metadata": {},
   "source": [
    "칼럼명 영어로 바꾸기"
   ]
  },
  {
   "cell_type": "code",
   "execution_count": 112,
   "metadata": {},
   "outputs": [],
   "source": [
    "final_df.rename(columns={\"주택 유형\":\"Housing_Type\", \"공시지가\":\"Official_Land_Value\", \"거래금액(만원)\":\"Actual_Land_Value\"}, inplace=True)"
   ]
  },
  {
   "cell_type": "code",
   "execution_count": null,
   "metadata": {},
   "outputs": [
    {
     "data": {
      "text/html": [
       "<div>\n",
       "<style scoped>\n",
       "    .dataframe tbody tr th:only-of-type {\n",
       "        vertical-align: middle;\n",
       "    }\n",
       "\n",
       "    .dataframe tbody tr th {\n",
       "        vertical-align: top;\n",
       "    }\n",
       "\n",
       "    .dataframe thead th {\n",
       "        text-align: right;\n",
       "    }\n",
       "</style>\n",
       "<table border=\"1\" class=\"dataframe\">\n",
       "  <thead>\n",
       "    <tr style=\"text-align: right;\">\n",
       "      <th></th>\n",
       "      <th>County</th>\n",
       "      <th>City</th>\n",
       "      <th>Town</th>\n",
       "      <th>Village</th>\n",
       "      <th>Housing_Type</th>\n",
       "      <th>Official_Land_Value</th>\n",
       "      <th>Actual_Land_Value</th>\n",
       "    </tr>\n",
       "  </thead>\n",
       "  <tbody>\n",
       "    <tr>\n",
       "      <th>0</th>\n",
       "      <td>강원특별자치도</td>\n",
       "      <td>강릉시</td>\n",
       "      <td>견소동</td>\n",
       "      <td>&lt;NA&gt;</td>\n",
       "      <td>아파트</td>\n",
       "      <td>629050.0</td>\n",
       "      <td>22795.0</td>\n",
       "    </tr>\n",
       "    <tr>\n",
       "      <th>1</th>\n",
       "      <td>강원특별자치도</td>\n",
       "      <td>강릉시</td>\n",
       "      <td>교동</td>\n",
       "      <td>&lt;NA&gt;</td>\n",
       "      <td>아파트</td>\n",
       "      <td>498478.0</td>\n",
       "      <td>20659.0</td>\n",
       "    </tr>\n",
       "    <tr>\n",
       "      <th>2</th>\n",
       "      <td>강원특별자치도</td>\n",
       "      <td>강릉시</td>\n",
       "      <td>교동</td>\n",
       "      <td>&lt;NA&gt;</td>\n",
       "      <td>연립/다세대</td>\n",
       "      <td>365217.0</td>\n",
       "      <td>14333.0</td>\n",
       "    </tr>\n",
       "    <tr>\n",
       "      <th>3</th>\n",
       "      <td>강원특별자치도</td>\n",
       "      <td>강릉시</td>\n",
       "      <td>남문동</td>\n",
       "      <td>&lt;NA&gt;</td>\n",
       "      <td>아파트</td>\n",
       "      <td>546700.0</td>\n",
       "      <td>17100.0</td>\n",
       "    </tr>\n",
       "    <tr>\n",
       "      <th>4</th>\n",
       "      <td>강원특별자치도</td>\n",
       "      <td>강릉시</td>\n",
       "      <td>내곡동</td>\n",
       "      <td>&lt;NA&gt;</td>\n",
       "      <td>아파트</td>\n",
       "      <td>475427.0</td>\n",
       "      <td>14772.0</td>\n",
       "    </tr>\n",
       "  </tbody>\n",
       "</table>\n",
       "</div>"
      ],
      "text/plain": [
       "    County City Town Village Housing_Type  Official_Land_Value  \\\n",
       "0  강원특별자치도  강릉시  견소동    <NA>          아파트             629050.0   \n",
       "1  강원특별자치도  강릉시   교동    <NA>          아파트             498478.0   \n",
       "2  강원특별자치도  강릉시   교동    <NA>       연립/다세대             365217.0   \n",
       "3  강원특별자치도  강릉시  남문동    <NA>          아파트             546700.0   \n",
       "4  강원특별자치도  강릉시  내곡동    <NA>          아파트             475427.0   \n",
       "\n",
       "   Actual_Land_Value  \n",
       "0            22795.0  \n",
       "1            20659.0  \n",
       "2            14333.0  \n",
       "3            17100.0  \n",
       "4            14772.0  "
      ]
     },
     "execution_count": 113,
     "metadata": {},
     "output_type": "execute_result"
    }
   ],
   "source": [
    "final_df.head()"
   ]
  },
  {
   "cell_type": "markdown",
   "metadata": {},
   "source": [
    "저장하기"
   ]
  },
  {
   "cell_type": "code",
   "execution_count": null,
   "metadata": {},
   "outputs": [],
   "source": [
    "final_df.to_csv(\"결과데이터/전국주택가격정보.csv\", index=False, encoding=\"cp949\")"
   ]
  },
  {
   "cell_type": "markdown",
   "metadata": {},
   "source": [
    "# 25. 전국 농지매물 정보"
   ]
  },
  {
   "cell_type": "markdown",
   "metadata": {},
   "source": [
    "동적 크롤링 활용"
   ]
  },
  {
   "cell_type": "markdown",
   "metadata": {},
   "source": [
    "부산광역시, 대구광역시, 인천광역시, 광주광역시, 세종특별자치시, 제주특별자치도   \n",
    "울산광역시, 경기도, 충청북도, 충청남도, 전라남도, 경상북도, 경상남도, 전북특별자치도"
   ]
  },
  {
   "cell_type": "markdown",
   "metadata": {},
   "source": [
    "1. http://www.alimi.or.kr/dataview/a/selectAgriculturalMarketing.do\n",
    "2. #areaId를 클릭 (시도 선택창)\n",
    "3. 차례대로 #areaId > option:nth-child(2)부터 #areaId > option:nth-child(19)까지 선택 (시도 선택) 이때 택스트를 추출하여 \"시도\"칼럼에 저장장\n",
    "4. 그 다음에 #list > tbody > tr:nth-child(1) > td > table > tbody > tr:nth-child(2) > td > table > tbody > tr > td > a > table > tbody > tr > td:nth-child(2) 클릭 (검색버튼)\n",
    "5. 그러면 그에 맞는 결과 출력. 이때  #list > tbody > tr:nth-child(3) > td > table > tbody > tr:nth-child(2) 의 <td colspan=\"8\">이면 데이터가 없다는 뜻이므로 다음 \"시도\"를 선택한다 (3번으로)\n",
    "6. #list > tbody > tr:nth-child(3) > td > table > tbody > tr:nth-child(2) > td:nth-child(2) 는 \"구분\" 칼럼 (텍스트 추출)\n",
    "7. #list > tbody > tr:nth-child(3) > td > table > tbody > tr:nth-child(2) > td.pl15는 \"주소\" 칼럼 (텍스트 추출)\n",
    "8. #list > tbody > tr:nth-child(3) > td > table > tbody > tr:nth-child(2) > td:nth-child(4)는 \"연간_임대료(원)\" 칼럼 (텍스트 추출)\n",
    "9. #list > tbody > tr:nth-child(3) > td > table > tbody > tr:nth-child(2) > td:nth-child(5)는 \"면적(㎡)\"칼럼 (텍스트 추출)\n",
    "10. #list > tbody > tr:nth-child(3) > td > table > tbody > tr:nth-child(11) 보통 이런식으로 한 페이지에 데이터가 10개가 있지만, 10개가 아닐때도 있다.\n",
    "11. 한 페이지에서 데이터를 다 받았으면 다음 페이지로 넘어간다. 처음 페이지는 \"1페이지\"이고 #list > tbody > tr:nth-child(4) > td > ul > a:nth-child(4) 이 버튼을 누르면 \"2페이지\"로 넘어간다. #list > tbody > tr:nth-child(4) > td > ul > a:nth-child(5)을 누르면 \"3페이지\"로 넘어간다. \n",
    "12. 페이지 양이 많으면 \"10페이지\"에서 #list > tbody > tr:nth-child(4) > td > ul > a:nth-child(13) 이 버튼을 넘으면 11~20페이지로 넘어간다. 만약 다음 11페이지부터 없거나, 이 페이지가 총 4페이지인 경우 #list > tbody > tr:nth-child(4) > td > ul > a:nth-child(11)을 눌러도 아무런 일이 일어나지 않는다. 이때 버튼의 요소는 <a href=\"#\">이다. (위의 예시에서는 a:nth-child(13)인데 아래의 예시에서는 a:nth-child(11)이다. 그 이유는 총 현재 화면에서의 총 페이지의 숫자가 다르기 때문이다. 이 버튼은 #list > tbody > tr:nth-child(4) > td > ul > a의 버튼중 뒤에서 두번째에 있기 때문에 이걸로 구분 가능하다.) (예 : #list > tbody > tr:nth-child(4) > td > ul > a:nth-child(12)는 가장 마지막으로 가는 버튼이므로 그 앞의 #list > tbody > tr:nth-child(4) > td > ul > a:nth-child(11)버튼을 눌러야 한다.)\n",
    "13. 결과 데이터는 데이터프레임으로 저장하여야 한다. \n",
    "14. 또한 오류로 인한 데이터 유실을 막기 위해 하나의 \"시도\"를 끝내고 다음 \"시도\"로 넘어가기 전에 encoding=\"cp949\"로 csv파일을 저장한다.\n",
    "15. WebDriverWait함수를 사용한다."
   ]
  },
  {
   "cell_type": "markdown",
   "metadata": {},
   "source": [
    "### 약 7분~8분 소요됨"
   ]
  },
  {
   "cell_type": "markdown",
   "metadata": {},
   "source": [
    "gpt를 많이 활용하자"
   ]
  },
  {
   "cell_type": "code",
   "execution_count": null,
   "metadata": {},
   "outputs": [
    {
     "ename": "NoSuchWindowException",
     "evalue": "Message: no such window: target window already closed\nfrom unknown error: web view not found\n  (Session info: chrome=134.0.6998.179)\nStacktrace:\n\tGetHandleVerifier [0x00007FF6B7EE4C25+3179557]\n\t(No symbol) [0x00007FF6B7B488A0]\n\t(No symbol) [0x00007FF6B79D91CA]\n\t(No symbol) [0x00007FF6B79B1753]\n\t(No symbol) [0x00007FF6B7A5F83E]\n\t(No symbol) [0x00007FF6B7A7FBE2]\n\t(No symbol) [0x00007FF6B7A57A03]\n\t(No symbol) [0x00007FF6B7A206D0]\n\t(No symbol) [0x00007FF6B7A21983]\n\tGetHandleVerifier [0x00007FF6B7F467CD+3579853]\n\tGetHandleVerifier [0x00007FF6B7F5D1D2+3672530]\n\tGetHandleVerifier [0x00007FF6B7F52153+3627347]\n\tGetHandleVerifier [0x00007FF6B7CB092A+868650]\n\t(No symbol) [0x00007FF6B7B52FFF]\n\t(No symbol) [0x00007FF6B7B4F4A4]\n\t(No symbol) [0x00007FF6B7B4F646]\n\t(No symbol) [0x00007FF6B7B3EAA9]\n\tBaseThreadInitThunk [0x00007FF94B24E8D7+23]\n\tRtlUserThreadStart [0x00007FF94C0BBF6C+44]\n",
     "output_type": "error",
     "traceback": [
      "\u001b[1;31m---------------------------------------------------------------------------\u001b[0m",
      "\u001b[1;31mNoSuchWindowException\u001b[0m                     Traceback (most recent call last)",
      "Cell \u001b[1;32mIn[327], line 11\u001b[0m\n\u001b[0;32m      8\u001b[0m wait \u001b[38;5;241m=\u001b[39m WebDriverWait(driver, \u001b[38;5;241m10\u001b[39m)\n\u001b[0;32m     10\u001b[0m \u001b[38;5;66;03m# 처음에 시도 옵션(텍스트와 value)을 미리 저장 (option:nth-child(2)부터 option:nth-child(19))\u001b[39;00m\n\u001b[1;32m---> 11\u001b[0m select_area_elem \u001b[38;5;241m=\u001b[39m wait\u001b[38;5;241m.\u001b[39muntil(EC\u001b[38;5;241m.\u001b[39mpresence_of_element_located((By\u001b[38;5;241m.\u001b[39mCSS_SELECTOR, \u001b[38;5;124m\"\u001b[39m\u001b[38;5;124m#areaId\u001b[39m\u001b[38;5;124m\"\u001b[39m)))\n\u001b[0;32m     12\u001b[0m select_area \u001b[38;5;241m=\u001b[39m Select(select_area_elem)\n\u001b[0;32m     13\u001b[0m sido_options \u001b[38;5;241m=\u001b[39m []\n",
      "File \u001b[1;32m~\\AppData\\Roaming\\Python\\Python312\\site-packages\\selenium\\webdriver\\support\\wait.py:137\u001b[0m, in \u001b[0;36mWebDriverWait.until\u001b[1;34m(self, method, message)\u001b[0m\n\u001b[0;32m    135\u001b[0m \u001b[38;5;28;01mwhile\u001b[39;00m \u001b[38;5;28;01mTrue\u001b[39;00m:\n\u001b[0;32m    136\u001b[0m     \u001b[38;5;28;01mtry\u001b[39;00m:\n\u001b[1;32m--> 137\u001b[0m         value \u001b[38;5;241m=\u001b[39m method(\u001b[38;5;28mself\u001b[39m\u001b[38;5;241m.\u001b[39m_driver)\n\u001b[0;32m    138\u001b[0m         \u001b[38;5;28;01mif\u001b[39;00m value:\n\u001b[0;32m    139\u001b[0m             \u001b[38;5;28;01mreturn\u001b[39;00m value\n",
      "File \u001b[1;32m~\\AppData\\Roaming\\Python\\Python312\\site-packages\\selenium\\webdriver\\support\\expected_conditions.py:110\u001b[0m, in \u001b[0;36mpresence_of_element_located.<locals>._predicate\u001b[1;34m(driver)\u001b[0m\n\u001b[0;32m    109\u001b[0m \u001b[38;5;28;01mdef\u001b[39;00m \u001b[38;5;21m_predicate\u001b[39m(driver: WebDriverOrWebElement):\n\u001b[1;32m--> 110\u001b[0m     \u001b[38;5;28;01mreturn\u001b[39;00m driver\u001b[38;5;241m.\u001b[39mfind_element(\u001b[38;5;241m*\u001b[39mlocator)\n",
      "File \u001b[1;32m~\\AppData\\Roaming\\Python\\Python312\\site-packages\\selenium\\webdriver\\remote\\webdriver.py:898\u001b[0m, in \u001b[0;36mWebDriver.find_element\u001b[1;34m(self, by, value)\u001b[0m\n\u001b[0;32m    895\u001b[0m         \u001b[38;5;28;01mraise\u001b[39;00m NoSuchElementException(\u001b[38;5;124mf\u001b[39m\u001b[38;5;124m\"\u001b[39m\u001b[38;5;124mCannot locate relative element with: \u001b[39m\u001b[38;5;132;01m{\u001b[39;00mby\u001b[38;5;241m.\u001b[39mroot\u001b[38;5;132;01m}\u001b[39;00m\u001b[38;5;124m\"\u001b[39m)\n\u001b[0;32m    896\u001b[0m     \u001b[38;5;28;01mreturn\u001b[39;00m elements[\u001b[38;5;241m0\u001b[39m]\n\u001b[1;32m--> 898\u001b[0m \u001b[38;5;28;01mreturn\u001b[39;00m \u001b[38;5;28mself\u001b[39m\u001b[38;5;241m.\u001b[39mexecute(Command\u001b[38;5;241m.\u001b[39mFIND_ELEMENT, {\u001b[38;5;124m\"\u001b[39m\u001b[38;5;124musing\u001b[39m\u001b[38;5;124m\"\u001b[39m: by, \u001b[38;5;124m\"\u001b[39m\u001b[38;5;124mvalue\u001b[39m\u001b[38;5;124m\"\u001b[39m: value})[\u001b[38;5;124m\"\u001b[39m\u001b[38;5;124mvalue\u001b[39m\u001b[38;5;124m\"\u001b[39m]\n",
      "File \u001b[1;32m~\\AppData\\Roaming\\Python\\Python312\\site-packages\\selenium\\webdriver\\remote\\webdriver.py:429\u001b[0m, in \u001b[0;36mWebDriver.execute\u001b[1;34m(self, driver_command, params)\u001b[0m\n\u001b[0;32m    427\u001b[0m response \u001b[38;5;241m=\u001b[39m \u001b[38;5;28mself\u001b[39m\u001b[38;5;241m.\u001b[39mcommand_executor\u001b[38;5;241m.\u001b[39mexecute(driver_command, params)\n\u001b[0;32m    428\u001b[0m \u001b[38;5;28;01mif\u001b[39;00m response:\n\u001b[1;32m--> 429\u001b[0m     \u001b[38;5;28mself\u001b[39m\u001b[38;5;241m.\u001b[39merror_handler\u001b[38;5;241m.\u001b[39mcheck_response(response)\n\u001b[0;32m    430\u001b[0m     response[\u001b[38;5;124m\"\u001b[39m\u001b[38;5;124mvalue\u001b[39m\u001b[38;5;124m\"\u001b[39m] \u001b[38;5;241m=\u001b[39m \u001b[38;5;28mself\u001b[39m\u001b[38;5;241m.\u001b[39m_unwrap_value(response\u001b[38;5;241m.\u001b[39mget(\u001b[38;5;124m\"\u001b[39m\u001b[38;5;124mvalue\u001b[39m\u001b[38;5;124m\"\u001b[39m, \u001b[38;5;28;01mNone\u001b[39;00m))\n\u001b[0;32m    431\u001b[0m     \u001b[38;5;28;01mreturn\u001b[39;00m response\n",
      "File \u001b[1;32m~\\AppData\\Roaming\\Python\\Python312\\site-packages\\selenium\\webdriver\\remote\\errorhandler.py:232\u001b[0m, in \u001b[0;36mErrorHandler.check_response\u001b[1;34m(self, response)\u001b[0m\n\u001b[0;32m    230\u001b[0m         alert_text \u001b[38;5;241m=\u001b[39m value[\u001b[38;5;124m\"\u001b[39m\u001b[38;5;124malert\u001b[39m\u001b[38;5;124m\"\u001b[39m]\u001b[38;5;241m.\u001b[39mget(\u001b[38;5;124m\"\u001b[39m\u001b[38;5;124mtext\u001b[39m\u001b[38;5;124m\"\u001b[39m)\n\u001b[0;32m    231\u001b[0m     \u001b[38;5;28;01mraise\u001b[39;00m exception_class(message, screen, stacktrace, alert_text)  \u001b[38;5;66;03m# type: ignore[call-arg]  # mypy is not smart enough here\u001b[39;00m\n\u001b[1;32m--> 232\u001b[0m \u001b[38;5;28;01mraise\u001b[39;00m exception_class(message, screen, stacktrace)\n",
      "\u001b[1;31mNoSuchWindowException\u001b[0m: Message: no such window: target window already closed\nfrom unknown error: web view not found\n  (Session info: chrome=134.0.6998.179)\nStacktrace:\n\tGetHandleVerifier [0x00007FF6B7EE4C25+3179557]\n\t(No symbol) [0x00007FF6B7B488A0]\n\t(No symbol) [0x00007FF6B79D91CA]\n\t(No symbol) [0x00007FF6B79B1753]\n\t(No symbol) [0x00007FF6B7A5F83E]\n\t(No symbol) [0x00007FF6B7A7FBE2]\n\t(No symbol) [0x00007FF6B7A57A03]\n\t(No symbol) [0x00007FF6B7A206D0]\n\t(No symbol) [0x00007FF6B7A21983]\n\tGetHandleVerifier [0x00007FF6B7F467CD+3579853]\n\tGetHandleVerifier [0x00007FF6B7F5D1D2+3672530]\n\tGetHandleVerifier [0x00007FF6B7F52153+3627347]\n\tGetHandleVerifier [0x00007FF6B7CB092A+868650]\n\t(No symbol) [0x00007FF6B7B52FFF]\n\t(No symbol) [0x00007FF6B7B4F4A4]\n\t(No symbol) [0x00007FF6B7B4F646]\n\t(No symbol) [0x00007FF6B7B3EAA9]\n\tBaseThreadInitThunk [0x00007FF94B24E8D7+23]\n\tRtlUserThreadStart [0x00007FF94C0BBF6C+44]\n"
     ]
    }
   ],
   "source": [
    "user_agent = 'Mozilla/5.0 (Windows NT 10.0; Win64; x64) AppleWebKit/537.36 (KHTML, like Gecko) Chrome/134.0.0.0 Safari/537.36'\n",
    "options = webdriver.ChromeOptions()\n",
    "options.add_argument(f\"user-agent={user_agent}\")\n",
    "\n",
    "driver = webdriver.Chrome(options=options)\n",
    "driver.get(\"http://www.alimi.or.kr/dataview/a/selectAgriculturalMarketing.do\")\n",
    "\n",
    "wait = WebDriverWait(driver, 10)\n",
    "\n",
    "# 처음에 시도 옵션(텍스트와 value)을 미리 저장 (option:nth-child(2)부터 option:nth-child(19))\n",
    "select_area_elem = wait.until(EC.presence_of_element_located((By.CSS_SELECTOR, \"#areaId\")))\n",
    "select_area = Select(select_area_elem)\n",
    "sido_options = []\n",
    "for option in select_area.options[1:min(19, len(select_area.options))]:\n",
    "    sido_text = option.text.strip()\n",
    "    sido_value = option.get_attribute(\"value\")\n",
    "    sido_options.append((sido_text, sido_value))\n",
    "\n",
    "results = []\n",
    "\n",
    "# 저장된 sido_options를 순회 (sido에 \"시도\"명이 저장되어있다)\n",
    "for sido, value in sido_options:\n",
    "    print(f\"현재 시도: {sido}\")\n",
    "    # DOM 갱신에 대비하여 시도 선택창을 매번 새로 찾음 (페이지가 바뀌면 HTML이 바뀔 수 있다)\n",
    "    select_area_elem = wait.until(EC.presence_of_element_located((By.CSS_SELECTOR, \"#areaId\")))\n",
    "    select_area = Select(select_area_elem)\n",
    "    select_area.select_by_value(value)\n",
    "    time.sleep(1)  # 화면 갱신 대기\n",
    "\n",
    "    # 검색 버튼 클릭\n",
    "    search_btn = wait.until(EC.element_to_be_clickable(\n",
    "        (By.CSS_SELECTOR, \"#list > tbody > tr:nth-child(1) > td > table > tbody > tr:nth-child(2) > td > table > tbody > tr > td > a > table > tbody > tr > td:nth-child(2)\")\n",
    "    ))\n",
    "    search_btn.click()\n",
    "    time.sleep(1)  # 검색 결과 로드 대기\n",
    "\n",
    "    # 결과 테이블 tr:nth-child(2)의 td에 colspan=\"8\"이면 데이터 없음 -> 다음 \"시도\"로 넘어감\n",
    "    try:\n",
    "        table_body = wait.until(EC.presence_of_element_located(\n",
    "            (By.CSS_SELECTOR, \"#list > tbody > tr:nth-child(3) > td > table > tbody\")\n",
    "        ))\n",
    "        rows = table_body.find_elements(By.TAG_NAME, \"tr\")\n",
    "        if len(rows) >= 2:\n",
    "            cell = rows[1].find_element(By.TAG_NAME, \"td\")\n",
    "            if cell.get_attribute(\"colspan\") == \"8\":\n",
    "                print(f\"[{sido}] 검색결과 없음, 다음 시도로 이동\")\n",
    "                continue\n",
    "        else:\n",
    "            #데이터가 없을 경우우\n",
    "            continue\n",
    "    except Exception as e:\n",
    "        #오류가 발생했을 때\n",
    "        continue\n",
    "\n",
    "    current_page = 1 #항상 첫번째 페이지부터 시작\n",
    "    while True:\n",
    "        print(f\"[{sido}] {current_page}페이지\") #현제 몇페이지인지 출력\n",
    "        # 결과 테이블\n",
    "        table_body = wait.until(EC.presence_of_element_located(\n",
    "            (By.CSS_SELECTOR, \"#list > tbody > tr:nth-child(3) > td > table > tbody\")\n",
    "        ))\n",
    "        rows = table_body.find_elements(By.CSS_SELECTOR, \"tr\")\n",
    "\n",
    "        for row in rows[1:]:\n",
    "            cells = row.find_elements(By.TAG_NAME, \"td\")\n",
    "            if len(cells) < 5 or (cells[0].get_attribute(\"colspan\") and cells[0].get_attribute(\"colspan\") == \"8\"):\n",
    "                continue\n",
    "            classification = cells[1].text.strip()  # \"구분\"\n",
    "            try:\n",
    "                address = row.find_element(By.CSS_SELECTOR, \"td.pl15\").text.strip()  # \"주소\"\n",
    "            except Exception:\n",
    "                address = \"\"\n",
    "            rent = cells[3].text.strip()         # \"연간_임대료(원)\"\n",
    "            area_val = cells[4].text.strip()       # \"면적(㎡)\"\n",
    "            jimok = cells[5].text.strip()       # \"지목\"\n",
    "            results.append({\n",
    "                \"시도\": sido,\n",
    "                \"구분\": classification,\n",
    "                \"주소\": address,\n",
    "                \"연간_임대료(원)\": rent,\n",
    "                \"면적(㎡)\": area_val,\n",
    "                \"지목\": jimok\n",
    "            })\n",
    "\n",
    "        # 페이지 네비게이션 처리 (다음 페이지로 넘어가는 버튼튼)\n",
    "        pagination_buttons = driver.find_elements(By.CSS_SELECTOR, \"#list > tbody > tr:nth-child(4) > td > ul > a\")\n",
    "        if len(pagination_buttons) < 2:\n",
    "            print(f\"[{sido}] 페이지 네비게이션 버튼이 부족하여 종료합니다.\")\n",
    "            break\n",
    "\n",
    "        next_page_btn = None\n",
    "        # 현재 페이지 번호+1에 해당하는 숫자 버튼 탐색\n",
    "        for btn in pagination_buttons:\n",
    "            if btn.text.strip() == str(current_page + 1):\n",
    "                next_page_btn = btn\n",
    "                break\n",
    "        # 만약 숫자 버튼이 없으면 \"다음\" 혹은 \">\" 버튼을 탐색\n",
    "        if next_page_btn is None:\n",
    "            for btn in pagination_buttons:\n",
    "                if btn.text.strip() in [\"다음\", \">\"]:\n",
    "                    next_page_btn = btn\n",
    "                    break\n",
    "\n",
    "        if next_page_btn is None:\n",
    "            #다음 페이지 버튼이 없을 때\n",
    "            break\n",
    "\n",
    "        # href가 \"#\"이거나 텍스트가 비어있으면 더 이상 이동할 수 없음\n",
    "        if next_page_btn.get_attribute(\"href\") == \"#\" or next_page_btn.text.strip() == \"\":\n",
    "            print(f\"[{sido}] 다음 페이지 버튼이 비활성화되어 현재 페이지 {current_page}에서 종료합니다.\")\n",
    "            break\n",
    "\n",
    "        # 현재 테이블 내용 저장 (페이지 변화 확인용)\n",
    "        prev_table_html = table_body.get_attribute(\"innerHTML\")\n",
    "        \n",
    "        try:\n",
    "            next_page_btn.click()\n",
    "        except Exception as e:\n",
    "            #오류가 발생했을 때 \n",
    "            break\n",
    "\n",
    "        time.sleep(1)\n",
    "        # 새 페이지의 테이블 로딩 후 내용 비교\n",
    "        try:\n",
    "            new_table_body = wait.until(EC.presence_of_element_located(\n",
    "                (By.CSS_SELECTOR, \"#list > tbody > tr:nth-child(3) > td > table > tbody\")\n",
    "            ))\n",
    "        except Exception as e:\n",
    "            #오류가 발생했을 때\n",
    "            break\n",
    "        new_table_html = new_table_body.get_attribute(\"innerHTML\")\n",
    "        if prev_table_html == new_table_html:\n",
    "            print(f\"[{sido}] 페이지 내용이 동일하여 다음 페이지가 없는 것으로 판단.\") \n",
    "            #다음 페이지 버튼을 눌렀을 경우, 마지막 페이지의 내용이 유지된다\n",
    "            break\n",
    "\n",
    "        current_page += 1 #다음 페이지로\n",
    "\n",
    "    # csv파일 저장\n",
    "    df = pd.DataFrame(results)\n",
    "    df.to_csv(\"결과데이터/agricultural_marketing_data.csv\", index=False, encoding=\"cp949\")\n",
    "    print(f\"[{sido}] 데이터 저장 완료 (agricultural_marketing_data.csv).\")\n",
    "\n",
    "driver.quit()\n"
   ]
  },
  {
   "cell_type": "code",
   "execution_count": 305,
   "metadata": {},
   "outputs": [
    {
     "data": {
      "text/html": [
       "<div>\n",
       "<style scoped>\n",
       "    .dataframe tbody tr th:only-of-type {\n",
       "        vertical-align: middle;\n",
       "    }\n",
       "\n",
       "    .dataframe tbody tr th {\n",
       "        vertical-align: top;\n",
       "    }\n",
       "\n",
       "    .dataframe thead th {\n",
       "        text-align: right;\n",
       "    }\n",
       "</style>\n",
       "<table border=\"1\" class=\"dataframe\">\n",
       "  <thead>\n",
       "    <tr style=\"text-align: right;\">\n",
       "      <th></th>\n",
       "      <th>시도</th>\n",
       "      <th>구분</th>\n",
       "      <th>주소</th>\n",
       "      <th>연간_임대료(원)</th>\n",
       "      <th>면적(㎡)</th>\n",
       "      <th>지목</th>\n",
       "    </tr>\n",
       "  </thead>\n",
       "  <tbody>\n",
       "    <tr>\n",
       "      <th>0</th>\n",
       "      <td>부산광역시</td>\n",
       "      <td>임대-수탁</td>\n",
       "      <td>부산광역시 기장군 기장읍 만화리 352-2</td>\n",
       "      <td>200,000</td>\n",
       "      <td>1,755</td>\n",
       "      <td>답</td>\n",
       "    </tr>\n",
       "    <tr>\n",
       "      <th>1</th>\n",
       "      <td>부산광역시</td>\n",
       "      <td>임대-수탁</td>\n",
       "      <td>부산광역시 기장군 정관읍 예림리 2</td>\n",
       "      <td>2,000,000</td>\n",
       "      <td>3,478</td>\n",
       "      <td>답</td>\n",
       "    </tr>\n",
       "    <tr>\n",
       "      <th>2</th>\n",
       "      <td>부산광역시</td>\n",
       "      <td>임대-수탁</td>\n",
       "      <td>부산광역시 기장군 정관읍 월평리 108-26</td>\n",
       "      <td>50,000</td>\n",
       "      <td>471</td>\n",
       "      <td>답</td>\n",
       "    </tr>\n",
       "    <tr>\n",
       "      <th>3</th>\n",
       "      <td>부산광역시</td>\n",
       "      <td>임대-수탁</td>\n",
       "      <td>부산광역시 기장군 정관읍 월평리 108-25</td>\n",
       "      <td>250,000</td>\n",
       "      <td>946</td>\n",
       "      <td>답</td>\n",
       "    </tr>\n",
       "    <tr>\n",
       "      <th>4</th>\n",
       "      <td>대구광역시</td>\n",
       "      <td>임대-수탁</td>\n",
       "      <td>대구광역시 군위군 군위읍 하곡리 40</td>\n",
       "      <td>300,000</td>\n",
       "      <td>1,133</td>\n",
       "      <td>답</td>\n",
       "    </tr>\n",
       "    <tr>\n",
       "      <th>...</th>\n",
       "      <td>...</td>\n",
       "      <td>...</td>\n",
       "      <td>...</td>\n",
       "      <td>...</td>\n",
       "      <td>...</td>\n",
       "      <td>...</td>\n",
       "    </tr>\n",
       "    <tr>\n",
       "      <th>2345</th>\n",
       "      <td>전북특별자치도</td>\n",
       "      <td>매도-맞춤형</td>\n",
       "      <td>전북특별자치도 정읍시 신태인읍 양괴리 1515</td>\n",
       "      <td>120,540,000</td>\n",
       "      <td>3,985</td>\n",
       "      <td>답</td>\n",
       "    </tr>\n",
       "    <tr>\n",
       "      <th>2346</th>\n",
       "      <td>전북특별자치도</td>\n",
       "      <td>매도-맞춤형</td>\n",
       "      <td>전북특별자치도 정읍시 영원면 앵성리 1105</td>\n",
       "      <td>150,000,000</td>\n",
       "      <td>3,942</td>\n",
       "      <td>답</td>\n",
       "    </tr>\n",
       "    <tr>\n",
       "      <th>2347</th>\n",
       "      <td>전북특별자치도</td>\n",
       "      <td>매도-경영회생</td>\n",
       "      <td>전북특별자치도 진안군 주천면 대불리 801-1</td>\n",
       "      <td>40,414,000</td>\n",
       "      <td>3,749</td>\n",
       "      <td>전</td>\n",
       "    </tr>\n",
       "    <tr>\n",
       "      <th>2348</th>\n",
       "      <td>전북특별자치도</td>\n",
       "      <td>임대-수탁</td>\n",
       "      <td>전북특별자치도 진안군 주천면 운봉리 197</td>\n",
       "      <td>320,000</td>\n",
       "      <td>2,519</td>\n",
       "      <td>답</td>\n",
       "    </tr>\n",
       "    <tr>\n",
       "      <th>2349</th>\n",
       "      <td>전북특별자치도</td>\n",
       "      <td>임대-수탁</td>\n",
       "      <td>전북특별자치도 진안군 주천면 운봉리 362</td>\n",
       "      <td>110,000</td>\n",
       "      <td>1,279</td>\n",
       "      <td>전</td>\n",
       "    </tr>\n",
       "  </tbody>\n",
       "</table>\n",
       "<p>2350 rows × 6 columns</p>\n",
       "</div>"
      ],
      "text/plain": [
       "           시도       구분                         주소    연간_임대료(원)  면적(㎡) 지목\n",
       "0       부산광역시    임대-수탁    부산광역시 기장군 기장읍 만화리 352-2      200,000  1,755  답\n",
       "1       부산광역시    임대-수탁        부산광역시 기장군 정관읍 예림리 2    2,000,000  3,478  답\n",
       "2       부산광역시    임대-수탁   부산광역시 기장군 정관읍 월평리 108-26       50,000    471  답\n",
       "3       부산광역시    임대-수탁   부산광역시 기장군 정관읍 월평리 108-25      250,000    946  답\n",
       "4       대구광역시    임대-수탁       대구광역시 군위군 군위읍 하곡리 40      300,000  1,133  답\n",
       "...       ...      ...                        ...          ...    ... ..\n",
       "2345  전북특별자치도   매도-맞춤형  전북특별자치도 정읍시 신태인읍 양괴리 1515  120,540,000  3,985  답\n",
       "2346  전북특별자치도   매도-맞춤형   전북특별자치도 정읍시 영원면 앵성리 1105  150,000,000  3,942  답\n",
       "2347  전북특별자치도  매도-경영회생  전북특별자치도 진안군 주천면 대불리 801-1   40,414,000  3,749  전\n",
       "2348  전북특별자치도    임대-수탁    전북특별자치도 진안군 주천면 운봉리 197      320,000  2,519  답\n",
       "2349  전북특별자치도    임대-수탁    전북특별자치도 진안군 주천면 운봉리 362      110,000  1,279  전\n",
       "\n",
       "[2350 rows x 6 columns]"
      ]
     },
     "execution_count": 305,
     "metadata": {},
     "output_type": "execute_result"
    }
   ],
   "source": [
    "df"
   ]
  },
  {
   "cell_type": "markdown",
   "metadata": {},
   "source": [
    "잘 크롤링되었다."
   ]
  },
  {
   "cell_type": "markdown",
   "metadata": {},
   "source": [
    "## 전처리"
   ]
  },
  {
   "cell_type": "code",
   "execution_count": 315,
   "metadata": {},
   "outputs": [
    {
     "data": {
      "text/plain": [
       "시도           0\n",
       "구분           0\n",
       "주소           0\n",
       "연간_임대료(원)    0\n",
       "면적(㎡)        0\n",
       "지목           0\n",
       "dtype: int64"
      ]
     },
     "execution_count": 315,
     "metadata": {},
     "output_type": "execute_result"
    }
   ],
   "source": [
    "df.isna().sum()"
   ]
  },
  {
   "cell_type": "code",
   "execution_count": 316,
   "metadata": {},
   "outputs": [
    {
     "data": {
      "text/plain": [
       "시도           object\n",
       "구분           object\n",
       "주소           object\n",
       "연간_임대료(원)    object\n",
       "면적(㎡)        object\n",
       "지목           object\n",
       "dtype: object"
      ]
     },
     "execution_count": 316,
     "metadata": {},
     "output_type": "execute_result"
    }
   ],
   "source": [
    "df.dtypes"
   ]
  },
  {
   "cell_type": "markdown",
   "metadata": {},
   "source": [
    "연간_임대료(원), 면적(㎡)에 쉼표를 제거하고 숫자형식으로 바꾸자"
   ]
  },
  {
   "cell_type": "code",
   "execution_count": 321,
   "metadata": {},
   "outputs": [],
   "source": [
    "df[\"연간_임대료(원)\"] = df[\"연간_임대료(원)\"].astype(str).str.replace(\",\", \"\").astype(float)\n",
    "df[\"면적(㎡)\"] = df[\"면적(㎡)\"].astype(str).str.replace(\",\", \"\").astype(float)"
   ]
  },
  {
   "cell_type": "code",
   "execution_count": 322,
   "metadata": {},
   "outputs": [
    {
     "data": {
      "text/plain": [
       "시도            object\n",
       "구분            object\n",
       "주소            object\n",
       "연간_임대료(원)    float64\n",
       "면적(㎡)        float64\n",
       "지목            object\n",
       "dtype: object"
      ]
     },
     "execution_count": 322,
     "metadata": {},
     "output_type": "execute_result"
    }
   ],
   "source": [
    "df.dtypes"
   ]
  },
  {
   "cell_type": "markdown",
   "metadata": {},
   "source": [
    "## 주소 분할"
   ]
  },
  {
   "cell_type": "code",
   "execution_count": 22,
   "metadata": {},
   "outputs": [],
   "source": [
    "df[[\"시도\", \"시군구\", \"읍면동\", \"상세주소\"]] = df[\"주소\"].apply(split_full_address)"
   ]
  },
  {
   "cell_type": "code",
   "execution_count": 23,
   "metadata": {},
   "outputs": [
    {
     "data": {
      "text/plain": [
       "array(['부산광역시', '대구광역시', '인천광역시', '광주광역시', '울산광역시', '세종특별자치시', '경기도',\n",
       "       '충청북도', '충청남도', '전라남도', '경상북도', '경상남도', '제주특별자치도', '전북특별자치도'],\n",
       "      dtype=object)"
      ]
     },
     "execution_count": 23,
     "metadata": {},
     "output_type": "execute_result"
    }
   ],
   "source": [
    "df.시도.unique()"
   ]
  },
  {
   "cell_type": "code",
   "execution_count": 30,
   "metadata": {},
   "outputs": [
    {
     "data": {
      "text/plain": [
       "County            0\n",
       "City              0\n",
       "Town              0\n",
       "Address           0\n",
       "Annual_Rent(₩)    0\n",
       "Area(㎡)           0\n",
       "Land_Type         0\n",
       "dtype: int64"
      ]
     },
     "execution_count": 30,
     "metadata": {},
     "output_type": "execute_result"
    }
   ],
   "source": [
    "df.isna().sum()"
   ]
  },
  {
   "cell_type": "code",
   "execution_count": 26,
   "metadata": {},
   "outputs": [
    {
     "data": {
      "text/html": [
       "<div>\n",
       "<style scoped>\n",
       "    .dataframe tbody tr th:only-of-type {\n",
       "        vertical-align: middle;\n",
       "    }\n",
       "\n",
       "    .dataframe tbody tr th {\n",
       "        vertical-align: top;\n",
       "    }\n",
       "\n",
       "    .dataframe thead th {\n",
       "        text-align: right;\n",
       "    }\n",
       "</style>\n",
       "<table border=\"1\" class=\"dataframe\">\n",
       "  <thead>\n",
       "    <tr style=\"text-align: right;\">\n",
       "      <th></th>\n",
       "      <th>시도</th>\n",
       "      <th>시군구</th>\n",
       "      <th>읍면동</th>\n",
       "      <th>상세주소</th>\n",
       "      <th>연간_임대료(원)</th>\n",
       "      <th>면적(㎡)</th>\n",
       "      <th>지목</th>\n",
       "    </tr>\n",
       "  </thead>\n",
       "  <tbody>\n",
       "    <tr>\n",
       "      <th>0</th>\n",
       "      <td>부산광역시</td>\n",
       "      <td>기장군</td>\n",
       "      <td>기장읍</td>\n",
       "      <td>만화리 352-2</td>\n",
       "      <td>200000.0</td>\n",
       "      <td>1755.0</td>\n",
       "      <td>답</td>\n",
       "    </tr>\n",
       "  </tbody>\n",
       "</table>\n",
       "</div>"
      ],
      "text/plain": [
       "      시도  시군구  읍면동       상세주소  연간_임대료(원)   면적(㎡) 지목\n",
       "0  부산광역시  기장군  기장읍  만화리 352-2   200000.0  1755.0  답"
      ]
     },
     "execution_count": 26,
     "metadata": {},
     "output_type": "execute_result"
    }
   ],
   "source": [
    "df=df[[\"시도\",\"시군구\",\"읍면동\",\"상세주소\",\"연간_임대료(원)\", \"면적(㎡)\", \"지목\"]]\n",
    "df.head(1)"
   ]
  },
  {
   "cell_type": "code",
   "execution_count": null,
   "metadata": {},
   "outputs": [
    {
     "data": {
      "text/html": [
       "<div>\n",
       "<style scoped>\n",
       "    .dataframe tbody tr th:only-of-type {\n",
       "        vertical-align: middle;\n",
       "    }\n",
       "\n",
       "    .dataframe tbody tr th {\n",
       "        vertical-align: top;\n",
       "    }\n",
       "\n",
       "    .dataframe thead th {\n",
       "        text-align: right;\n",
       "    }\n",
       "</style>\n",
       "<table border=\"1\" class=\"dataframe\">\n",
       "  <thead>\n",
       "    <tr style=\"text-align: right;\">\n",
       "      <th></th>\n",
       "      <th>County</th>\n",
       "      <th>City</th>\n",
       "      <th>Town</th>\n",
       "      <th>Address</th>\n",
       "      <th>Annual_Rent(₩)</th>\n",
       "      <th>Area(㎡)</th>\n",
       "      <th>Land_Type</th>\n",
       "    </tr>\n",
       "  </thead>\n",
       "  <tbody>\n",
       "    <tr>\n",
       "      <th>0</th>\n",
       "      <td>부산광역시</td>\n",
       "      <td>기장군</td>\n",
       "      <td>기장읍</td>\n",
       "      <td>만화리 352-2</td>\n",
       "      <td>200000.0</td>\n",
       "      <td>1755.0</td>\n",
       "      <td>답</td>\n",
       "    </tr>\n",
       "  </tbody>\n",
       "</table>\n",
       "</div>"
      ],
      "text/plain": [
       "  County City Town    Address  Annual_Rent(₩)  Area(㎡) Land_Type\n",
       "0  부산광역시  기장군  기장읍  만화리 352-2        200000.0   1755.0         답"
      ]
     },
     "execution_count": 28,
     "metadata": {},
     "output_type": "execute_result"
    }
   ],
   "source": [
    "df.columns=[\"County\",\"City\",\"Town\",\"Address\",\"Annual_Rent\",\"Area\",\"Land_Type\"]\n",
    "df.head(1)"
   ]
  },
  {
   "cell_type": "markdown",
   "metadata": {},
   "source": [
    "## 저장"
   ]
  },
  {
   "cell_type": "code",
   "execution_count": null,
   "metadata": {},
   "outputs": [],
   "source": [
    "df.to_csv(\"결과데이터/전국농지매물정보.csv\", index=False, encoding=\"utf-8-sig\")"
   ]
  }
 ],
 "metadata": {
  "kernelspec": {
   "display_name": "base",
   "language": "python",
   "name": "python3"
  },
  "language_info": {
   "codemirror_mode": {
    "name": "ipython",
    "version": 3
   },
   "file_extension": ".py",
   "mimetype": "text/x-python",
   "name": "python",
   "nbconvert_exporter": "python",
   "pygments_lexer": "ipython3",
   "version": "3.12.7"
  }
 },
 "nbformat": 4,
 "nbformat_minor": 2
}
